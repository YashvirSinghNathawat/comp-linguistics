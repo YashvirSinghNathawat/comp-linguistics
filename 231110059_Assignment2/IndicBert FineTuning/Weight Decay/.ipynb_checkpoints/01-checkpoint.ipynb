{
 "cells": [
  {
   "cell_type": "code",
   "execution_count": 1,
   "metadata": {
    "_cell_guid": "b1076dfc-b9ad-4769-8c92-a6c4dae69d19",
    "_uuid": "8f2839f25d086af736a60e9eeb907d3b93b6e0e5",
    "execution": {
     "iopub.execute_input": "2024-03-13T10:39:52.491424Z",
     "iopub.status.busy": "2024-03-13T10:39:52.490771Z",
     "iopub.status.idle": "2024-03-13T10:40:57.742235Z",
     "shell.execute_reply": "2024-03-13T10:40:57.741026Z",
     "shell.execute_reply.started": "2024-03-13T10:39:52.491378Z"
    }
   },
   "outputs": [
    {
     "name": "stdout",
     "output_type": "stream",
     "text": [
      "Requirement already satisfied: datasets in /opt/conda/lib/python3.10/site-packages (2.1.0)\n",
      "Requirement already satisfied: numpy>=1.17 in /opt/conda/lib/python3.10/site-packages (from datasets) (1.26.4)\n",
      "Requirement already satisfied: pyarrow>=5.0.0 in /opt/conda/lib/python3.10/site-packages (from datasets) (11.0.0)\n",
      "Requirement already satisfied: dill in /opt/conda/lib/python3.10/site-packages (from datasets) (0.3.8)\n",
      "Requirement already satisfied: pandas in /opt/conda/lib/python3.10/site-packages (from datasets) (2.1.4)\n",
      "Requirement already satisfied: requests>=2.19.0 in /opt/conda/lib/python3.10/site-packages (from datasets) (2.31.0)\n",
      "Requirement already satisfied: tqdm>=4.62.1 in /opt/conda/lib/python3.10/site-packages (from datasets) (4.66.1)\n",
      "Requirement already satisfied: xxhash in /opt/conda/lib/python3.10/site-packages (from datasets) (3.4.1)\n",
      "Requirement already satisfied: multiprocess in /opt/conda/lib/python3.10/site-packages (from datasets) (0.70.16)\n",
      "Requirement already satisfied: fsspec>=2021.05.0 in /opt/conda/lib/python3.10/site-packages (from fsspec[http]>=2021.05.0->datasets) (2024.2.0)\n",
      "Requirement already satisfied: aiohttp in /opt/conda/lib/python3.10/site-packages (from datasets) (3.9.1)\n",
      "Requirement already satisfied: huggingface-hub<1.0.0,>=0.1.0 in /opt/conda/lib/python3.10/site-packages (from datasets) (0.20.3)\n",
      "Requirement already satisfied: packaging in /opt/conda/lib/python3.10/site-packages (from datasets) (21.3)\n",
      "Requirement already satisfied: responses<0.19 in /opt/conda/lib/python3.10/site-packages (from datasets) (0.18.0)\n",
      "Requirement already satisfied: attrs>=17.3.0 in /opt/conda/lib/python3.10/site-packages (from aiohttp->datasets) (23.2.0)\n",
      "Requirement already satisfied: multidict<7.0,>=4.5 in /opt/conda/lib/python3.10/site-packages (from aiohttp->datasets) (6.0.4)\n",
      "Requirement already satisfied: yarl<2.0,>=1.0 in /opt/conda/lib/python3.10/site-packages (from aiohttp->datasets) (1.9.3)\n",
      "Requirement already satisfied: frozenlist>=1.1.1 in /opt/conda/lib/python3.10/site-packages (from aiohttp->datasets) (1.4.1)\n",
      "Requirement already satisfied: aiosignal>=1.1.2 in /opt/conda/lib/python3.10/site-packages (from aiohttp->datasets) (1.3.1)\n",
      "Requirement already satisfied: async-timeout<5.0,>=4.0 in /opt/conda/lib/python3.10/site-packages (from aiohttp->datasets) (4.0.3)\n",
      "Requirement already satisfied: filelock in /opt/conda/lib/python3.10/site-packages (from huggingface-hub<1.0.0,>=0.1.0->datasets) (3.13.1)\n",
      "Requirement already satisfied: pyyaml>=5.1 in /opt/conda/lib/python3.10/site-packages (from huggingface-hub<1.0.0,>=0.1.0->datasets) (6.0.1)\n",
      "Requirement already satisfied: typing-extensions>=3.7.4.3 in /opt/conda/lib/python3.10/site-packages (from huggingface-hub<1.0.0,>=0.1.0->datasets) (4.9.0)\n",
      "Requirement already satisfied: pyparsing!=3.0.5,>=2.0.2 in /opt/conda/lib/python3.10/site-packages (from packaging->datasets) (3.1.1)\n",
      "Requirement already satisfied: charset-normalizer<4,>=2 in /opt/conda/lib/python3.10/site-packages (from requests>=2.19.0->datasets) (3.3.2)\n",
      "Requirement already satisfied: idna<4,>=2.5 in /opt/conda/lib/python3.10/site-packages (from requests>=2.19.0->datasets) (3.6)\n",
      "Requirement already satisfied: urllib3<3,>=1.21.1 in /opt/conda/lib/python3.10/site-packages (from requests>=2.19.0->datasets) (1.26.18)\n",
      "Requirement already satisfied: certifi>=2017.4.17 in /opt/conda/lib/python3.10/site-packages (from requests>=2.19.0->datasets) (2024.2.2)\n",
      "Requirement already satisfied: python-dateutil>=2.8.2 in /opt/conda/lib/python3.10/site-packages (from pandas->datasets) (2.8.2)\n",
      "Requirement already satisfied: pytz>=2020.1 in /opt/conda/lib/python3.10/site-packages (from pandas->datasets) (2023.3.post1)\n",
      "Requirement already satisfied: tzdata>=2022.1 in /opt/conda/lib/python3.10/site-packages (from pandas->datasets) (2023.4)\n",
      "Requirement already satisfied: six>=1.5 in /opt/conda/lib/python3.10/site-packages (from python-dateutil>=2.8.2->pandas->datasets) (1.16.0)\n",
      "Requirement already satisfied: sentencepiece in /opt/conda/lib/python3.10/site-packages (0.2.0)\n",
      "Collecting seqeval\n",
      "  Downloading seqeval-1.2.2.tar.gz (43 kB)\n",
      "\u001b[2K     \u001b[90m━━━━━━━━━━━━━━━━━━━━━━━━━━━━━━━━━━━━━━━━\u001b[0m \u001b[32m43.6/43.6 kB\u001b[0m \u001b[31m2.1 MB/s\u001b[0m eta \u001b[36m0:00:00\u001b[0m\n",
      "\u001b[?25h  Preparing metadata (setup.py) ... \u001b[?25ldone\n",
      "\u001b[?25hRequirement already satisfied: numpy>=1.14.0 in /opt/conda/lib/python3.10/site-packages (from seqeval) (1.26.4)\n",
      "Requirement already satisfied: scikit-learn>=0.21.3 in /opt/conda/lib/python3.10/site-packages (from seqeval) (1.2.2)\n",
      "Requirement already satisfied: scipy>=1.3.2 in /opt/conda/lib/python3.10/site-packages (from scikit-learn>=0.21.3->seqeval) (1.11.4)\n",
      "Requirement already satisfied: joblib>=1.1.1 in /opt/conda/lib/python3.10/site-packages (from scikit-learn>=0.21.3->seqeval) (1.3.2)\n",
      "Requirement already satisfied: threadpoolctl>=2.0.0 in /opt/conda/lib/python3.10/site-packages (from scikit-learn>=0.21.3->seqeval) (3.2.0)\n",
      "Building wheels for collected packages: seqeval\n",
      "  Building wheel for seqeval (setup.py) ... \u001b[?25ldone\n",
      "\u001b[?25h  Created wheel for seqeval: filename=seqeval-1.2.2-py3-none-any.whl size=16162 sha256=9644f4564b7257a86cc97ca727b2d327c3c896d521f47d1360b42fe8376e9496\n",
      "  Stored in directory: /root/.cache/pip/wheels/1a/67/4a/ad4082dd7dfc30f2abfe4d80a2ed5926a506eb8a972b4767fa\n",
      "Successfully built seqeval\n",
      "Installing collected packages: seqeval\n",
      "Successfully installed seqeval-1.2.2\n",
      "Requirement already satisfied: transformers[torch] in /opt/conda/lib/python3.10/site-packages (4.38.1)\n",
      "Requirement already satisfied: filelock in /opt/conda/lib/python3.10/site-packages (from transformers[torch]) (3.13.1)\n",
      "Requirement already satisfied: huggingface-hub<1.0,>=0.19.3 in /opt/conda/lib/python3.10/site-packages (from transformers[torch]) (0.20.3)\n",
      "Requirement already satisfied: numpy>=1.17 in /opt/conda/lib/python3.10/site-packages (from transformers[torch]) (1.26.4)\n",
      "Requirement already satisfied: packaging>=20.0 in /opt/conda/lib/python3.10/site-packages (from transformers[torch]) (21.3)\n",
      "Requirement already satisfied: pyyaml>=5.1 in /opt/conda/lib/python3.10/site-packages (from transformers[torch]) (6.0.1)\n",
      "Requirement already satisfied: regex!=2019.12.17 in /opt/conda/lib/python3.10/site-packages (from transformers[torch]) (2023.12.25)\n",
      "Requirement already satisfied: requests in /opt/conda/lib/python3.10/site-packages (from transformers[torch]) (2.31.0)\n",
      "Requirement already satisfied: tokenizers<0.19,>=0.14 in /opt/conda/lib/python3.10/site-packages (from transformers[torch]) (0.15.2)\n",
      "Requirement already satisfied: safetensors>=0.4.1 in /opt/conda/lib/python3.10/site-packages (from transformers[torch]) (0.4.2)\n",
      "Requirement already satisfied: tqdm>=4.27 in /opt/conda/lib/python3.10/site-packages (from transformers[torch]) (4.66.1)\n",
      "Requirement already satisfied: torch in /opt/conda/lib/python3.10/site-packages (from transformers[torch]) (2.1.2)\n",
      "Requirement already satisfied: accelerate>=0.21.0 in /opt/conda/lib/python3.10/site-packages (from transformers[torch]) (0.27.2)\n",
      "Requirement already satisfied: psutil in /opt/conda/lib/python3.10/site-packages (from accelerate>=0.21.0->transformers[torch]) (5.9.3)\n",
      "Requirement already satisfied: fsspec>=2023.5.0 in /opt/conda/lib/python3.10/site-packages (from huggingface-hub<1.0,>=0.19.3->transformers[torch]) (2024.2.0)\n",
      "Requirement already satisfied: typing-extensions>=3.7.4.3 in /opt/conda/lib/python3.10/site-packages (from huggingface-hub<1.0,>=0.19.3->transformers[torch]) (4.9.0)\n",
      "Requirement already satisfied: pyparsing!=3.0.5,>=2.0.2 in /opt/conda/lib/python3.10/site-packages (from packaging>=20.0->transformers[torch]) (3.1.1)\n",
      "Requirement already satisfied: sympy in /opt/conda/lib/python3.10/site-packages (from torch->transformers[torch]) (1.12)\n",
      "Requirement already satisfied: networkx in /opt/conda/lib/python3.10/site-packages (from torch->transformers[torch]) (3.2.1)\n",
      "Requirement already satisfied: jinja2 in /opt/conda/lib/python3.10/site-packages (from torch->transformers[torch]) (3.1.2)\n",
      "Requirement already satisfied: charset-normalizer<4,>=2 in /opt/conda/lib/python3.10/site-packages (from requests->transformers[torch]) (3.3.2)\n",
      "Requirement already satisfied: idna<4,>=2.5 in /opt/conda/lib/python3.10/site-packages (from requests->transformers[torch]) (3.6)\n",
      "Requirement already satisfied: urllib3<3,>=1.21.1 in /opt/conda/lib/python3.10/site-packages (from requests->transformers[torch]) (1.26.18)\n",
      "Requirement already satisfied: certifi>=2017.4.17 in /opt/conda/lib/python3.10/site-packages (from requests->transformers[torch]) (2024.2.2)\n",
      "Requirement already satisfied: MarkupSafe>=2.0 in /opt/conda/lib/python3.10/site-packages (from jinja2->torch->transformers[torch]) (2.1.3)\n",
      "Requirement already satisfied: mpmath>=0.19 in /opt/conda/lib/python3.10/site-packages (from sympy->torch->transformers[torch]) (1.3.0)\n",
      "Requirement already satisfied: accelerate in /opt/conda/lib/python3.10/site-packages (0.27.2)\n",
      "Collecting accelerate\n",
      "  Downloading accelerate-0.28.0-py3-none-any.whl.metadata (18 kB)\n",
      "Requirement already satisfied: numpy>=1.17 in /opt/conda/lib/python3.10/site-packages (from accelerate) (1.26.4)\n",
      "Requirement already satisfied: packaging>=20.0 in /opt/conda/lib/python3.10/site-packages (from accelerate) (21.3)\n",
      "Requirement already satisfied: psutil in /opt/conda/lib/python3.10/site-packages (from accelerate) (5.9.3)\n",
      "Requirement already satisfied: pyyaml in /opt/conda/lib/python3.10/site-packages (from accelerate) (6.0.1)\n",
      "Requirement already satisfied: torch>=1.10.0 in /opt/conda/lib/python3.10/site-packages (from accelerate) (2.1.2)\n",
      "Requirement already satisfied: huggingface-hub in /opt/conda/lib/python3.10/site-packages (from accelerate) (0.20.3)\n",
      "Requirement already satisfied: safetensors>=0.3.1 in /opt/conda/lib/python3.10/site-packages (from accelerate) (0.4.2)\n",
      "Requirement already satisfied: pyparsing!=3.0.5,>=2.0.2 in /opt/conda/lib/python3.10/site-packages (from packaging>=20.0->accelerate) (3.1.1)\n",
      "Requirement already satisfied: filelock in /opt/conda/lib/python3.10/site-packages (from torch>=1.10.0->accelerate) (3.13.1)\n",
      "Requirement already satisfied: typing-extensions in /opt/conda/lib/python3.10/site-packages (from torch>=1.10.0->accelerate) (4.9.0)\n",
      "Requirement already satisfied: sympy in /opt/conda/lib/python3.10/site-packages (from torch>=1.10.0->accelerate) (1.12)\n",
      "Requirement already satisfied: networkx in /opt/conda/lib/python3.10/site-packages (from torch>=1.10.0->accelerate) (3.2.1)\n",
      "Requirement already satisfied: jinja2 in /opt/conda/lib/python3.10/site-packages (from torch>=1.10.0->accelerate) (3.1.2)\n",
      "Requirement already satisfied: fsspec in /opt/conda/lib/python3.10/site-packages (from torch>=1.10.0->accelerate) (2024.2.0)\n",
      "Requirement already satisfied: requests in /opt/conda/lib/python3.10/site-packages (from huggingface-hub->accelerate) (2.31.0)\n",
      "Requirement already satisfied: tqdm>=4.42.1 in /opt/conda/lib/python3.10/site-packages (from huggingface-hub->accelerate) (4.66.1)\n",
      "Requirement already satisfied: MarkupSafe>=2.0 in /opt/conda/lib/python3.10/site-packages (from jinja2->torch>=1.10.0->accelerate) (2.1.3)\n",
      "Requirement already satisfied: charset-normalizer<4,>=2 in /opt/conda/lib/python3.10/site-packages (from requests->huggingface-hub->accelerate) (3.3.2)\n",
      "Requirement already satisfied: idna<4,>=2.5 in /opt/conda/lib/python3.10/site-packages (from requests->huggingface-hub->accelerate) (3.6)\n",
      "Requirement already satisfied: urllib3<3,>=1.21.1 in /opt/conda/lib/python3.10/site-packages (from requests->huggingface-hub->accelerate) (1.26.18)\n",
      "Requirement already satisfied: certifi>=2017.4.17 in /opt/conda/lib/python3.10/site-packages (from requests->huggingface-hub->accelerate) (2024.2.2)\n",
      "Requirement already satisfied: mpmath>=0.19 in /opt/conda/lib/python3.10/site-packages (from sympy->torch>=1.10.0->accelerate) (1.3.0)\n",
      "Downloading accelerate-0.28.0-py3-none-any.whl (290 kB)\n",
      "\u001b[2K   \u001b[90m━━━━━━━━━━━━━━━━━━━━━━━━━━━━━━━━━━━━━━━━\u001b[0m \u001b[32m290.1/290.1 kB\u001b[0m \u001b[31m8.4 MB/s\u001b[0m eta \u001b[36m0:00:00\u001b[0m\n",
      "\u001b[?25hInstalling collected packages: accelerate\n",
      "  Attempting uninstall: accelerate\n",
      "    Found existing installation: accelerate 0.27.2\n",
      "    Uninstalling accelerate-0.27.2:\n",
      "      Successfully uninstalled accelerate-0.27.2\n",
      "Successfully installed accelerate-0.28.0\n"
     ]
    }
   ],
   "source": [
    "!pip3 install datasets\n",
    "!pip3 install sentencepiece\n",
    "!pip3 install seqeval\n",
    "!pip install transformers[torch]\n",
    "!pip install accelerate -U"
   ]
  },
  {
   "cell_type": "code",
   "execution_count": 2,
   "metadata": {
    "execution": {
     "iopub.execute_input": "2024-03-13T10:40:57.744578Z",
     "iopub.status.busy": "2024-03-13T10:40:57.744276Z",
     "iopub.status.idle": "2024-03-13T10:40:59.316666Z",
     "shell.execute_reply": "2024-03-13T10:40:59.315670Z",
     "shell.execute_reply.started": "2024-03-13T10:40:57.744552Z"
    }
   },
   "outputs": [],
   "source": [
    "import datasets\n",
    "import pandas as pd"
   ]
  },
  {
   "cell_type": "code",
   "execution_count": 3,
   "metadata": {
    "execution": {
     "iopub.execute_input": "2024-03-13T10:40:59.318779Z",
     "iopub.status.busy": "2024-03-13T10:40:59.318303Z",
     "iopub.status.idle": "2024-03-13T10:44:23.164845Z",
     "shell.execute_reply": "2024-03-13T10:44:23.163908Z",
     "shell.execute_reply.started": "2024-03-13T10:40:59.318753Z"
    }
   },
   "outputs": [
    {
     "data": {
      "application/vnd.jupyter.widget-view+json": {
       "model_id": "e1a4a6d63ca1418bb969a6cdd1d5dcd0",
       "version_major": 2,
       "version_minor": 0
      },
      "text/plain": [
       "Downloading builder script:   0%|          | 0.00/2.86k [00:00<?, ?B/s]"
      ]
     },
     "metadata": {},
     "output_type": "display_data"
    },
    {
     "name": "stdout",
     "output_type": "stream",
     "text": [
      "Downloading and preparing dataset naamapadam_pr/hi to /root/.cache/huggingface/datasets/ai4bharat___naamapadam_pr/hi/1.0.0/99b5ec77eabfaa3fbff510d8cf70d7c34519486cb7dbee99ede19474ddff9b20...\n"
     ]
    },
    {
     "data": {
      "application/vnd.jupyter.widget-view+json": {
       "model_id": "2c12702b9de74189badab6276df47661",
       "version_major": 2,
       "version_minor": 0
      },
      "text/plain": [
       "Downloading data:   0%|          | 0.00/82.3M [00:00<?, ?B/s]"
      ]
     },
     "metadata": {},
     "output_type": "display_data"
    },
    {
     "data": {
      "application/vnd.jupyter.widget-view+json": {
       "model_id": "",
       "version_major": 2,
       "version_minor": 0
      },
      "text/plain": [
       "Generating train split: 0 examples [00:00, ? examples/s]"
      ]
     },
     "metadata": {},
     "output_type": "display_data"
    },
    {
     "data": {
      "application/vnd.jupyter.widget-view+json": {
       "model_id": "",
       "version_major": 2,
       "version_minor": 0
      },
      "text/plain": [
       "Generating test split: 0 examples [00:00, ? examples/s]"
      ]
     },
     "metadata": {},
     "output_type": "display_data"
    },
    {
     "data": {
      "application/vnd.jupyter.widget-view+json": {
       "model_id": "",
       "version_major": 2,
       "version_minor": 0
      },
      "text/plain": [
       "Generating validation split: 0 examples [00:00, ? examples/s]"
      ]
     },
     "metadata": {},
     "output_type": "display_data"
    },
    {
     "name": "stdout",
     "output_type": "stream",
     "text": [
      "Dataset naamapadam_pr downloaded and prepared to /root/.cache/huggingface/datasets/ai4bharat___naamapadam_pr/hi/1.0.0/99b5ec77eabfaa3fbff510d8cf70d7c34519486cb7dbee99ede19474ddff9b20. Subsequent calls will reuse this data.\n"
     ]
    }
   ],
   "source": [
    "# Let's download the Naampadam (Indic NER) dataset\n",
    "from datasets import ClassLabel, load_dataset, load_metric, DownloadMode\n",
    "\n",
    "lang='hi'\n",
    "\n",
    "train_dataset = load_dataset('ai4bharat/naamapadam', lang , split = 'train[:20000]')\n",
    "validation_dataset = load_dataset('ai4bharat/naamapadam', lang , split = 'validation')\n",
    "test_dataset = load_dataset('ai4bharat/naamapadam', lang , split = 'test')\n",
    "\n"
   ]
  },
  {
   "cell_type": "code",
   "execution_count": 4,
   "metadata": {
    "execution": {
     "iopub.execute_input": "2024-03-13T10:44:23.167376Z",
     "iopub.status.busy": "2024-03-13T10:44:23.167042Z",
     "iopub.status.idle": "2024-03-13T10:44:23.172096Z",
     "shell.execute_reply": "2024-03-13T10:44:23.171123Z",
     "shell.execute_reply.started": "2024-03-13T10:44:23.167349Z"
    }
   },
   "outputs": [
    {
     "name": "stdout",
     "output_type": "stream",
     "text": [
      "{'tokens': Sequence(feature=Value(dtype='string', id=None), length=-1, id=None), 'ner_tags': Sequence(feature=ClassLabel(num_classes=7, names=['O', 'B-PER', 'I-PER', 'B-ORG', 'I-ORG', 'B-LOC', 'I-LOC'], id=None), length=-1, id=None)}\n"
     ]
    }
   ],
   "source": [
    "features = train_dataset.features\n",
    "print(features)"
   ]
  },
  {
   "cell_type": "code",
   "execution_count": 5,
   "metadata": {
    "execution": {
     "iopub.execute_input": "2024-03-13T10:44:23.173497Z",
     "iopub.status.busy": "2024-03-13T10:44:23.173240Z",
     "iopub.status.idle": "2024-03-13T10:44:23.182548Z",
     "shell.execute_reply": "2024-03-13T10:44:23.181643Z",
     "shell.execute_reply.started": "2024-03-13T10:44:23.173474Z"
    }
   },
   "outputs": [
    {
     "name": "stdout",
     "output_type": "stream",
     "text": [
      "{'O': 0, 'B-PER': 1, 'I-PER': 2, 'B-ORG': 3, 'I-ORG': 4, 'B-LOC': 5, 'I-LOC': 6}\n"
     ]
    }
   ],
   "source": [
    "text_column_name = \"tokens\"\n",
    "label_column_name = \"ner_tags\"\n",
    "\n",
    "label_list = features[label_column_name].feature.names\n",
    "\n",
    "label_to_id = {label_list[i]: features[label_column_name].feature.str2int( label_list[i] ) for i in range(len(label_list))}\n",
    "\n",
    "print(label_to_id)\n",
    "\n",
    "num_labels = len(label_list)\n"
   ]
  },
  {
   "cell_type": "code",
   "execution_count": 6,
   "metadata": {
    "execution": {
     "iopub.execute_input": "2024-03-13T10:44:23.183843Z",
     "iopub.status.busy": "2024-03-13T10:44:23.183572Z",
     "iopub.status.idle": "2024-03-13T10:44:44.955201Z",
     "shell.execute_reply": "2024-03-13T10:44:44.954429Z",
     "shell.execute_reply.started": "2024-03-13T10:44:23.183819Z"
    }
   },
   "outputs": [
    {
     "name": "stderr",
     "output_type": "stream",
     "text": [
      "2024-03-13 10:44:31.536127: E external/local_xla/xla/stream_executor/cuda/cuda_dnn.cc:9261] Unable to register cuDNN factory: Attempting to register factory for plugin cuDNN when one has already been registered\n",
      "2024-03-13 10:44:31.536266: E external/local_xla/xla/stream_executor/cuda/cuda_fft.cc:607] Unable to register cuFFT factory: Attempting to register factory for plugin cuFFT when one has already been registered\n",
      "2024-03-13 10:44:31.674754: E external/local_xla/xla/stream_executor/cuda/cuda_blas.cc:1515] Unable to register cuBLAS factory: Attempting to register factory for plugin cuBLAS when one has already been registered\n"
     ]
    },
    {
     "data": {
      "application/vnd.jupyter.widget-view+json": {
       "model_id": "5767a69750814d188ff5f57216c69b76",
       "version_major": 2,
       "version_minor": 0
      },
      "text/plain": [
       "config.json:   0%|          | 0.00/507 [00:00<?, ?B/s]"
      ]
     },
     "metadata": {},
     "output_type": "display_data"
    },
    {
     "data": {
      "application/vnd.jupyter.widget-view+json": {
       "model_id": "9c1d16744b0e4f78a0dc86efcdbf750a",
       "version_major": 2,
       "version_minor": 0
      },
      "text/plain": [
       "spiece.model:   0%|          | 0.00/5.65M [00:00<?, ?B/s]"
      ]
     },
     "metadata": {},
     "output_type": "display_data"
    },
    {
     "data": {
      "application/vnd.jupyter.widget-view+json": {
       "model_id": "d4d80bbd831c40e6b5c494e60a569bbe",
       "version_major": 2,
       "version_minor": 0
      },
      "text/plain": [
       "pytorch_model.bin:   0%|          | 0.00/135M [00:00<?, ?B/s]"
      ]
     },
     "metadata": {},
     "output_type": "display_data"
    },
    {
     "name": "stderr",
     "output_type": "stream",
     "text": [
      "/opt/conda/lib/python3.10/site-packages/torch/_utils.py:831: UserWarning: TypedStorage is deprecated. It will be removed in the future and UntypedStorage will be the only storage class. This should only matter to you if you are using storages directly.  To access UntypedStorage directly, use tensor.untyped_storage() instead of tensor.storage()\n",
      "  return self.fget.__get__(instance, owner)()\n",
      "Some weights of AlbertForTokenClassification were not initialized from the model checkpoint at ai4bharat/indic-bert and are newly initialized: ['classifier.bias', 'classifier.weight']\n",
      "You should probably TRAIN this model on a down-stream task to be able to use it for predictions and inference.\n"
     ]
    }
   ],
   "source": [
    "from transformers import AutoModelForTokenClassification, AutoConfig, AutoTokenizer, TrainingArguments, Trainer, DataCollatorForTokenClassification, EarlyStoppingCallback, IntervalStrategy\n",
    "import numpy as np\n",
    "\n",
    "config = AutoConfig.from_pretrained('ai4bharat/indic-bert', num_labels=num_labels, finetuning_task='ner')\n",
    "tokenizer = AutoTokenizer.from_pretrained(\"ai4bharat/indic-bert\")\n",
    "model = AutoModelForTokenClassification.from_pretrained('ai4bharat/indic-bert', num_labels=num_labels )"
   ]
  },
  {
   "cell_type": "code",
   "execution_count": 7,
   "metadata": {
    "execution": {
     "iopub.execute_input": "2024-03-13T10:44:44.956860Z",
     "iopub.status.busy": "2024-03-13T10:44:44.956270Z",
     "iopub.status.idle": "2024-03-13T10:44:44.964521Z",
     "shell.execute_reply": "2024-03-13T10:44:44.963678Z",
     "shell.execute_reply.started": "2024-03-13T10:44:44.956832Z"
    }
   },
   "outputs": [],
   "source": [
    "# Tokenize all texts and align the labels with them.\n",
    "def tokenize_and_align_labels(examples):\n",
    "    tokenized_inputs = tokenizer(\n",
    "        examples[text_column_name],\n",
    "        padding=\"max_length\",\n",
    "        truncation=True,\n",
    "        max_length=256,\n",
    "        # We use this argument because the texts in our dataset are lists of words (with a label for each word).\n",
    "        is_split_into_words=True,\n",
    "    )\n",
    "    # print(tokenized_inputs)\n",
    "    labels = []\n",
    "    for i, label in enumerate(examples[label_column_name]):\n",
    "        # print('=====')\n",
    "        # print('{} {}'.format(i,label)) #ak\n",
    "        word_ids = tokenized_inputs.word_ids(batch_index=i)\n",
    "\n",
    "        previous_word_idx = None\n",
    "        label_ids = []\n",
    "        for word_idx in word_ids:\n",
    "            # Special tokens have a word id that is None. We set the label to -100 so they are automatically\n",
    "            # ignored in the loss function.\n",
    "            if word_idx is None:\n",
    "                label_ids.append(-100)\n",
    "            # We set the label for the first token of each word.\n",
    "            elif word_idx != previous_word_idx:\n",
    "                label_ids.append(label[word_idx])\n",
    "            # For the other tokens in a word, we set the label to either the current label or -100, depending on\n",
    "            # the label_all_tokens flag.\n",
    "            else:\n",
    "                label_ids.append(-100)\n",
    "            previous_word_idx = word_idx\n",
    "\n",
    "        labels.append(label_ids)\n",
    "    tokenized_inputs[\"labels\"] = labels\n",
    "    # print(tokenized_inputs)\n",
    "    return tokenized_inputs"
   ]
  },
  {
   "cell_type": "code",
   "execution_count": 8,
   "metadata": {
    "execution": {
     "iopub.execute_input": "2024-03-13T10:44:44.966024Z",
     "iopub.status.busy": "2024-03-13T10:44:44.965690Z",
     "iopub.status.idle": "2024-03-13T10:44:44.983768Z",
     "shell.execute_reply": "2024-03-13T10:44:44.982868Z",
     "shell.execute_reply.started": "2024-03-13T10:44:44.965992Z"
    }
   },
   "outputs": [
    {
     "name": "stdout",
     "output_type": "stream",
     "text": [
      "['[CLS]', '▁सक', 'टर', '▁55', '/', '56', '▁क', '▁एसएचओ', '▁अर', 'वद', '▁कमर', '▁न', '▁बत', 'य', '▁क', '▁इस', '▁म', 'मल', '▁म', '▁आई', 'पस', '▁क', '▁धर', '▁376', '▁-', '▁ड', '▁(', '▁ग', 'गर', 'प', '▁)', '▁क', '▁तहत', '▁म', 'मल', '▁दर', 'ज', '▁कर', '▁लय', '▁ग', 'य', '▁ह', '▁।', '[SEP]', '<pad>', '<pad>', '<pad>', '<pad>', '<pad>', '<pad>', '<pad>', '<pad>', '<pad>', '<pad>', '<pad>', '<pad>', '<pad>', '<pad>', '<pad>', '<pad>', '<pad>', '<pad>', '<pad>', '<pad>', '<pad>', '<pad>', '<pad>', '<pad>', '<pad>', '<pad>', '<pad>', '<pad>', '<pad>', '<pad>', '<pad>', '<pad>', '<pad>', '<pad>', '<pad>', '<pad>', '<pad>', '<pad>', '<pad>', '<pad>', '<pad>', '<pad>', '<pad>', '<pad>', '<pad>', '<pad>', '<pad>', '<pad>', '<pad>', '<pad>', '<pad>', '<pad>', '<pad>', '<pad>', '<pad>', '<pad>', '<pad>', '<pad>', '<pad>', '<pad>', '<pad>', '<pad>', '<pad>', '<pad>', '<pad>', '<pad>', '<pad>', '<pad>', '<pad>', '<pad>', '<pad>', '<pad>', '<pad>', '<pad>', '<pad>', '<pad>', '<pad>', '<pad>', '<pad>', '<pad>', '<pad>', '<pad>', '<pad>', '<pad>', '<pad>', '<pad>', '<pad>', '<pad>', '<pad>', '<pad>', '<pad>', '<pad>', '<pad>', '<pad>', '<pad>', '<pad>', '<pad>', '<pad>', '<pad>', '<pad>', '<pad>', '<pad>', '<pad>', '<pad>', '<pad>', '<pad>', '<pad>', '<pad>', '<pad>', '<pad>', '<pad>', '<pad>', '<pad>', '<pad>', '<pad>', '<pad>', '<pad>', '<pad>', '<pad>', '<pad>', '<pad>', '<pad>', '<pad>', '<pad>', '<pad>', '<pad>', '<pad>', '<pad>', '<pad>', '<pad>', '<pad>', '<pad>', '<pad>', '<pad>', '<pad>', '<pad>', '<pad>', '<pad>', '<pad>', '<pad>', '<pad>', '<pad>', '<pad>', '<pad>', '<pad>', '<pad>', '<pad>', '<pad>', '<pad>', '<pad>', '<pad>', '<pad>', '<pad>', '<pad>', '<pad>', '<pad>', '<pad>', '<pad>', '<pad>', '<pad>', '<pad>', '<pad>', '<pad>', '<pad>', '<pad>', '<pad>', '<pad>', '<pad>', '<pad>', '<pad>', '<pad>', '<pad>', '<pad>', '<pad>', '<pad>', '<pad>', '<pad>', '<pad>', '<pad>', '<pad>', '<pad>', '<pad>', '<pad>', '<pad>', '<pad>', '<pad>', '<pad>', '<pad>', '<pad>', '<pad>', '<pad>', '<pad>', '<pad>', '<pad>', '<pad>', '<pad>', '<pad>', '<pad>', '<pad>', '<pad>', '<pad>', '<pad>', '<pad>', '<pad>', '<pad>', '<pad>', '<pad>', '<pad>', '<pad>', '<pad>', '<pad>', '<pad>']\n"
     ]
    }
   ],
   "source": [
    "correct_output = tokenize_and_align_labels(train_dataset[0:1])\n",
    "tokens = tokenizer.convert_ids_to_tokens(correct_output[\"input_ids\"][0])\n",
    "print(tokens)\n",
    "\n",
    "# Now we have input ids and labels to pass to model"
   ]
  },
  {
   "cell_type": "code",
   "execution_count": 9,
   "metadata": {
    "execution": {
     "iopub.execute_input": "2024-03-13T10:44:44.985336Z",
     "iopub.status.busy": "2024-03-13T10:44:44.984961Z",
     "iopub.status.idle": "2024-03-13T10:44:44.992674Z",
     "shell.execute_reply": "2024-03-13T10:44:44.991843Z",
     "shell.execute_reply.started": "2024-03-13T10:44:44.985304Z"
    },
    "scrolled": true
   },
   "outputs": [
    {
     "name": "stdout",
     "output_type": "stream",
     "text": [
      "[CLS]___________________________________-100\n",
      "▁सक_____________________________________0\n",
      "टर______________________________________-100\n",
      "▁55_____________________________________0\n",
      "/_______________________________________-100\n",
      "56______________________________________-100\n",
      "▁क______________________________________0\n",
      "▁एसएचओ__________________________________0\n",
      "▁अर_____________________________________1\n",
      "वद______________________________________-100\n",
      "▁कमर____________________________________2\n",
      "▁न______________________________________0\n",
      "▁बत_____________________________________0\n",
      "य_______________________________________-100\n",
      "▁क______________________________________0\n",
      "▁इस_____________________________________0\n",
      "▁म______________________________________0\n",
      "मल______________________________________-100\n",
      "▁म______________________________________0\n",
      "▁आई_____________________________________0\n",
      "पस______________________________________-100\n",
      "▁क______________________________________0\n",
      "▁धर_____________________________________0\n",
      "▁376____________________________________0\n",
      "▁-______________________________________0\n",
      "▁ड______________________________________0\n",
      "▁(______________________________________0\n",
      "▁ग______________________________________0\n",
      "गर______________________________________-100\n",
      "प_______________________________________-100\n",
      "▁)______________________________________0\n",
      "▁क______________________________________0\n",
      "▁तहत____________________________________0\n",
      "▁म______________________________________0\n",
      "मल______________________________________-100\n",
      "▁दर_____________________________________0\n",
      "ज_______________________________________-100\n",
      "▁कर_____________________________________0\n",
      "▁लय_____________________________________0\n",
      "▁ग______________________________________0\n",
      "य_______________________________________-100\n",
      "▁ह______________________________________0\n",
      "▁।______________________________________0\n",
      "[SEP]___________________________________-100\n",
      "<pad>___________________________________-100\n",
      "<pad>___________________________________-100\n",
      "<pad>___________________________________-100\n",
      "<pad>___________________________________-100\n",
      "<pad>___________________________________-100\n",
      "<pad>___________________________________-100\n",
      "<pad>___________________________________-100\n",
      "<pad>___________________________________-100\n",
      "<pad>___________________________________-100\n",
      "<pad>___________________________________-100\n",
      "<pad>___________________________________-100\n",
      "<pad>___________________________________-100\n",
      "<pad>___________________________________-100\n",
      "<pad>___________________________________-100\n",
      "<pad>___________________________________-100\n",
      "<pad>___________________________________-100\n",
      "<pad>___________________________________-100\n",
      "<pad>___________________________________-100\n",
      "<pad>___________________________________-100\n",
      "<pad>___________________________________-100\n",
      "<pad>___________________________________-100\n",
      "<pad>___________________________________-100\n",
      "<pad>___________________________________-100\n",
      "<pad>___________________________________-100\n",
      "<pad>___________________________________-100\n",
      "<pad>___________________________________-100\n",
      "<pad>___________________________________-100\n",
      "<pad>___________________________________-100\n",
      "<pad>___________________________________-100\n",
      "<pad>___________________________________-100\n",
      "<pad>___________________________________-100\n",
      "<pad>___________________________________-100\n",
      "<pad>___________________________________-100\n",
      "<pad>___________________________________-100\n",
      "<pad>___________________________________-100\n",
      "<pad>___________________________________-100\n",
      "<pad>___________________________________-100\n",
      "<pad>___________________________________-100\n",
      "<pad>___________________________________-100\n",
      "<pad>___________________________________-100\n",
      "<pad>___________________________________-100\n",
      "<pad>___________________________________-100\n",
      "<pad>___________________________________-100\n",
      "<pad>___________________________________-100\n",
      "<pad>___________________________________-100\n",
      "<pad>___________________________________-100\n",
      "<pad>___________________________________-100\n",
      "<pad>___________________________________-100\n",
      "<pad>___________________________________-100\n",
      "<pad>___________________________________-100\n",
      "<pad>___________________________________-100\n",
      "<pad>___________________________________-100\n",
      "<pad>___________________________________-100\n",
      "<pad>___________________________________-100\n",
      "<pad>___________________________________-100\n",
      "<pad>___________________________________-100\n",
      "<pad>___________________________________-100\n",
      "<pad>___________________________________-100\n",
      "<pad>___________________________________-100\n",
      "<pad>___________________________________-100\n",
      "<pad>___________________________________-100\n",
      "<pad>___________________________________-100\n",
      "<pad>___________________________________-100\n",
      "<pad>___________________________________-100\n",
      "<pad>___________________________________-100\n",
      "<pad>___________________________________-100\n",
      "<pad>___________________________________-100\n",
      "<pad>___________________________________-100\n",
      "<pad>___________________________________-100\n",
      "<pad>___________________________________-100\n",
      "<pad>___________________________________-100\n",
      "<pad>___________________________________-100\n",
      "<pad>___________________________________-100\n",
      "<pad>___________________________________-100\n",
      "<pad>___________________________________-100\n",
      "<pad>___________________________________-100\n",
      "<pad>___________________________________-100\n",
      "<pad>___________________________________-100\n",
      "<pad>___________________________________-100\n",
      "<pad>___________________________________-100\n",
      "<pad>___________________________________-100\n",
      "<pad>___________________________________-100\n",
      "<pad>___________________________________-100\n",
      "<pad>___________________________________-100\n",
      "<pad>___________________________________-100\n",
      "<pad>___________________________________-100\n",
      "<pad>___________________________________-100\n",
      "<pad>___________________________________-100\n",
      "<pad>___________________________________-100\n",
      "<pad>___________________________________-100\n",
      "<pad>___________________________________-100\n",
      "<pad>___________________________________-100\n",
      "<pad>___________________________________-100\n",
      "<pad>___________________________________-100\n",
      "<pad>___________________________________-100\n",
      "<pad>___________________________________-100\n",
      "<pad>___________________________________-100\n",
      "<pad>___________________________________-100\n",
      "<pad>___________________________________-100\n",
      "<pad>___________________________________-100\n",
      "<pad>___________________________________-100\n",
      "<pad>___________________________________-100\n",
      "<pad>___________________________________-100\n",
      "<pad>___________________________________-100\n",
      "<pad>___________________________________-100\n",
      "<pad>___________________________________-100\n",
      "<pad>___________________________________-100\n",
      "<pad>___________________________________-100\n",
      "<pad>___________________________________-100\n",
      "<pad>___________________________________-100\n",
      "<pad>___________________________________-100\n",
      "<pad>___________________________________-100\n",
      "<pad>___________________________________-100\n",
      "<pad>___________________________________-100\n",
      "<pad>___________________________________-100\n",
      "<pad>___________________________________-100\n",
      "<pad>___________________________________-100\n",
      "<pad>___________________________________-100\n",
      "<pad>___________________________________-100\n",
      "<pad>___________________________________-100\n",
      "<pad>___________________________________-100\n",
      "<pad>___________________________________-100\n",
      "<pad>___________________________________-100\n",
      "<pad>___________________________________-100\n",
      "<pad>___________________________________-100\n",
      "<pad>___________________________________-100\n",
      "<pad>___________________________________-100\n",
      "<pad>___________________________________-100\n",
      "<pad>___________________________________-100\n",
      "<pad>___________________________________-100\n",
      "<pad>___________________________________-100\n",
      "<pad>___________________________________-100\n",
      "<pad>___________________________________-100\n",
      "<pad>___________________________________-100\n",
      "<pad>___________________________________-100\n",
      "<pad>___________________________________-100\n",
      "<pad>___________________________________-100\n",
      "<pad>___________________________________-100\n",
      "<pad>___________________________________-100\n",
      "<pad>___________________________________-100\n",
      "<pad>___________________________________-100\n",
      "<pad>___________________________________-100\n",
      "<pad>___________________________________-100\n",
      "<pad>___________________________________-100\n",
      "<pad>___________________________________-100\n",
      "<pad>___________________________________-100\n",
      "<pad>___________________________________-100\n",
      "<pad>___________________________________-100\n",
      "<pad>___________________________________-100\n",
      "<pad>___________________________________-100\n",
      "<pad>___________________________________-100\n",
      "<pad>___________________________________-100\n",
      "<pad>___________________________________-100\n",
      "<pad>___________________________________-100\n",
      "<pad>___________________________________-100\n",
      "<pad>___________________________________-100\n",
      "<pad>___________________________________-100\n",
      "<pad>___________________________________-100\n",
      "<pad>___________________________________-100\n",
      "<pad>___________________________________-100\n",
      "<pad>___________________________________-100\n",
      "<pad>___________________________________-100\n",
      "<pad>___________________________________-100\n",
      "<pad>___________________________________-100\n",
      "<pad>___________________________________-100\n",
      "<pad>___________________________________-100\n",
      "<pad>___________________________________-100\n",
      "<pad>___________________________________-100\n",
      "<pad>___________________________________-100\n",
      "<pad>___________________________________-100\n",
      "<pad>___________________________________-100\n",
      "<pad>___________________________________-100\n",
      "<pad>___________________________________-100\n",
      "<pad>___________________________________-100\n",
      "<pad>___________________________________-100\n",
      "<pad>___________________________________-100\n",
      "<pad>___________________________________-100\n",
      "<pad>___________________________________-100\n",
      "<pad>___________________________________-100\n",
      "<pad>___________________________________-100\n",
      "<pad>___________________________________-100\n",
      "<pad>___________________________________-100\n",
      "<pad>___________________________________-100\n",
      "<pad>___________________________________-100\n",
      "<pad>___________________________________-100\n",
      "<pad>___________________________________-100\n",
      "<pad>___________________________________-100\n",
      "<pad>___________________________________-100\n",
      "<pad>___________________________________-100\n",
      "<pad>___________________________________-100\n",
      "<pad>___________________________________-100\n",
      "<pad>___________________________________-100\n",
      "<pad>___________________________________-100\n",
      "<pad>___________________________________-100\n",
      "<pad>___________________________________-100\n",
      "<pad>___________________________________-100\n",
      "<pad>___________________________________-100\n",
      "<pad>___________________________________-100\n",
      "<pad>___________________________________-100\n",
      "<pad>___________________________________-100\n",
      "<pad>___________________________________-100\n",
      "<pad>___________________________________-100\n",
      "<pad>___________________________________-100\n",
      "<pad>___________________________________-100\n",
      "<pad>___________________________________-100\n",
      "<pad>___________________________________-100\n",
      "<pad>___________________________________-100\n",
      "<pad>___________________________________-100\n",
      "<pad>___________________________________-100\n",
      "<pad>___________________________________-100\n",
      "<pad>___________________________________-100\n",
      "<pad>___________________________________-100\n"
     ]
    }
   ],
   "source": [
    "for token,label in zip(tokenizer.convert_ids_to_tokens(correct_output[\"input_ids\"][0]) , correct_output[\"labels\"][0]):\n",
    "  print(f\"{token:_<40}{label}\")\n"
   ]
  },
  {
   "cell_type": "code",
   "execution_count": 10,
   "metadata": {
    "execution": {
     "iopub.execute_input": "2024-03-13T10:44:44.996299Z",
     "iopub.status.busy": "2024-03-13T10:44:44.995981Z",
     "iopub.status.idle": "2024-03-13T10:44:53.623010Z",
     "shell.execute_reply": "2024-03-13T10:44:53.622113Z",
     "shell.execute_reply.started": "2024-03-13T10:44:44.996272Z"
    }
   },
   "outputs": [
    {
     "data": {
      "application/vnd.jupyter.widget-view+json": {
       "model_id": "a47f576fce4b4efb89f55c5ac4806444",
       "version_major": 2,
       "version_minor": 0
      },
      "text/plain": [
       "  0%|          | 0/20 [00:00<?, ?ba/s]"
      ]
     },
     "metadata": {},
     "output_type": "display_data"
    },
    {
     "name": "stdout",
     "output_type": "stream",
     "text": [
      "Dataset({\n",
      "    features: ['tokens', 'ner_tags', 'input_ids', 'token_type_ids', 'attention_mask', 'labels'],\n",
      "    num_rows: 20000\n",
      "})\n"
     ]
    }
   ],
   "source": [
    "tokenized_train_dataset = train_dataset.map(\n",
    "    tokenize_and_align_labels,\n",
    "    batched=True,\n",
    ")\n",
    "print(tokenized_train_dataset)"
   ]
  },
  {
   "cell_type": "code",
   "execution_count": 11,
   "metadata": {
    "execution": {
     "iopub.execute_input": "2024-03-13T10:44:53.624467Z",
     "iopub.status.busy": "2024-03-13T10:44:53.624153Z",
     "iopub.status.idle": "2024-03-13T10:44:53.633317Z",
     "shell.execute_reply": "2024-03-13T10:44:53.632304Z",
     "shell.execute_reply.started": "2024-03-13T10:44:53.624440Z"
    }
   },
   "outputs": [
    {
     "name": "stdout",
     "output_type": "stream",
     "text": [
      "30\n",
      "256\n",
      "256\n"
     ]
    }
   ],
   "source": [
    "# Problem is fixed now!!\n",
    "print(len(tokenized_train_dataset[0]['ner_tags']))\n",
    "print(len(tokenized_train_dataset[0]['labels']))\n",
    "print(len(tokenized_train_dataset[0]['input_ids']))"
   ]
  },
  {
   "cell_type": "code",
   "execution_count": 12,
   "metadata": {
    "execution": {
     "iopub.execute_input": "2024-03-13T10:44:53.634693Z",
     "iopub.status.busy": "2024-03-13T10:44:53.634421Z",
     "iopub.status.idle": "2024-03-13T10:44:54.320142Z",
     "shell.execute_reply": "2024-03-13T10:44:54.319308Z",
     "shell.execute_reply.started": "2024-03-13T10:44:53.634669Z"
    }
   },
   "outputs": [
    {
     "data": {
      "application/vnd.jupyter.widget-view+json": {
       "model_id": "f1d486c7c5fd48078e4f28684c056b28",
       "version_major": 2,
       "version_minor": 0
      },
      "text/plain": [
       "  0%|          | 0/1 [00:00<?, ?ba/s]"
      ]
     },
     "metadata": {},
     "output_type": "display_data"
    },
    {
     "name": "stdout",
     "output_type": "stream",
     "text": [
      "Dataset({\n",
      "    features: ['tokens', 'ner_tags', 'input_ids', 'token_type_ids', 'attention_mask', 'labels'],\n",
      "    num_rows: 867\n",
      "})\n"
     ]
    }
   ],
   "source": [
    "# Test Dataset\n",
    "tokenized_test_dataset = test_dataset.map(\n",
    "    tokenize_and_align_labels,\n",
    "    batched=True,\n",
    ")\n",
    "print(tokenized_test_dataset)"
   ]
  },
  {
   "cell_type": "code",
   "execution_count": 13,
   "metadata": {
    "execution": {
     "iopub.execute_input": "2024-03-13T10:44:54.321492Z",
     "iopub.status.busy": "2024-03-13T10:44:54.321200Z",
     "iopub.status.idle": "2024-03-13T10:45:00.031650Z",
     "shell.execute_reply": "2024-03-13T10:45:00.030694Z",
     "shell.execute_reply.started": "2024-03-13T10:44:54.321467Z"
    }
   },
   "outputs": [
    {
     "data": {
      "application/vnd.jupyter.widget-view+json": {
       "model_id": "5702ccf77c3c46d2a0d0b64723c5e15f",
       "version_major": 2,
       "version_minor": 0
      },
      "text/plain": [
       "  0%|          | 0/14 [00:00<?, ?ba/s]"
      ]
     },
     "metadata": {},
     "output_type": "display_data"
    },
    {
     "name": "stdout",
     "output_type": "stream",
     "text": [
      "Dataset({\n",
      "    features: ['tokens', 'ner_tags', 'input_ids', 'token_type_ids', 'attention_mask', 'labels'],\n",
      "    num_rows: 13460\n",
      "})\n"
     ]
    }
   ],
   "source": [
    "# Validation DataSet\n",
    "tokenized_validation_dataset = validation_dataset.map(\n",
    "    tokenize_and_align_labels,\n",
    "    batched=True,\n",
    ")\n",
    "print(tokenized_validation_dataset)"
   ]
  },
  {
   "cell_type": "code",
   "execution_count": 14,
   "metadata": {
    "execution": {
     "iopub.execute_input": "2024-03-13T10:45:00.033649Z",
     "iopub.status.busy": "2024-03-13T10:45:00.032926Z",
     "iopub.status.idle": "2024-03-13T10:45:00.037992Z",
     "shell.execute_reply": "2024-03-13T10:45:00.037110Z",
     "shell.execute_reply.started": "2024-03-13T10:45:00.033611Z"
    }
   },
   "outputs": [],
   "source": [
    "# Data Collator\n",
    "data_collator = DataCollatorForTokenClassification(tokenizer)"
   ]
  },
  {
   "cell_type": "code",
   "execution_count": 15,
   "metadata": {
    "execution": {
     "iopub.execute_input": "2024-03-13T10:45:00.039470Z",
     "iopub.status.busy": "2024-03-13T10:45:00.039083Z",
     "iopub.status.idle": "2024-03-13T10:45:00.586141Z",
     "shell.execute_reply": "2024-03-13T10:45:00.585409Z",
     "shell.execute_reply.started": "2024-03-13T10:45:00.039444Z"
    }
   },
   "outputs": [
    {
     "data": {
      "application/vnd.jupyter.widget-view+json": {
       "model_id": "94bbce733d744340aa2eeeb2064958fd",
       "version_major": 2,
       "version_minor": 0
      },
      "text/plain": [
       "Downloading builder script:   0%|          | 0.00/2.47k [00:00<?, ?B/s]"
      ]
     },
     "metadata": {},
     "output_type": "display_data"
    }
   ],
   "source": [
    "# Metric to see how my model is performing For NER we use seqeval\n",
    "metric = datasets.load_metric(\"seqeval\")"
   ]
  },
  {
   "cell_type": "code",
   "execution_count": 16,
   "metadata": {
    "execution": {
     "iopub.execute_input": "2024-03-13T10:45:00.587518Z",
     "iopub.status.busy": "2024-03-13T10:45:00.587231Z",
     "iopub.status.idle": "2024-03-13T10:45:00.604514Z",
     "shell.execute_reply": "2024-03-13T10:45:00.603568Z",
     "shell.execute_reply.started": "2024-03-13T10:45:00.587493Z"
    }
   },
   "outputs": [
    {
     "name": "stdout",
     "output_type": "stream",
     "text": [
      "['O', 'O', 'O', 'O', 'B-PER', 'I-PER', 'O', 'O', 'O', 'O', 'O', 'O', 'O', 'O', 'O', 'O', 'O', 'O', 'O', 'O', 'O', 'O', 'O', 'O', 'O', 'O', 'O', 'O', 'O', 'O']\n"
     ]
    },
    {
     "data": {
      "text/plain": [
       "{'PER': {'precision': 1.0, 'recall': 1.0, 'f1': 1.0, 'number': 1},\n",
       " 'overall_precision': 1.0,\n",
       " 'overall_recall': 1.0,\n",
       " 'overall_f1': 1.0,\n",
       " 'overall_accuracy': 1.0}"
      ]
     },
     "execution_count": 16,
     "metadata": {},
     "output_type": "execute_result"
    }
   ],
   "source": [
    "# Seeing the working of seqeval\n",
    "example_text = train_dataset[0]\n",
    "label_list = train_dataset.features[\"ner_tags\"].feature.names\n",
    "label_list\n",
    "\n",
    "labels = [label_list[i] for i in example_text[\"ner_tags\"]]\n",
    "print(labels)\n",
    "\n",
    "metric.compute(predictions=[labels] , references=[labels])"
   ]
  },
  {
   "cell_type": "code",
   "execution_count": 17,
   "metadata": {
    "execution": {
     "iopub.execute_input": "2024-03-13T10:45:00.605955Z",
     "iopub.status.busy": "2024-03-13T10:45:00.605676Z",
     "iopub.status.idle": "2024-03-13T10:45:00.964889Z",
     "shell.execute_reply": "2024-03-13T10:45:00.964132Z",
     "shell.execute_reply.started": "2024-03-13T10:45:00.605931Z"
    }
   },
   "outputs": [],
   "source": [
    "# Metrics\n",
    "metric = load_metric(\"seqeval\")\n",
    "\n",
    "def compute_metrics(p):\n",
    "    predictions, labels = p\n",
    "    predictions = np.argmax(predictions, axis=2)\n",
    "\n",
    "    # Remove ignored index (special tokens)\n",
    "    true_predictions = [\n",
    "        [label_list[p] for (p, l) in zip(prediction, label) if l != -100]\n",
    "        for prediction, label in zip(predictions, labels)\n",
    "    ]\n",
    "    true_labels = [\n",
    "        [label_list[l] for (p, l) in zip(prediction, label) if l != -100]\n",
    "        for prediction, label in zip(predictions, labels)\n",
    "    ]\n",
    "\n",
    "    results = metric.compute(predictions=true_predictions, references=true_labels)\n",
    "    # Unpack nested dictionaries\n",
    "    final_results = {}\n",
    "    for key, value in results.items():\n",
    "        if isinstance(value, dict):\n",
    "            for n, v in value.items():\n",
    "                final_results[f\"{key}_{n}\"] = v\n",
    "        else:\n",
    "            final_results[key] = value\n",
    "    return final_results"
   ]
  },
  {
   "cell_type": "code",
   "execution_count": 25,
   "metadata": {
    "execution": {
     "iopub.execute_input": "2024-03-13T11:52:37.541866Z",
     "iopub.status.busy": "2024-03-13T11:52:37.541486Z",
     "iopub.status.idle": "2024-03-13T11:52:37.555970Z",
     "shell.execute_reply": "2024-03-13T11:52:37.554927Z",
     "shell.execute_reply.started": "2024-03-13T11:52:37.541838Z"
    }
   },
   "outputs": [],
   "source": [
    "# Define Training Args\n",
    "args = TrainingArguments(\n",
    "    output_dir=f\"model/upos\",\n",
    "    overwrite_output_dir=True,\n",
    "    evaluation_strategy = \"steps\",\n",
    "    learning_rate=5e-5,\n",
    "    per_device_train_batch_size=8,\n",
    "    per_device_eval_batch_size=8,\n",
    "    num_train_epochs=2,\n",
    "    weight_decay=0.01,\n",
    "    save_total_limit=1,\n",
    ")"
   ]
  },
  {
   "cell_type": "code",
   "execution_count": 26,
   "metadata": {
    "execution": {
     "iopub.execute_input": "2024-03-13T11:52:38.514739Z",
     "iopub.status.busy": "2024-03-13T11:52:38.513895Z",
     "iopub.status.idle": "2024-03-13T11:52:38.531501Z",
     "shell.execute_reply": "2024-03-13T11:52:38.528114Z",
     "shell.execute_reply.started": "2024-03-13T11:52:38.514705Z"
    }
   },
   "outputs": [
    {
     "name": "stderr",
     "output_type": "stream",
     "text": [
      "/opt/conda/lib/python3.10/site-packages/accelerate/accelerator.py:432: FutureWarning: Passing the following arguments to `Accelerator` is deprecated and will be removed in version 1.0 of Accelerate: dict_keys(['dispatch_batches', 'split_batches', 'even_batches', 'use_seedable_sampler']). Please pass an `accelerate.DataLoaderConfiguration` instead: \n",
      "dataloader_config = DataLoaderConfiguration(dispatch_batches=None, split_batches=False, even_batches=True, use_seedable_sampler=True)\n",
      "  warnings.warn(\n"
     ]
    }
   ],
   "source": [
    "trainer = Trainer(\n",
    "   model,\n",
    "   args,\n",
    "   train_dataset=tokenized_train_dataset,\n",
    "   eval_dataset=tokenized_validation_dataset,\n",
    "   data_collator=data_collator,\n",
    "   tokenizer=tokenizer,\n",
    "   compute_metrics=compute_metrics,\n",
    ")"
   ]
  },
  {
   "cell_type": "code",
   "execution_count": 27,
   "metadata": {
    "execution": {
     "iopub.execute_input": "2024-03-13T11:52:41.020489Z",
     "iopub.status.busy": "2024-03-13T11:52:41.020114Z",
     "iopub.status.idle": "2024-03-13T12:31:30.603368Z",
     "shell.execute_reply": "2024-03-13T12:31:30.602318Z",
     "shell.execute_reply.started": "2024-03-13T11:52:41.020459Z"
    }
   },
   "outputs": [
    {
     "data": {
      "text/html": [
       "\n",
       "    <div>\n",
       "      \n",
       "      <progress value='5000' max='5000' style='width:300px; height:20px; vertical-align: middle;'></progress>\n",
       "      [5000/5000 38:48, Epoch 2/2]\n",
       "    </div>\n",
       "    <table border=\"1\" class=\"dataframe\">\n",
       "  <thead>\n",
       " <tr style=\"text-align: left;\">\n",
       "      <th>Step</th>\n",
       "      <th>Training Loss</th>\n",
       "      <th>Validation Loss</th>\n",
       "      <th>Loc Precision</th>\n",
       "      <th>Loc Recall</th>\n",
       "      <th>Loc F1</th>\n",
       "      <th>Loc Number</th>\n",
       "      <th>Org Precision</th>\n",
       "      <th>Org Recall</th>\n",
       "      <th>Org F1</th>\n",
       "      <th>Org Number</th>\n",
       "      <th>Per Precision</th>\n",
       "      <th>Per Recall</th>\n",
       "      <th>Per F1</th>\n",
       "      <th>Per Number</th>\n",
       "      <th>Overall Precision</th>\n",
       "      <th>Overall Recall</th>\n",
       "      <th>Overall F1</th>\n",
       "      <th>Overall Accuracy</th>\n",
       "    </tr>\n",
       "  </thead>\n",
       "  <tbody>\n",
       "    <tr>\n",
       "      <td>500</td>\n",
       "      <td>0.244500</td>\n",
       "      <td>0.288355</td>\n",
       "      <td>0.714937</td>\n",
       "      <td>0.691276</td>\n",
       "      <td>0.702907</td>\n",
       "      <td>10213</td>\n",
       "      <td>0.500050</td>\n",
       "      <td>0.509095</td>\n",
       "      <td>0.504532</td>\n",
       "      <td>9786</td>\n",
       "      <td>0.719027</td>\n",
       "      <td>0.668338</td>\n",
       "      <td>0.692757</td>\n",
       "      <td>10568</td>\n",
       "      <td>0.644112</td>\n",
       "      <td>0.625020</td>\n",
       "      <td>0.634423</td>\n",
       "      <td>0.914770</td>\n",
       "    </tr>\n",
       "    <tr>\n",
       "      <td>1000</td>\n",
       "      <td>0.239000</td>\n",
       "      <td>0.274351</td>\n",
       "      <td>0.737111</td>\n",
       "      <td>0.692940</td>\n",
       "      <td>0.714343</td>\n",
       "      <td>10213</td>\n",
       "      <td>0.547331</td>\n",
       "      <td>0.536481</td>\n",
       "      <td>0.541852</td>\n",
       "      <td>9786</td>\n",
       "      <td>0.719441</td>\n",
       "      <td>0.652725</td>\n",
       "      <td>0.684461</td>\n",
       "      <td>10568</td>\n",
       "      <td>0.667975</td>\n",
       "      <td>0.628946</td>\n",
       "      <td>0.647874</td>\n",
       "      <td>0.915868</td>\n",
       "    </tr>\n",
       "    <tr>\n",
       "      <td>1500</td>\n",
       "      <td>0.232600</td>\n",
       "      <td>0.276171</td>\n",
       "      <td>0.713565</td>\n",
       "      <td>0.706159</td>\n",
       "      <td>0.709843</td>\n",
       "      <td>10213</td>\n",
       "      <td>0.571679</td>\n",
       "      <td>0.499591</td>\n",
       "      <td>0.533210</td>\n",
       "      <td>9786</td>\n",
       "      <td>0.708060</td>\n",
       "      <td>0.694928</td>\n",
       "      <td>0.701433</td>\n",
       "      <td>10568</td>\n",
       "      <td>0.669801</td>\n",
       "      <td>0.636144</td>\n",
       "      <td>0.652539</td>\n",
       "      <td>0.918014</td>\n",
       "    </tr>\n",
       "    <tr>\n",
       "      <td>2000</td>\n",
       "      <td>0.218400</td>\n",
       "      <td>0.269514</td>\n",
       "      <td>0.720460</td>\n",
       "      <td>0.718202</td>\n",
       "      <td>0.719329</td>\n",
       "      <td>10213</td>\n",
       "      <td>0.557004</td>\n",
       "      <td>0.554670</td>\n",
       "      <td>0.555834</td>\n",
       "      <td>9786</td>\n",
       "      <td>0.735052</td>\n",
       "      <td>0.677044</td>\n",
       "      <td>0.704857</td>\n",
       "      <td>10568</td>\n",
       "      <td>0.671544</td>\n",
       "      <td>0.651618</td>\n",
       "      <td>0.661431</td>\n",
       "      <td>0.918671</td>\n",
       "    </tr>\n",
       "    <tr>\n",
       "      <td>2500</td>\n",
       "      <td>0.223900</td>\n",
       "      <td>0.265332</td>\n",
       "      <td>0.722823</td>\n",
       "      <td>0.720063</td>\n",
       "      <td>0.721440</td>\n",
       "      <td>10213</td>\n",
       "      <td>0.613052</td>\n",
       "      <td>0.489577</td>\n",
       "      <td>0.544401</td>\n",
       "      <td>9786</td>\n",
       "      <td>0.720339</td>\n",
       "      <td>0.691711</td>\n",
       "      <td>0.705735</td>\n",
       "      <td>10568</td>\n",
       "      <td>0.691438</td>\n",
       "      <td>0.636471</td>\n",
       "      <td>0.662817</td>\n",
       "      <td>0.920209</td>\n",
       "    </tr>\n",
       "    <tr>\n",
       "      <td>3000</td>\n",
       "      <td>0.179100</td>\n",
       "      <td>0.263434</td>\n",
       "      <td>0.722728</td>\n",
       "      <td>0.730442</td>\n",
       "      <td>0.726564</td>\n",
       "      <td>10213</td>\n",
       "      <td>0.586699</td>\n",
       "      <td>0.550787</td>\n",
       "      <td>0.568176</td>\n",
       "      <td>9786</td>\n",
       "      <td>0.724628</td>\n",
       "      <td>0.709406</td>\n",
       "      <td>0.716936</td>\n",
       "      <td>10568</td>\n",
       "      <td>0.681527</td>\n",
       "      <td>0.665653</td>\n",
       "      <td>0.673496</td>\n",
       "      <td>0.921520</td>\n",
       "    </tr>\n",
       "    <tr>\n",
       "      <td>3500</td>\n",
       "      <td>0.178500</td>\n",
       "      <td>0.267532</td>\n",
       "      <td>0.721057</td>\n",
       "      <td>0.740331</td>\n",
       "      <td>0.730567</td>\n",
       "      <td>10213</td>\n",
       "      <td>0.610738</td>\n",
       "      <td>0.530043</td>\n",
       "      <td>0.567537</td>\n",
       "      <td>9786</td>\n",
       "      <td>0.710982</td>\n",
       "      <td>0.718584</td>\n",
       "      <td>0.714763</td>\n",
       "      <td>10568</td>\n",
       "      <td>0.685840</td>\n",
       "      <td>0.665489</td>\n",
       "      <td>0.675511</td>\n",
       "      <td>0.922460</td>\n",
       "    </tr>\n",
       "    <tr>\n",
       "      <td>4000</td>\n",
       "      <td>0.168900</td>\n",
       "      <td>0.261288</td>\n",
       "      <td>0.721168</td>\n",
       "      <td>0.744541</td>\n",
       "      <td>0.732668</td>\n",
       "      <td>10213</td>\n",
       "      <td>0.594474</td>\n",
       "      <td>0.558451</td>\n",
       "      <td>0.575900</td>\n",
       "      <td>9786</td>\n",
       "      <td>0.731345</td>\n",
       "      <td>0.707608</td>\n",
       "      <td>0.719281</td>\n",
       "      <td>10568</td>\n",
       "      <td>0.685769</td>\n",
       "      <td>0.672196</td>\n",
       "      <td>0.678914</td>\n",
       "      <td>0.923045</td>\n",
       "    </tr>\n",
       "    <tr>\n",
       "      <td>4500</td>\n",
       "      <td>0.173800</td>\n",
       "      <td>0.255850</td>\n",
       "      <td>0.729009</td>\n",
       "      <td>0.736219</td>\n",
       "      <td>0.732596</td>\n",
       "      <td>10213</td>\n",
       "      <td>0.585113</td>\n",
       "      <td>0.559881</td>\n",
       "      <td>0.572219</td>\n",
       "      <td>9786</td>\n",
       "      <td>0.726931</td>\n",
       "      <td>0.713380</td>\n",
       "      <td>0.720092</td>\n",
       "      <td>10568</td>\n",
       "      <td>0.683450</td>\n",
       "      <td>0.671868</td>\n",
       "      <td>0.677610</td>\n",
       "      <td>0.923403</td>\n",
       "    </tr>\n",
       "    <tr>\n",
       "      <td>5000</td>\n",
       "      <td>0.175600</td>\n",
       "      <td>0.254202</td>\n",
       "      <td>0.727065</td>\n",
       "      <td>0.747283</td>\n",
       "      <td>0.737035</td>\n",
       "      <td>10213</td>\n",
       "      <td>0.586032</td>\n",
       "      <td>0.577049</td>\n",
       "      <td>0.581506</td>\n",
       "      <td>9786</td>\n",
       "      <td>0.731876</td>\n",
       "      <td>0.719341</td>\n",
       "      <td>0.725555</td>\n",
       "      <td>10568</td>\n",
       "      <td>0.684174</td>\n",
       "      <td>0.683122</td>\n",
       "      <td>0.683648</td>\n",
       "      <td>0.924143</td>\n",
       "    </tr>\n",
       "  </tbody>\n",
       "</table><p>"
      ],
      "text/plain": [
       "<IPython.core.display.HTML object>"
      ]
     },
     "metadata": {},
     "output_type": "display_data"
    },
    {
     "name": "stderr",
     "output_type": "stream",
     "text": [
      "Checkpoint destination directory model/upos/checkpoint-5000 already exists and is non-empty. Saving will proceed but saved results may be invalid.\n"
     ]
    }
   ],
   "source": [
    "train_result = trainer.train()\n",
    "metrics = train_result.metrics"
   ]
  },
  {
   "cell_type": "code",
   "execution_count": 76,
   "metadata": {
    "execution": {
     "iopub.execute_input": "2024-03-13T09:47:09.013110Z",
     "iopub.status.busy": "2024-03-13T09:47:09.012812Z",
     "iopub.status.idle": "2024-03-13T09:47:09.019305Z",
     "shell.execute_reply": "2024-03-13T09:47:09.018375Z",
     "shell.execute_reply.started": "2024-03-13T09:47:09.013066Z"
    }
   },
   "outputs": [
    {
     "name": "stdout",
     "output_type": "stream",
     "text": [
      "{'train_runtime': 1090.3439, 'train_samples_per_second': 36.686, 'train_steps_per_second': 4.586, 'total_flos': 441912299520000.0, 'train_loss': 0.29573103637695314, 'epoch': 2.0}\n"
     ]
    }
   ],
   "source": [
    "print(metrics)"
   ]
  },
  {
   "cell_type": "code",
   "execution_count": 77,
   "metadata": {
    "execution": {
     "iopub.execute_input": "2024-03-13T09:47:09.021076Z",
     "iopub.status.busy": "2024-03-13T09:47:09.020730Z",
     "iopub.status.idle": "2024-03-13T09:47:09.031324Z",
     "shell.execute_reply": "2024-03-13T09:47:09.030303Z",
     "shell.execute_reply.started": "2024-03-13T09:47:09.021044Z"
    }
   },
   "outputs": [
    {
     "name": "stdout",
     "output_type": "stream",
     "text": [
      "0.720911\n"
     ]
    }
   ],
   "source": [
    "sumoff1score=0.776407+0.624282+0.762044\n",
    "macrof1=sumoff1score/3\n",
    "print(macrof1)"
   ]
  },
  {
   "cell_type": "code",
   "execution_count": 78,
   "metadata": {
    "execution": {
     "iopub.execute_input": "2024-03-13T09:47:09.033786Z",
     "iopub.status.busy": "2024-03-13T09:47:09.033088Z",
     "iopub.status.idle": "2024-03-13T09:47:09.382858Z",
     "shell.execute_reply": "2024-03-13T09:47:09.381687Z",
     "shell.execute_reply.started": "2024-03-13T09:47:09.033754Z"
    }
   },
   "outputs": [],
   "source": [
    "# Save Model\n",
    "trainer.save_model(\"model_indic_ner_5Epoch_one_lakh\")"
   ]
  },
  {
   "cell_type": "code",
   "execution_count": 79,
   "metadata": {
    "execution": {
     "iopub.execute_input": "2024-03-13T09:47:09.384625Z",
     "iopub.status.busy": "2024-03-13T09:47:09.384283Z",
     "iopub.status.idle": "2024-03-13T09:47:09.393202Z",
     "shell.execute_reply": "2024-03-13T09:47:09.392253Z",
     "shell.execute_reply.started": "2024-03-13T09:47:09.384597Z"
    }
   },
   "outputs": [],
   "source": [
    "import zipfile\n",
    "import os\n",
    "from IPython.display import FileLink\n",
    "\n",
    "def zip_dir(directory = os.curdir, file_name = 'directory.zip'):\n",
    "    \"\"\"\n",
    "    zip all the files in a directory\n",
    "    \n",
    "    Parameters\n",
    "    ___\n",
    "    directory: str\n",
    "        directory needs to be zipped, defualt is current working directory\n",
    "        \n",
    "    file_name: str\n",
    "        the name of the zipped file (including .zip), default is 'directory.zip'\n",
    "        \n",
    "    Returns\n",
    "    ___\n",
    "    Creates a hyperlink, which can be used to download the zip file)\n",
    "    \"\"\"\n",
    "    os.chdir(directory)\n",
    "    zip_ref = zipfile.ZipFile(file_name, mode='w')\n",
    "    for folder, _, files in os.walk(directory):\n",
    "        for file in files:\n",
    "            if file_name in file:\n",
    "                pass\n",
    "            else:\n",
    "                zip_ref.write(os.path.join(folder, file))\n",
    "\n",
    "    return FileLink(file_name)"
   ]
  },
  {
   "cell_type": "code",
   "execution_count": 80,
   "metadata": {
    "execution": {
     "iopub.execute_input": "2024-03-13T09:47:09.395454Z",
     "iopub.status.busy": "2024-03-13T09:47:09.394608Z",
     "iopub.status.idle": "2024-03-13T09:47:10.817285Z",
     "shell.execute_reply": "2024-03-13T09:47:10.816175Z",
     "shell.execute_reply.started": "2024-03-13T09:47:09.395428Z"
    }
   },
   "outputs": [
    {
     "data": {
      "text/html": [
       "<a href='directory.zip' target='_blank'>directory.zip</a><br>"
      ],
      "text/plain": [
       "/kaggle/working/directory.zip"
      ]
     },
     "execution_count": 80,
     "metadata": {},
     "output_type": "execute_result"
    }
   ],
   "source": [
    "zip_dir()"
   ]
  },
  {
   "cell_type": "code",
   "execution_count": 81,
   "metadata": {
    "execution": {
     "iopub.execute_input": "2024-03-13T09:47:10.818737Z",
     "iopub.status.busy": "2024-03-13T09:47:10.818423Z",
     "iopub.status.idle": "2024-03-13T09:47:10.828386Z",
     "shell.execute_reply": "2024-03-13T09:47:10.827309Z",
     "shell.execute_reply.started": "2024-03-13T09:47:10.818713Z"
    }
   },
   "outputs": [
    {
     "name": "stdout",
     "output_type": "stream",
     "text": [
      "train_runtime: 1090.3439\n",
      "train_samples_per_second: 36.686\n",
      "train_steps_per_second: 4.586\n",
      "total_flos: 441912299520000.0\n",
      "train_loss: 0.29573103637695314\n",
      "epoch: 2.0\n"
     ]
    }
   ],
   "source": [
    "for key, value in metrics.items():\n",
    "    print(f\"{key}: {value}\")"
   ]
  },
  {
   "cell_type": "markdown",
   "metadata": {},
   "source": [
    "# Testing on 20% Testing Dataset"
   ]
  },
  {
   "cell_type": "code",
   "execution_count": 28,
   "metadata": {
    "execution": {
     "iopub.execute_input": "2024-03-13T12:31:30.606603Z",
     "iopub.status.busy": "2024-03-13T12:31:30.605701Z",
     "iopub.status.idle": "2024-03-13T12:31:31.824283Z",
     "shell.execute_reply": "2024-03-13T12:31:31.823290Z",
     "shell.execute_reply.started": "2024-03-13T12:31:30.606564Z"
    }
   },
   "outputs": [
    {
     "data": {
      "application/vnd.jupyter.widget-view+json": {
       "model_id": "48f4cc2788d746eca8b2b1391a49c7fa",
       "version_major": 2,
       "version_minor": 0
      },
      "text/plain": [
       "  0%|          | 0/1 [00:00<?, ?ba/s]"
      ]
     },
     "metadata": {},
     "output_type": "display_data"
    },
    {
     "name": "stdout",
     "output_type": "stream",
     "text": [
      "Dataset({\n",
      "    features: ['tokens', 'ner_tags', 'input_ids', 'token_type_ids', 'attention_mask', 'labels'],\n",
      "    num_rows: 867\n",
      "})\n"
     ]
    }
   ],
   "source": [
    "from datasets import ClassLabel, load_dataset, load_metric, DownloadMode\n",
    "lang = 'hi'\n",
    "test_dataset = load_dataset('ai4bharat/naamapadam', lang , split = 'test')\n",
    "# Test Dataset\n",
    "tokenized_test_dataset = test_dataset.map(\n",
    "    tokenize_and_align_labels,\n",
    "    batched=True,\n",
    ")\n",
    "print(tokenized_test_dataset)"
   ]
  },
  {
   "cell_type": "code",
   "execution_count": 29,
   "metadata": {
    "execution": {
     "iopub.execute_input": "2024-03-13T12:31:31.826011Z",
     "iopub.status.busy": "2024-03-13T12:31:31.825597Z",
     "iopub.status.idle": "2024-03-13T12:31:40.329799Z",
     "shell.execute_reply": "2024-03-13T12:31:40.328798Z",
     "shell.execute_reply.started": "2024-03-13T12:31:31.825974Z"
    }
   },
   "outputs": [
    {
     "data": {
      "text/html": [],
      "text/plain": [
       "<IPython.core.display.HTML object>"
      ]
     },
     "metadata": {},
     "output_type": "display_data"
    },
    {
     "name": "stdout",
     "output_type": "stream",
     "text": [
      "***** Test metrics *****\n",
      "  test_LOC_f1             =     0.7097\n",
      "  test_LOC_number         =        614\n",
      "  test_LOC_precision      =     0.7126\n",
      "  test_LOC_recall         =     0.7068\n",
      "  test_ORG_f1             =     0.6513\n",
      "  test_ORG_number         =        525\n",
      "  test_ORG_precision      =     0.6315\n",
      "  test_ORG_recall         =     0.6724\n",
      "  test_PER_f1             =     0.7664\n",
      "  test_PER_number         =        790\n",
      "  test_PER_precision      =     0.7584\n",
      "  test_PER_recall         =     0.7747\n",
      "  test_loss               =     0.2049\n",
      "  test_overall_accuracy   =     0.9364\n",
      "  test_overall_f1         =     0.7167\n",
      "  test_overall_precision  =     0.7084\n",
      "  test_overall_recall     =     0.7252\n",
      "  test_runtime            = 0:00:08.48\n",
      "  test_samples_per_second =    102.157\n",
      "  test_steps_per_second   =     12.843\n",
      "\n",
      " Macro f1 score:: 0.7091529180431214\n"
     ]
    }
   ],
   "source": [
    "# Evaluation of Model on test Data\n",
    "predictions, labels, metrics = trainer.predict(tokenized_test_dataset)\n",
    "trainer.log_metrics(\"Test\",metrics)\n",
    "\n",
    "sum_of_f1_scores=metrics['test_LOC_f1']+metrics['test_ORG_f1']+metrics['test_PER_f1']\n",
    "macro_f1=sum_of_f1_scores/3\n",
    "print('\\n Macro f1 score::',macro_f1)"
   ]
  },
  {
   "cell_type": "code",
   "execution_count": null,
   "metadata": {},
   "outputs": [],
   "source": []
  }
 ],
 "metadata": {
  "kaggle": {
   "accelerator": "gpu",
   "dataSources": [],
   "dockerImageVersionId": 30665,
   "isGpuEnabled": true,
   "isInternetEnabled": true,
   "language": "python",
   "sourceType": "notebook"
  },
  "kernelspec": {
   "display_name": "Python 3 (ipykernel)",
   "language": "python",
   "name": "python3"
  },
  "language_info": {
   "codemirror_mode": {
    "name": "ipython",
    "version": 3
   },
   "file_extension": ".py",
   "mimetype": "text/x-python",
   "name": "python",
   "nbconvert_exporter": "python",
   "pygments_lexer": "ipython3",
   "version": "3.11.5"
  }
 },
 "nbformat": 4,
 "nbformat_minor": 4
}
