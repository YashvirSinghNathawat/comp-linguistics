{
 "cells": [
  {
   "cell_type": "code",
   "execution_count": 31,
   "metadata": {
    "_cell_guid": "b1076dfc-b9ad-4769-8c92-a6c4dae69d19",
    "_uuid": "8f2839f25d086af736a60e9eeb907d3b93b6e0e5",
    "execution": {
     "iopub.execute_input": "2024-03-13T09:25:08.634751Z",
     "iopub.status.busy": "2024-03-13T09:25:08.634351Z",
     "iopub.status.idle": "2024-03-13T09:26:14.316338Z",
     "shell.execute_reply": "2024-03-13T09:26:14.315021Z",
     "shell.execute_reply.started": "2024-03-13T09:25:08.634720Z"
    }
   },
   "outputs": [
    {
     "name": "stderr",
     "output_type": "stream",
     "text": [
      "huggingface/tokenizers: The current process just got forked, after parallelism has already been used. Disabling parallelism to avoid deadlocks...\n",
      "To disable this warning, you can either:\n",
      "\t- Avoid using `tokenizers` before the fork if possible\n",
      "\t- Explicitly set the environment variable TOKENIZERS_PARALLELISM=(true | false)\n"
     ]
    },
    {
     "name": "stdout",
     "output_type": "stream",
     "text": [
      "Requirement already satisfied: datasets in /opt/conda/lib/python3.10/site-packages (2.1.0)\n",
      "Requirement already satisfied: numpy>=1.17 in /opt/conda/lib/python3.10/site-packages (from datasets) (1.26.4)\n",
      "Requirement already satisfied: pyarrow>=5.0.0 in /opt/conda/lib/python3.10/site-packages (from datasets) (11.0.0)\n",
      "Requirement already satisfied: dill in /opt/conda/lib/python3.10/site-packages (from datasets) (0.3.8)\n",
      "Requirement already satisfied: pandas in /opt/conda/lib/python3.10/site-packages (from datasets) (2.1.4)\n",
      "Requirement already satisfied: requests>=2.19.0 in /opt/conda/lib/python3.10/site-packages (from datasets) (2.31.0)\n",
      "Requirement already satisfied: tqdm>=4.62.1 in /opt/conda/lib/python3.10/site-packages (from datasets) (4.66.1)\n",
      "Requirement already satisfied: xxhash in /opt/conda/lib/python3.10/site-packages (from datasets) (3.4.1)\n",
      "Requirement already satisfied: multiprocess in /opt/conda/lib/python3.10/site-packages (from datasets) (0.70.16)\n",
      "Requirement already satisfied: fsspec>=2021.05.0 in /opt/conda/lib/python3.10/site-packages (from fsspec[http]>=2021.05.0->datasets) (2024.2.0)\n",
      "Requirement already satisfied: aiohttp in /opt/conda/lib/python3.10/site-packages (from datasets) (3.9.1)\n",
      "Requirement already satisfied: huggingface-hub<1.0.0,>=0.1.0 in /opt/conda/lib/python3.10/site-packages (from datasets) (0.20.3)\n",
      "Requirement already satisfied: packaging in /opt/conda/lib/python3.10/site-packages (from datasets) (21.3)\n",
      "Requirement already satisfied: responses<0.19 in /opt/conda/lib/python3.10/site-packages (from datasets) (0.18.0)\n",
      "Requirement already satisfied: attrs>=17.3.0 in /opt/conda/lib/python3.10/site-packages (from aiohttp->datasets) (23.2.0)\n",
      "Requirement already satisfied: multidict<7.0,>=4.5 in /opt/conda/lib/python3.10/site-packages (from aiohttp->datasets) (6.0.4)\n",
      "Requirement already satisfied: yarl<2.0,>=1.0 in /opt/conda/lib/python3.10/site-packages (from aiohttp->datasets) (1.9.3)\n",
      "Requirement already satisfied: frozenlist>=1.1.1 in /opt/conda/lib/python3.10/site-packages (from aiohttp->datasets) (1.4.1)\n",
      "Requirement already satisfied: aiosignal>=1.1.2 in /opt/conda/lib/python3.10/site-packages (from aiohttp->datasets) (1.3.1)\n",
      "Requirement already satisfied: async-timeout<5.0,>=4.0 in /opt/conda/lib/python3.10/site-packages (from aiohttp->datasets) (4.0.3)\n",
      "Requirement already satisfied: filelock in /opt/conda/lib/python3.10/site-packages (from huggingface-hub<1.0.0,>=0.1.0->datasets) (3.13.1)\n",
      "Requirement already satisfied: pyyaml>=5.1 in /opt/conda/lib/python3.10/site-packages (from huggingface-hub<1.0.0,>=0.1.0->datasets) (6.0.1)\n",
      "Requirement already satisfied: typing-extensions>=3.7.4.3 in /opt/conda/lib/python3.10/site-packages (from huggingface-hub<1.0.0,>=0.1.0->datasets) (4.9.0)\n",
      "Requirement already satisfied: pyparsing!=3.0.5,>=2.0.2 in /opt/conda/lib/python3.10/site-packages (from packaging->datasets) (3.1.1)\n",
      "Requirement already satisfied: charset-normalizer<4,>=2 in /opt/conda/lib/python3.10/site-packages (from requests>=2.19.0->datasets) (3.3.2)\n",
      "Requirement already satisfied: idna<4,>=2.5 in /opt/conda/lib/python3.10/site-packages (from requests>=2.19.0->datasets) (3.6)\n",
      "Requirement already satisfied: urllib3<3,>=1.21.1 in /opt/conda/lib/python3.10/site-packages (from requests>=2.19.0->datasets) (1.26.18)\n",
      "Requirement already satisfied: certifi>=2017.4.17 in /opt/conda/lib/python3.10/site-packages (from requests>=2.19.0->datasets) (2024.2.2)\n",
      "Requirement already satisfied: python-dateutil>=2.8.2 in /opt/conda/lib/python3.10/site-packages (from pandas->datasets) (2.8.2)\n",
      "Requirement already satisfied: pytz>=2020.1 in /opt/conda/lib/python3.10/site-packages (from pandas->datasets) (2023.3.post1)\n",
      "Requirement already satisfied: tzdata>=2022.1 in /opt/conda/lib/python3.10/site-packages (from pandas->datasets) (2023.4)\n",
      "Requirement already satisfied: six>=1.5 in /opt/conda/lib/python3.10/site-packages (from python-dateutil>=2.8.2->pandas->datasets) (1.16.0)\n"
     ]
    },
    {
     "name": "stderr",
     "output_type": "stream",
     "text": [
      "huggingface/tokenizers: The current process just got forked, after parallelism has already been used. Disabling parallelism to avoid deadlocks...\n",
      "To disable this warning, you can either:\n",
      "\t- Avoid using `tokenizers` before the fork if possible\n",
      "\t- Explicitly set the environment variable TOKENIZERS_PARALLELISM=(true | false)\n"
     ]
    },
    {
     "name": "stdout",
     "output_type": "stream",
     "text": [
      "Requirement already satisfied: sentencepiece in /opt/conda/lib/python3.10/site-packages (0.2.0)\n"
     ]
    },
    {
     "name": "stderr",
     "output_type": "stream",
     "text": [
      "huggingface/tokenizers: The current process just got forked, after parallelism has already been used. Disabling parallelism to avoid deadlocks...\n",
      "To disable this warning, you can either:\n",
      "\t- Avoid using `tokenizers` before the fork if possible\n",
      "\t- Explicitly set the environment variable TOKENIZERS_PARALLELISM=(true | false)\n"
     ]
    },
    {
     "name": "stdout",
     "output_type": "stream",
     "text": [
      "Requirement already satisfied: seqeval in /opt/conda/lib/python3.10/site-packages (1.2.2)\n",
      "Requirement already satisfied: numpy>=1.14.0 in /opt/conda/lib/python3.10/site-packages (from seqeval) (1.26.4)\n",
      "Requirement already satisfied: scikit-learn>=0.21.3 in /opt/conda/lib/python3.10/site-packages (from seqeval) (1.2.2)\n",
      "Requirement already satisfied: scipy>=1.3.2 in /opt/conda/lib/python3.10/site-packages (from scikit-learn>=0.21.3->seqeval) (1.11.4)\n",
      "Requirement already satisfied: joblib>=1.1.1 in /opt/conda/lib/python3.10/site-packages (from scikit-learn>=0.21.3->seqeval) (1.3.2)\n",
      "Requirement already satisfied: threadpoolctl>=2.0.0 in /opt/conda/lib/python3.10/site-packages (from scikit-learn>=0.21.3->seqeval) (3.2.0)\n"
     ]
    },
    {
     "name": "stderr",
     "output_type": "stream",
     "text": [
      "huggingface/tokenizers: The current process just got forked, after parallelism has already been used. Disabling parallelism to avoid deadlocks...\n",
      "To disable this warning, you can either:\n",
      "\t- Avoid using `tokenizers` before the fork if possible\n",
      "\t- Explicitly set the environment variable TOKENIZERS_PARALLELISM=(true | false)\n"
     ]
    },
    {
     "name": "stdout",
     "output_type": "stream",
     "text": [
      "Requirement already satisfied: transformers[torch] in /opt/conda/lib/python3.10/site-packages (4.38.1)\n",
      "Requirement already satisfied: filelock in /opt/conda/lib/python3.10/site-packages (from transformers[torch]) (3.13.1)\n",
      "Requirement already satisfied: huggingface-hub<1.0,>=0.19.3 in /opt/conda/lib/python3.10/site-packages (from transformers[torch]) (0.20.3)\n",
      "Requirement already satisfied: numpy>=1.17 in /opt/conda/lib/python3.10/site-packages (from transformers[torch]) (1.26.4)\n",
      "Requirement already satisfied: packaging>=20.0 in /opt/conda/lib/python3.10/site-packages (from transformers[torch]) (21.3)\n",
      "Requirement already satisfied: pyyaml>=5.1 in /opt/conda/lib/python3.10/site-packages (from transformers[torch]) (6.0.1)\n",
      "Requirement already satisfied: regex!=2019.12.17 in /opt/conda/lib/python3.10/site-packages (from transformers[torch]) (2023.12.25)\n",
      "Requirement already satisfied: requests in /opt/conda/lib/python3.10/site-packages (from transformers[torch]) (2.31.0)\n",
      "Requirement already satisfied: tokenizers<0.19,>=0.14 in /opt/conda/lib/python3.10/site-packages (from transformers[torch]) (0.15.2)\n",
      "Requirement already satisfied: safetensors>=0.4.1 in /opt/conda/lib/python3.10/site-packages (from transformers[torch]) (0.4.2)\n",
      "Requirement already satisfied: tqdm>=4.27 in /opt/conda/lib/python3.10/site-packages (from transformers[torch]) (4.66.1)\n",
      "Requirement already satisfied: torch in /opt/conda/lib/python3.10/site-packages (from transformers[torch]) (2.1.2)\n",
      "Requirement already satisfied: accelerate>=0.21.0 in /opt/conda/lib/python3.10/site-packages (from transformers[torch]) (0.28.0)\n",
      "Requirement already satisfied: psutil in /opt/conda/lib/python3.10/site-packages (from accelerate>=0.21.0->transformers[torch]) (5.9.3)\n",
      "Requirement already satisfied: fsspec>=2023.5.0 in /opt/conda/lib/python3.10/site-packages (from huggingface-hub<1.0,>=0.19.3->transformers[torch]) (2024.2.0)\n",
      "Requirement already satisfied: typing-extensions>=3.7.4.3 in /opt/conda/lib/python3.10/site-packages (from huggingface-hub<1.0,>=0.19.3->transformers[torch]) (4.9.0)\n",
      "Requirement already satisfied: pyparsing!=3.0.5,>=2.0.2 in /opt/conda/lib/python3.10/site-packages (from packaging>=20.0->transformers[torch]) (3.1.1)\n",
      "Requirement already satisfied: sympy in /opt/conda/lib/python3.10/site-packages (from torch->transformers[torch]) (1.12)\n",
      "Requirement already satisfied: networkx in /opt/conda/lib/python3.10/site-packages (from torch->transformers[torch]) (3.2.1)\n",
      "Requirement already satisfied: jinja2 in /opt/conda/lib/python3.10/site-packages (from torch->transformers[torch]) (3.1.2)\n",
      "Requirement already satisfied: charset-normalizer<4,>=2 in /opt/conda/lib/python3.10/site-packages (from requests->transformers[torch]) (3.3.2)\n",
      "Requirement already satisfied: idna<4,>=2.5 in /opt/conda/lib/python3.10/site-packages (from requests->transformers[torch]) (3.6)\n",
      "Requirement already satisfied: urllib3<3,>=1.21.1 in /opt/conda/lib/python3.10/site-packages (from requests->transformers[torch]) (1.26.18)\n",
      "Requirement already satisfied: certifi>=2017.4.17 in /opt/conda/lib/python3.10/site-packages (from requests->transformers[torch]) (2024.2.2)\n",
      "Requirement already satisfied: MarkupSafe>=2.0 in /opt/conda/lib/python3.10/site-packages (from jinja2->torch->transformers[torch]) (2.1.3)\n",
      "Requirement already satisfied: mpmath>=0.19 in /opt/conda/lib/python3.10/site-packages (from sympy->torch->transformers[torch]) (1.3.0)\n"
     ]
    },
    {
     "name": "stderr",
     "output_type": "stream",
     "text": [
      "huggingface/tokenizers: The current process just got forked, after parallelism has already been used. Disabling parallelism to avoid deadlocks...\n",
      "To disable this warning, you can either:\n",
      "\t- Avoid using `tokenizers` before the fork if possible\n",
      "\t- Explicitly set the environment variable TOKENIZERS_PARALLELISM=(true | false)\n"
     ]
    },
    {
     "name": "stdout",
     "output_type": "stream",
     "text": [
      "Requirement already satisfied: accelerate in /opt/conda/lib/python3.10/site-packages (0.28.0)\n",
      "Requirement already satisfied: numpy>=1.17 in /opt/conda/lib/python3.10/site-packages (from accelerate) (1.26.4)\n",
      "Requirement already satisfied: packaging>=20.0 in /opt/conda/lib/python3.10/site-packages (from accelerate) (21.3)\n",
      "Requirement already satisfied: psutil in /opt/conda/lib/python3.10/site-packages (from accelerate) (5.9.3)\n",
      "Requirement already satisfied: pyyaml in /opt/conda/lib/python3.10/site-packages (from accelerate) (6.0.1)\n",
      "Requirement already satisfied: torch>=1.10.0 in /opt/conda/lib/python3.10/site-packages (from accelerate) (2.1.2)\n",
      "Requirement already satisfied: huggingface-hub in /opt/conda/lib/python3.10/site-packages (from accelerate) (0.20.3)\n",
      "Requirement already satisfied: safetensors>=0.3.1 in /opt/conda/lib/python3.10/site-packages (from accelerate) (0.4.2)\n",
      "Requirement already satisfied: pyparsing!=3.0.5,>=2.0.2 in /opt/conda/lib/python3.10/site-packages (from packaging>=20.0->accelerate) (3.1.1)\n",
      "Requirement already satisfied: filelock in /opt/conda/lib/python3.10/site-packages (from torch>=1.10.0->accelerate) (3.13.1)\n",
      "Requirement already satisfied: typing-extensions in /opt/conda/lib/python3.10/site-packages (from torch>=1.10.0->accelerate) (4.9.0)\n",
      "Requirement already satisfied: sympy in /opt/conda/lib/python3.10/site-packages (from torch>=1.10.0->accelerate) (1.12)\n",
      "Requirement already satisfied: networkx in /opt/conda/lib/python3.10/site-packages (from torch>=1.10.0->accelerate) (3.2.1)\n",
      "Requirement already satisfied: jinja2 in /opt/conda/lib/python3.10/site-packages (from torch>=1.10.0->accelerate) (3.1.2)\n",
      "Requirement already satisfied: fsspec in /opt/conda/lib/python3.10/site-packages (from torch>=1.10.0->accelerate) (2024.2.0)\n",
      "Requirement already satisfied: requests in /opt/conda/lib/python3.10/site-packages (from huggingface-hub->accelerate) (2.31.0)\n",
      "Requirement already satisfied: tqdm>=4.42.1 in /opt/conda/lib/python3.10/site-packages (from huggingface-hub->accelerate) (4.66.1)\n",
      "Requirement already satisfied: MarkupSafe>=2.0 in /opt/conda/lib/python3.10/site-packages (from jinja2->torch>=1.10.0->accelerate) (2.1.3)\n",
      "Requirement already satisfied: charset-normalizer<4,>=2 in /opt/conda/lib/python3.10/site-packages (from requests->huggingface-hub->accelerate) (3.3.2)\n",
      "Requirement already satisfied: idna<4,>=2.5 in /opt/conda/lib/python3.10/site-packages (from requests->huggingface-hub->accelerate) (3.6)\n",
      "Requirement already satisfied: urllib3<3,>=1.21.1 in /opt/conda/lib/python3.10/site-packages (from requests->huggingface-hub->accelerate) (1.26.18)\n",
      "Requirement already satisfied: certifi>=2017.4.17 in /opt/conda/lib/python3.10/site-packages (from requests->huggingface-hub->accelerate) (2024.2.2)\n",
      "Requirement already satisfied: mpmath>=0.19 in /opt/conda/lib/python3.10/site-packages (from sympy->torch>=1.10.0->accelerate) (1.3.0)\n"
     ]
    }
   ],
   "source": [
    "!pip3 install datasets\n",
    "!pip3 install sentencepiece\n",
    "!pip3 install seqeval\n",
    "!pip install transformers[torch]\n",
    "!pip install accelerate -U"
   ]
  },
  {
   "cell_type": "code",
   "execution_count": 57,
   "metadata": {
    "execution": {
     "iopub.execute_input": "2024-03-13T09:28:42.817352Z",
     "iopub.status.busy": "2024-03-13T09:28:42.816654Z",
     "iopub.status.idle": "2024-03-13T09:28:42.822586Z",
     "shell.execute_reply": "2024-03-13T09:28:42.821488Z",
     "shell.execute_reply.started": "2024-03-13T09:28:42.817322Z"
    }
   },
   "outputs": [],
   "source": [
    "import datasets\n",
    "import pandas as pd"
   ]
  },
  {
   "cell_type": "code",
   "execution_count": 58,
   "metadata": {
    "execution": {
     "iopub.execute_input": "2024-03-13T09:28:42.826263Z",
     "iopub.status.busy": "2024-03-13T09:28:42.825624Z",
     "iopub.status.idle": "2024-03-13T09:28:45.352057Z",
     "shell.execute_reply": "2024-03-13T09:28:45.350919Z",
     "shell.execute_reply.started": "2024-03-13T09:28:42.826229Z"
    }
   },
   "outputs": [],
   "source": [
    "# Let's download the Naampadam (Indic NER) dataset\n",
    "from datasets import ClassLabel, load_dataset, load_metric, DownloadMode\n",
    "\n",
    "lang='hi'\n",
    "\n",
    "train_dataset = load_dataset('ai4bharat/naamapadam', lang , split = 'train[:20000]')\n",
    "validation_dataset = load_dataset('ai4bharat/naamapadam', lang , split = 'validation')\n",
    "test_dataset = load_dataset('ai4bharat/naamapadam', lang , split = 'test')\n",
    "\n"
   ]
  },
  {
   "cell_type": "code",
   "execution_count": 59,
   "metadata": {
    "execution": {
     "iopub.execute_input": "2024-03-13T09:28:45.354271Z",
     "iopub.status.busy": "2024-03-13T09:28:45.353926Z",
     "iopub.status.idle": "2024-03-13T09:28:45.361413Z",
     "shell.execute_reply": "2024-03-13T09:28:45.360407Z",
     "shell.execute_reply.started": "2024-03-13T09:28:45.354237Z"
    }
   },
   "outputs": [
    {
     "name": "stdout",
     "output_type": "stream",
     "text": [
      "{'tokens': Sequence(feature=Value(dtype='string', id=None), length=-1, id=None), 'ner_tags': Sequence(feature=ClassLabel(num_classes=7, names=['O', 'B-PER', 'I-PER', 'B-ORG', 'I-ORG', 'B-LOC', 'I-LOC'], id=None), length=-1, id=None)}\n"
     ]
    }
   ],
   "source": [
    "features = train_dataset.features\n",
    "print(features)"
   ]
  },
  {
   "cell_type": "code",
   "execution_count": 60,
   "metadata": {
    "execution": {
     "iopub.execute_input": "2024-03-13T09:28:45.363384Z",
     "iopub.status.busy": "2024-03-13T09:28:45.362835Z",
     "iopub.status.idle": "2024-03-13T09:28:45.374267Z",
     "shell.execute_reply": "2024-03-13T09:28:45.372748Z",
     "shell.execute_reply.started": "2024-03-13T09:28:45.363351Z"
    }
   },
   "outputs": [
    {
     "name": "stdout",
     "output_type": "stream",
     "text": [
      "{'O': 0, 'B-PER': 1, 'I-PER': 2, 'B-ORG': 3, 'I-ORG': 4, 'B-LOC': 5, 'I-LOC': 6}\n"
     ]
    }
   ],
   "source": [
    "text_column_name = \"tokens\"\n",
    "label_column_name = \"ner_tags\"\n",
    "\n",
    "label_list = features[label_column_name].feature.names\n",
    "\n",
    "label_to_id = {label_list[i]: features[label_column_name].feature.str2int( label_list[i] ) for i in range(len(label_list))}\n",
    "\n",
    "print(label_to_id)\n",
    "\n",
    "num_labels = len(label_list)\n"
   ]
  },
  {
   "cell_type": "code",
   "execution_count": 61,
   "metadata": {
    "execution": {
     "iopub.execute_input": "2024-03-13T09:28:45.377199Z",
     "iopub.status.busy": "2024-03-13T09:28:45.376863Z",
     "iopub.status.idle": "2024-03-13T09:28:48.488274Z",
     "shell.execute_reply": "2024-03-13T09:28:48.487119Z",
     "shell.execute_reply.started": "2024-03-13T09:28:45.377168Z"
    }
   },
   "outputs": [
    {
     "name": "stderr",
     "output_type": "stream",
     "text": [
      "Some weights of AlbertForTokenClassification were not initialized from the model checkpoint at ai4bharat/indic-bert and are newly initialized: ['classifier.bias', 'classifier.weight']\n",
      "You should probably TRAIN this model on a down-stream task to be able to use it for predictions and inference.\n"
     ]
    }
   ],
   "source": [
    "from transformers import AutoModelForTokenClassification, AutoConfig, AutoTokenizer, TrainingArguments, Trainer, DataCollatorForTokenClassification, EarlyStoppingCallback, IntervalStrategy\n",
    "import numpy as np\n",
    "\n",
    "config = AutoConfig.from_pretrained('ai4bharat/indic-bert', num_labels=num_labels, finetuning_task='ner')\n",
    "tokenizer = AutoTokenizer.from_pretrained(\"ai4bharat/indic-bert\")\n",
    "model = AutoModelForTokenClassification.from_pretrained('ai4bharat/indic-bert', num_labels=num_labels )"
   ]
  },
  {
   "cell_type": "code",
   "execution_count": 62,
   "metadata": {
    "execution": {
     "iopub.execute_input": "2024-03-13T09:28:48.490117Z",
     "iopub.status.busy": "2024-03-13T09:28:48.489698Z",
     "iopub.status.idle": "2024-03-13T09:28:48.500852Z",
     "shell.execute_reply": "2024-03-13T09:28:48.499525Z",
     "shell.execute_reply.started": "2024-03-13T09:28:48.490075Z"
    }
   },
   "outputs": [],
   "source": [
    "# Tokenize all texts and align the labels with them.\n",
    "def tokenize_and_align_labels(examples):\n",
    "    tokenized_inputs = tokenizer(\n",
    "        examples[text_column_name],\n",
    "        padding=\"max_length\",\n",
    "        truncation=True,\n",
    "        max_length=256,\n",
    "        # We use this argument because the texts in our dataset are lists of words (with a label for each word).\n",
    "        is_split_into_words=True,\n",
    "    )\n",
    "    # print(tokenized_inputs)\n",
    "    labels = []\n",
    "    for i, label in enumerate(examples[label_column_name]):\n",
    "        # print('=====')\n",
    "        # print('{} {}'.format(i,label)) #ak\n",
    "        word_ids = tokenized_inputs.word_ids(batch_index=i)\n",
    "\n",
    "        previous_word_idx = None\n",
    "        label_ids = []\n",
    "        for word_idx in word_ids:\n",
    "            # Special tokens have a word id that is None. We set the label to -100 so they are automatically\n",
    "            # ignored in the loss function.\n",
    "            if word_idx is None:\n",
    "                label_ids.append(-100)\n",
    "            # We set the label for the first token of each word.\n",
    "            elif word_idx != previous_word_idx:\n",
    "                label_ids.append(label[word_idx])\n",
    "            # For the other tokens in a word, we set the label to either the current label or -100, depending on\n",
    "            # the label_all_tokens flag.\n",
    "            else:\n",
    "                label_ids.append(-100)\n",
    "            previous_word_idx = word_idx\n",
    "\n",
    "        labels.append(label_ids)\n",
    "    tokenized_inputs[\"labels\"] = labels\n",
    "    # print(tokenized_inputs)\n",
    "    return tokenized_inputs"
   ]
  },
  {
   "cell_type": "code",
   "execution_count": 63,
   "metadata": {
    "execution": {
     "iopub.execute_input": "2024-03-13T09:28:48.502610Z",
     "iopub.status.busy": "2024-03-13T09:28:48.502259Z",
     "iopub.status.idle": "2024-03-13T09:28:48.517248Z",
     "shell.execute_reply": "2024-03-13T09:28:48.516008Z",
     "shell.execute_reply.started": "2024-03-13T09:28:48.502580Z"
    }
   },
   "outputs": [
    {
     "name": "stdout",
     "output_type": "stream",
     "text": [
      "['[CLS]', '▁सक', 'टर', '▁55', '/', '56', '▁क', '▁एसएचओ', '▁अर', 'वद', '▁कमर', '▁न', '▁बत', 'य', '▁क', '▁इस', '▁म', 'मल', '▁म', '▁आई', 'पस', '▁क', '▁धर', '▁376', '▁-', '▁ड', '▁(', '▁ग', 'गर', 'प', '▁)', '▁क', '▁तहत', '▁म', 'मल', '▁दर', 'ज', '▁कर', '▁लय', '▁ग', 'य', '▁ह', '▁।', '[SEP]', '<pad>', '<pad>', '<pad>', '<pad>', '<pad>', '<pad>', '<pad>', '<pad>', '<pad>', '<pad>', '<pad>', '<pad>', '<pad>', '<pad>', '<pad>', '<pad>', '<pad>', '<pad>', '<pad>', '<pad>', '<pad>', '<pad>', '<pad>', '<pad>', '<pad>', '<pad>', '<pad>', '<pad>', '<pad>', '<pad>', '<pad>', '<pad>', '<pad>', '<pad>', '<pad>', '<pad>', '<pad>', '<pad>', '<pad>', '<pad>', '<pad>', '<pad>', '<pad>', '<pad>', '<pad>', '<pad>', '<pad>', '<pad>', '<pad>', '<pad>', '<pad>', '<pad>', '<pad>', '<pad>', '<pad>', '<pad>', '<pad>', '<pad>', '<pad>', '<pad>', '<pad>', '<pad>', '<pad>', '<pad>', '<pad>', '<pad>', '<pad>', '<pad>', '<pad>', '<pad>', '<pad>', '<pad>', '<pad>', '<pad>', '<pad>', '<pad>', '<pad>', '<pad>', '<pad>', '<pad>', '<pad>', '<pad>', '<pad>', '<pad>', '<pad>', '<pad>', '<pad>', '<pad>', '<pad>', '<pad>', '<pad>', '<pad>', '<pad>', '<pad>', '<pad>', '<pad>', '<pad>', '<pad>', '<pad>', '<pad>', '<pad>', '<pad>', '<pad>', '<pad>', '<pad>', '<pad>', '<pad>', '<pad>', '<pad>', '<pad>', '<pad>', '<pad>', '<pad>', '<pad>', '<pad>', '<pad>', '<pad>', '<pad>', '<pad>', '<pad>', '<pad>', '<pad>', '<pad>', '<pad>', '<pad>', '<pad>', '<pad>', '<pad>', '<pad>', '<pad>', '<pad>', '<pad>', '<pad>', '<pad>', '<pad>', '<pad>', '<pad>', '<pad>', '<pad>', '<pad>', '<pad>', '<pad>', '<pad>', '<pad>', '<pad>', '<pad>', '<pad>', '<pad>', '<pad>', '<pad>', '<pad>', '<pad>', '<pad>', '<pad>', '<pad>', '<pad>', '<pad>', '<pad>', '<pad>', '<pad>', '<pad>', '<pad>', '<pad>', '<pad>', '<pad>', '<pad>', '<pad>', '<pad>', '<pad>', '<pad>', '<pad>', '<pad>', '<pad>', '<pad>', '<pad>', '<pad>', '<pad>', '<pad>', '<pad>', '<pad>', '<pad>', '<pad>', '<pad>', '<pad>', '<pad>', '<pad>', '<pad>', '<pad>', '<pad>', '<pad>', '<pad>', '<pad>', '<pad>', '<pad>', '<pad>', '<pad>', '<pad>', '<pad>', '<pad>', '<pad>', '<pad>', '<pad>', '<pad>', '<pad>', '<pad>', '<pad>', '<pad>', '<pad>', '<pad>', '<pad>', '<pad>', '<pad>']\n"
     ]
    }
   ],
   "source": [
    "correct_output = tokenize_and_align_labels(train_dataset[0:1])\n",
    "tokens = tokenizer.convert_ids_to_tokens(correct_output[\"input_ids\"][0])\n",
    "print(tokens)\n",
    "\n",
    "# Now we have input ids and labels to pass to model"
   ]
  },
  {
   "cell_type": "code",
   "execution_count": 64,
   "metadata": {
    "execution": {
     "iopub.execute_input": "2024-03-13T09:28:48.520026Z",
     "iopub.status.busy": "2024-03-13T09:28:48.519786Z",
     "iopub.status.idle": "2024-03-13T09:28:48.561383Z",
     "shell.execute_reply": "2024-03-13T09:28:48.560457Z",
     "shell.execute_reply.started": "2024-03-13T09:28:48.520004Z"
    },
    "scrolled": true
   },
   "outputs": [
    {
     "name": "stdout",
     "output_type": "stream",
     "text": [
      "[CLS]___________________________________-100\n",
      "▁सक_____________________________________0\n",
      "टर______________________________________-100\n",
      "▁55_____________________________________0\n",
      "/_______________________________________-100\n",
      "56______________________________________-100\n",
      "▁क______________________________________0\n",
      "▁एसएचओ__________________________________0\n",
      "▁अर_____________________________________1\n",
      "वद______________________________________-100\n",
      "▁कमर____________________________________2\n",
      "▁न______________________________________0\n",
      "▁बत_____________________________________0\n",
      "य_______________________________________-100\n",
      "▁क______________________________________0\n",
      "▁इस_____________________________________0\n",
      "▁म______________________________________0\n",
      "मल______________________________________-100\n",
      "▁म______________________________________0\n",
      "▁आई_____________________________________0\n",
      "पस______________________________________-100\n",
      "▁क______________________________________0\n",
      "▁धर_____________________________________0\n",
      "▁376____________________________________0\n",
      "▁-______________________________________0\n",
      "▁ड______________________________________0\n",
      "▁(______________________________________0\n",
      "▁ग______________________________________0\n",
      "गर______________________________________-100\n",
      "प_______________________________________-100\n",
      "▁)______________________________________0\n",
      "▁क______________________________________0\n",
      "▁तहत____________________________________0\n",
      "▁म______________________________________0\n",
      "मल______________________________________-100\n",
      "▁दर_____________________________________0\n",
      "ज_______________________________________-100\n",
      "▁कर_____________________________________0\n",
      "▁लय_____________________________________0\n",
      "▁ग______________________________________0\n",
      "य_______________________________________-100\n",
      "▁ह______________________________________0\n",
      "▁।______________________________________0\n",
      "[SEP]___________________________________-100\n",
      "<pad>___________________________________-100\n",
      "<pad>___________________________________-100\n",
      "<pad>___________________________________-100\n",
      "<pad>___________________________________-100\n",
      "<pad>___________________________________-100\n",
      "<pad>___________________________________-100\n",
      "<pad>___________________________________-100\n",
      "<pad>___________________________________-100\n",
      "<pad>___________________________________-100\n",
      "<pad>___________________________________-100\n",
      "<pad>___________________________________-100\n",
      "<pad>___________________________________-100\n",
      "<pad>___________________________________-100\n",
      "<pad>___________________________________-100\n",
      "<pad>___________________________________-100\n",
      "<pad>___________________________________-100\n",
      "<pad>___________________________________-100\n",
      "<pad>___________________________________-100\n",
      "<pad>___________________________________-100\n",
      "<pad>___________________________________-100\n",
      "<pad>___________________________________-100\n",
      "<pad>___________________________________-100\n",
      "<pad>___________________________________-100\n",
      "<pad>___________________________________-100\n",
      "<pad>___________________________________-100\n",
      "<pad>___________________________________-100\n",
      "<pad>___________________________________-100\n",
      "<pad>___________________________________-100\n",
      "<pad>___________________________________-100\n",
      "<pad>___________________________________-100\n",
      "<pad>___________________________________-100\n",
      "<pad>___________________________________-100\n",
      "<pad>___________________________________-100\n",
      "<pad>___________________________________-100\n",
      "<pad>___________________________________-100\n",
      "<pad>___________________________________-100\n",
      "<pad>___________________________________-100\n",
      "<pad>___________________________________-100\n",
      "<pad>___________________________________-100\n",
      "<pad>___________________________________-100\n",
      "<pad>___________________________________-100\n",
      "<pad>___________________________________-100\n",
      "<pad>___________________________________-100\n",
      "<pad>___________________________________-100\n",
      "<pad>___________________________________-100\n",
      "<pad>___________________________________-100\n",
      "<pad>___________________________________-100\n",
      "<pad>___________________________________-100\n",
      "<pad>___________________________________-100\n",
      "<pad>___________________________________-100\n",
      "<pad>___________________________________-100\n",
      "<pad>___________________________________-100\n",
      "<pad>___________________________________-100\n",
      "<pad>___________________________________-100\n",
      "<pad>___________________________________-100\n",
      "<pad>___________________________________-100\n",
      "<pad>___________________________________-100\n",
      "<pad>___________________________________-100\n",
      "<pad>___________________________________-100\n",
      "<pad>___________________________________-100\n",
      "<pad>___________________________________-100\n",
      "<pad>___________________________________-100\n",
      "<pad>___________________________________-100\n",
      "<pad>___________________________________-100\n",
      "<pad>___________________________________-100\n",
      "<pad>___________________________________-100\n",
      "<pad>___________________________________-100\n",
      "<pad>___________________________________-100\n",
      "<pad>___________________________________-100\n",
      "<pad>___________________________________-100\n",
      "<pad>___________________________________-100\n",
      "<pad>___________________________________-100\n",
      "<pad>___________________________________-100\n",
      "<pad>___________________________________-100\n",
      "<pad>___________________________________-100\n",
      "<pad>___________________________________-100\n",
      "<pad>___________________________________-100\n",
      "<pad>___________________________________-100\n",
      "<pad>___________________________________-100\n",
      "<pad>___________________________________-100\n",
      "<pad>___________________________________-100\n",
      "<pad>___________________________________-100\n",
      "<pad>___________________________________-100\n",
      "<pad>___________________________________-100\n",
      "<pad>___________________________________-100\n",
      "<pad>___________________________________-100\n",
      "<pad>___________________________________-100\n",
      "<pad>___________________________________-100\n",
      "<pad>___________________________________-100\n",
      "<pad>___________________________________-100\n",
      "<pad>___________________________________-100\n",
      "<pad>___________________________________-100\n",
      "<pad>___________________________________-100\n",
      "<pad>___________________________________-100\n",
      "<pad>___________________________________-100\n",
      "<pad>___________________________________-100\n",
      "<pad>___________________________________-100\n",
      "<pad>___________________________________-100\n",
      "<pad>___________________________________-100\n",
      "<pad>___________________________________-100\n",
      "<pad>___________________________________-100\n",
      "<pad>___________________________________-100\n",
      "<pad>___________________________________-100\n",
      "<pad>___________________________________-100\n",
      "<pad>___________________________________-100\n",
      "<pad>___________________________________-100\n",
      "<pad>___________________________________-100\n",
      "<pad>___________________________________-100\n",
      "<pad>___________________________________-100\n",
      "<pad>___________________________________-100\n",
      "<pad>___________________________________-100\n",
      "<pad>___________________________________-100\n",
      "<pad>___________________________________-100\n",
      "<pad>___________________________________-100\n",
      "<pad>___________________________________-100\n",
      "<pad>___________________________________-100\n",
      "<pad>___________________________________-100\n",
      "<pad>___________________________________-100\n",
      "<pad>___________________________________-100\n",
      "<pad>___________________________________-100\n",
      "<pad>___________________________________-100\n",
      "<pad>___________________________________-100\n",
      "<pad>___________________________________-100\n",
      "<pad>___________________________________-100\n",
      "<pad>___________________________________-100\n",
      "<pad>___________________________________-100\n",
      "<pad>___________________________________-100\n",
      "<pad>___________________________________-100\n",
      "<pad>___________________________________-100\n",
      "<pad>___________________________________-100\n",
      "<pad>___________________________________-100\n",
      "<pad>___________________________________-100\n",
      "<pad>___________________________________-100\n",
      "<pad>___________________________________-100\n",
      "<pad>___________________________________-100\n",
      "<pad>___________________________________-100\n",
      "<pad>___________________________________-100\n",
      "<pad>___________________________________-100\n",
      "<pad>___________________________________-100\n",
      "<pad>___________________________________-100\n",
      "<pad>___________________________________-100\n",
      "<pad>___________________________________-100\n",
      "<pad>___________________________________-100\n",
      "<pad>___________________________________-100\n",
      "<pad>___________________________________-100\n",
      "<pad>___________________________________-100\n",
      "<pad>___________________________________-100\n",
      "<pad>___________________________________-100\n",
      "<pad>___________________________________-100\n",
      "<pad>___________________________________-100\n",
      "<pad>___________________________________-100\n",
      "<pad>___________________________________-100\n",
      "<pad>___________________________________-100\n",
      "<pad>___________________________________-100\n",
      "<pad>___________________________________-100\n",
      "<pad>___________________________________-100\n",
      "<pad>___________________________________-100\n",
      "<pad>___________________________________-100\n",
      "<pad>___________________________________-100\n",
      "<pad>___________________________________-100\n",
      "<pad>___________________________________-100\n",
      "<pad>___________________________________-100\n",
      "<pad>___________________________________-100\n",
      "<pad>___________________________________-100\n",
      "<pad>___________________________________-100\n",
      "<pad>___________________________________-100\n",
      "<pad>___________________________________-100\n",
      "<pad>___________________________________-100\n",
      "<pad>___________________________________-100\n",
      "<pad>___________________________________-100\n",
      "<pad>___________________________________-100\n",
      "<pad>___________________________________-100\n",
      "<pad>___________________________________-100\n",
      "<pad>___________________________________-100\n",
      "<pad>___________________________________-100\n",
      "<pad>___________________________________-100\n",
      "<pad>___________________________________-100\n",
      "<pad>___________________________________-100\n",
      "<pad>___________________________________-100\n",
      "<pad>___________________________________-100\n",
      "<pad>___________________________________-100\n",
      "<pad>___________________________________-100\n",
      "<pad>___________________________________-100\n",
      "<pad>___________________________________-100\n",
      "<pad>___________________________________-100\n",
      "<pad>___________________________________-100\n",
      "<pad>___________________________________-100\n",
      "<pad>___________________________________-100\n",
      "<pad>___________________________________-100\n",
      "<pad>___________________________________-100\n",
      "<pad>___________________________________-100\n",
      "<pad>___________________________________-100\n",
      "<pad>___________________________________-100\n",
      "<pad>___________________________________-100\n",
      "<pad>___________________________________-100\n",
      "<pad>___________________________________-100\n",
      "<pad>___________________________________-100\n",
      "<pad>___________________________________-100\n",
      "<pad>___________________________________-100\n",
      "<pad>___________________________________-100\n",
      "<pad>___________________________________-100\n",
      "<pad>___________________________________-100\n",
      "<pad>___________________________________-100\n",
      "<pad>___________________________________-100\n",
      "<pad>___________________________________-100\n",
      "<pad>___________________________________-100\n",
      "<pad>___________________________________-100\n",
      "<pad>___________________________________-100\n",
      "<pad>___________________________________-100\n",
      "<pad>___________________________________-100\n",
      "<pad>___________________________________-100\n",
      "<pad>___________________________________-100\n"
     ]
    }
   ],
   "source": [
    "for token,label in zip(tokenizer.convert_ids_to_tokens(correct_output[\"input_ids\"][0]) , correct_output[\"labels\"][0]):\n",
    "  print(f\"{token:_<40}{label}\")\n"
   ]
  },
  {
   "cell_type": "code",
   "execution_count": 65,
   "metadata": {
    "execution": {
     "iopub.execute_input": "2024-03-13T09:28:48.563377Z",
     "iopub.status.busy": "2024-03-13T09:28:48.562628Z",
     "iopub.status.idle": "2024-03-13T09:28:56.899252Z",
     "shell.execute_reply": "2024-03-13T09:28:56.898123Z",
     "shell.execute_reply.started": "2024-03-13T09:28:48.563344Z"
    }
   },
   "outputs": [
    {
     "data": {
      "application/vnd.jupyter.widget-view+json": {
       "model_id": "8863d55ba6f1499ea6b104600cd3f9d5",
       "version_major": 2,
       "version_minor": 0
      },
      "text/plain": [
       "  0%|          | 0/20 [00:00<?, ?ba/s]"
      ]
     },
     "metadata": {},
     "output_type": "display_data"
    },
    {
     "name": "stdout",
     "output_type": "stream",
     "text": [
      "Dataset({\n",
      "    features: ['tokens', 'ner_tags', 'input_ids', 'token_type_ids', 'attention_mask', 'labels'],\n",
      "    num_rows: 20000\n",
      "})\n"
     ]
    }
   ],
   "source": [
    "tokenized_train_dataset = train_dataset.map(\n",
    "    tokenize_and_align_labels,\n",
    "    batched=True,\n",
    ")\n",
    "print(tokenized_train_dataset)"
   ]
  },
  {
   "cell_type": "code",
   "execution_count": 66,
   "metadata": {
    "execution": {
     "iopub.execute_input": "2024-03-13T09:28:56.900991Z",
     "iopub.status.busy": "2024-03-13T09:28:56.900622Z",
     "iopub.status.idle": "2024-03-13T09:28:56.913440Z",
     "shell.execute_reply": "2024-03-13T09:28:56.912526Z",
     "shell.execute_reply.started": "2024-03-13T09:28:56.900955Z"
    }
   },
   "outputs": [
    {
     "name": "stdout",
     "output_type": "stream",
     "text": [
      "30\n",
      "256\n",
      "256\n"
     ]
    }
   ],
   "source": [
    "# Problem is fixed now!!\n",
    "print(len(tokenized_train_dataset[0]['ner_tags']))\n",
    "print(len(tokenized_train_dataset[0]['labels']))\n",
    "print(len(tokenized_train_dataset[0]['input_ids']))"
   ]
  },
  {
   "cell_type": "code",
   "execution_count": 67,
   "metadata": {
    "execution": {
     "iopub.execute_input": "2024-03-13T09:28:56.918665Z",
     "iopub.status.busy": "2024-03-13T09:28:56.918268Z",
     "iopub.status.idle": "2024-03-13T09:28:57.178202Z",
     "shell.execute_reply": "2024-03-13T09:28:57.177100Z",
     "shell.execute_reply.started": "2024-03-13T09:28:56.918629Z"
    }
   },
   "outputs": [
    {
     "name": "stdout",
     "output_type": "stream",
     "text": [
      "Dataset({\n",
      "    features: ['tokens', 'ner_tags', 'input_ids', 'token_type_ids', 'attention_mask', 'labels'],\n",
      "    num_rows: 867\n",
      "})\n"
     ]
    }
   ],
   "source": [
    "# Test Dataset\n",
    "tokenized_test_dataset = test_dataset.map(\n",
    "    tokenize_and_align_labels,\n",
    "    batched=True,\n",
    ")\n",
    "print(tokenized_test_dataset)"
   ]
  },
  {
   "cell_type": "code",
   "execution_count": 68,
   "metadata": {
    "execution": {
     "iopub.execute_input": "2024-03-13T09:28:57.179747Z",
     "iopub.status.busy": "2024-03-13T09:28:57.179439Z",
     "iopub.status.idle": "2024-03-13T09:28:57.191401Z",
     "shell.execute_reply": "2024-03-13T09:28:57.190099Z",
     "shell.execute_reply.started": "2024-03-13T09:28:57.179722Z"
    }
   },
   "outputs": [
    {
     "name": "stdout",
     "output_type": "stream",
     "text": [
      "Dataset({\n",
      "    features: ['tokens', 'ner_tags', 'input_ids', 'token_type_ids', 'attention_mask', 'labels'],\n",
      "    num_rows: 867\n",
      "})\n"
     ]
    }
   ],
   "source": [
    "# Validation DataSet\n",
    "tokenized_validation_dataset = validation_dataset.map(\n",
    "    tokenize_and_align_labels,\n",
    "    batched=True,\n",
    ")\n",
    "print(tokenized_validation_dataset)"
   ]
  },
  {
   "cell_type": "code",
   "execution_count": 69,
   "metadata": {
    "execution": {
     "iopub.execute_input": "2024-03-13T09:28:57.193671Z",
     "iopub.status.busy": "2024-03-13T09:28:57.192952Z",
     "iopub.status.idle": "2024-03-13T09:28:57.201581Z",
     "shell.execute_reply": "2024-03-13T09:28:57.200432Z",
     "shell.execute_reply.started": "2024-03-13T09:28:57.193637Z"
    }
   },
   "outputs": [],
   "source": [
    "# Data Collator\n",
    "data_collator = DataCollatorForTokenClassification(tokenizer)"
   ]
  },
  {
   "cell_type": "code",
   "execution_count": 70,
   "metadata": {
    "execution": {
     "iopub.execute_input": "2024-03-13T09:28:57.203326Z",
     "iopub.status.busy": "2024-03-13T09:28:57.202698Z",
     "iopub.status.idle": "2024-03-13T09:28:57.682475Z",
     "shell.execute_reply": "2024-03-13T09:28:57.681514Z",
     "shell.execute_reply.started": "2024-03-13T09:28:57.203292Z"
    }
   },
   "outputs": [],
   "source": [
    "# Metric to see how my model is performing For NER we use seqeval\n",
    "metric = datasets.load_metric(\"seqeval\")"
   ]
  },
  {
   "cell_type": "code",
   "execution_count": 71,
   "metadata": {
    "execution": {
     "iopub.execute_input": "2024-03-13T09:28:57.684041Z",
     "iopub.status.busy": "2024-03-13T09:28:57.683743Z",
     "iopub.status.idle": "2024-03-13T09:28:57.703631Z",
     "shell.execute_reply": "2024-03-13T09:28:57.702661Z",
     "shell.execute_reply.started": "2024-03-13T09:28:57.684013Z"
    }
   },
   "outputs": [
    {
     "name": "stdout",
     "output_type": "stream",
     "text": [
      "['O', 'O', 'O', 'O', 'B-PER', 'I-PER', 'O', 'O', 'O', 'O', 'O', 'O', 'O', 'O', 'O', 'O', 'O', 'O', 'O', 'O', 'O', 'O', 'O', 'O', 'O', 'O', 'O', 'O', 'O', 'O']\n"
     ]
    },
    {
     "data": {
      "text/plain": [
       "{'PER': {'precision': 1.0, 'recall': 1.0, 'f1': 1.0, 'number': 1},\n",
       " 'overall_precision': 1.0,\n",
       " 'overall_recall': 1.0,\n",
       " 'overall_f1': 1.0,\n",
       " 'overall_accuracy': 1.0}"
      ]
     },
     "execution_count": 71,
     "metadata": {},
     "output_type": "execute_result"
    }
   ],
   "source": [
    "# Seeing the working of seqeval\n",
    "example_text = train_dataset[0]\n",
    "label_list = train_dataset.features[\"ner_tags\"].feature.names\n",
    "label_list\n",
    "\n",
    "labels = [label_list[i] for i in example_text[\"ner_tags\"]]\n",
    "print(labels)\n",
    "\n",
    "metric.compute(predictions=[labels] , references=[labels])"
   ]
  },
  {
   "cell_type": "code",
   "execution_count": 72,
   "metadata": {
    "execution": {
     "iopub.execute_input": "2024-03-13T09:28:57.705319Z",
     "iopub.status.busy": "2024-03-13T09:28:57.704976Z",
     "iopub.status.idle": "2024-03-13T09:28:58.162654Z",
     "shell.execute_reply": "2024-03-13T09:28:58.161601Z",
     "shell.execute_reply.started": "2024-03-13T09:28:57.705287Z"
    }
   },
   "outputs": [],
   "source": [
    "# Metrics\n",
    "metric = load_metric(\"seqeval\")\n",
    "\n",
    "def compute_metrics(p):\n",
    "    predictions, labels = p\n",
    "    predictions = np.argmax(predictions, axis=2)\n",
    "\n",
    "    # Remove ignored index (special tokens)\n",
    "    true_predictions = [\n",
    "        [label_list[p] for (p, l) in zip(prediction, label) if l != -100]\n",
    "        for prediction, label in zip(predictions, labels)\n",
    "    ]\n",
    "    true_labels = [\n",
    "        [label_list[l] for (p, l) in zip(prediction, label) if l != -100]\n",
    "        for prediction, label in zip(predictions, labels)\n",
    "    ]\n",
    "\n",
    "    results = metric.compute(predictions=true_predictions, references=true_labels)\n",
    "    # Unpack nested dictionaries\n",
    "    final_results = {}\n",
    "    for key, value in results.items():\n",
    "        if isinstance(value, dict):\n",
    "            for n, v in value.items():\n",
    "                final_results[f\"{key}_{n}\"] = v\n",
    "        else:\n",
    "            final_results[key] = value\n",
    "    return final_results"
   ]
  },
  {
   "cell_type": "code",
   "execution_count": 73,
   "metadata": {
    "execution": {
     "iopub.execute_input": "2024-03-13T09:28:58.164348Z",
     "iopub.status.busy": "2024-03-13T09:28:58.163975Z",
     "iopub.status.idle": "2024-03-13T09:28:58.180497Z",
     "shell.execute_reply": "2024-03-13T09:28:58.179342Z",
     "shell.execute_reply.started": "2024-03-13T09:28:58.164309Z"
    }
   },
   "outputs": [],
   "source": [
    "# Define Training Args\n",
    "args = TrainingArguments(\n",
    "    output_dir=f\"model/upos\",\n",
    "    overwrite_output_dir=True,\n",
    "    evaluation_strategy = \"steps\",\n",
    "    learning_rate=5e-5,\n",
    "    per_device_train_batch_size=8,\n",
    "    per_device_eval_batch_size=8,\n",
    "    num_train_epochs=2,\n",
    "#     weight_decay=0.001,\n",
    "    save_total_limit=1,\n",
    ")"
   ]
  },
  {
   "cell_type": "code",
   "execution_count": 74,
   "metadata": {
    "execution": {
     "iopub.execute_input": "2024-03-13T09:28:58.182474Z",
     "iopub.status.busy": "2024-03-13T09:28:58.182096Z",
     "iopub.status.idle": "2024-03-13T09:28:58.231537Z",
     "shell.execute_reply": "2024-03-13T09:28:58.230417Z",
     "shell.execute_reply.started": "2024-03-13T09:28:58.182426Z"
    }
   },
   "outputs": [],
   "source": [
    "trainer = Trainer(\n",
    "   model,\n",
    "   args,\n",
    "   train_dataset=tokenized_train_dataset,\n",
    "   eval_dataset=tokenized_validation_dataset,\n",
    "   data_collator=data_collator,\n",
    "   tokenizer=tokenizer,\n",
    "   compute_metrics=compute_metrics,\n",
    ")"
   ]
  },
  {
   "cell_type": "code",
   "execution_count": 75,
   "metadata": {
    "execution": {
     "iopub.execute_input": "2024-03-13T09:28:58.233066Z",
     "iopub.status.busy": "2024-03-13T09:28:58.232738Z",
     "iopub.status.idle": "2024-03-13T09:47:09.011222Z",
     "shell.execute_reply": "2024-03-13T09:47:09.010188Z",
     "shell.execute_reply.started": "2024-03-13T09:28:58.233033Z"
    }
   },
   "outputs": [
    {
     "data": {
      "text/html": [
       "\n",
       "    <div>\n",
       "      \n",
       "      <progress value='5000' max='5000' style='width:300px; height:20px; vertical-align: middle;'></progress>\n",
       "      [5000/5000 18:10, Epoch 2/2]\n",
       "    </div>\n",
       "    <table border=\"1\" class=\"dataframe\">\n",
       "  <thead>\n",
       " <tr style=\"text-align: left;\">\n",
       "      <th>Step</th>\n",
       "      <th>Training Loss</th>\n",
       "      <th>Validation Loss</th>\n",
       "      <th>Loc Precision</th>\n",
       "      <th>Loc Recall</th>\n",
       "      <th>Loc F1</th>\n",
       "      <th>Loc Number</th>\n",
       "      <th>Org Precision</th>\n",
       "      <th>Org Recall</th>\n",
       "      <th>Org F1</th>\n",
       "      <th>Org Number</th>\n",
       "      <th>Per Precision</th>\n",
       "      <th>Per Recall</th>\n",
       "      <th>Per F1</th>\n",
       "      <th>Per Number</th>\n",
       "      <th>Overall Precision</th>\n",
       "      <th>Overall Recall</th>\n",
       "      <th>Overall F1</th>\n",
       "      <th>Overall Accuracy</th>\n",
       "    </tr>\n",
       "  </thead>\n",
       "  <tbody>\n",
       "    <tr>\n",
       "      <td>500</td>\n",
       "      <td>0.520600</td>\n",
       "      <td>0.350046</td>\n",
       "      <td>0.663291</td>\n",
       "      <td>0.426710</td>\n",
       "      <td>0.519326</td>\n",
       "      <td>614</td>\n",
       "      <td>0.437209</td>\n",
       "      <td>0.358095</td>\n",
       "      <td>0.393717</td>\n",
       "      <td>525</td>\n",
       "      <td>0.610191</td>\n",
       "      <td>0.606329</td>\n",
       "      <td>0.608254</td>\n",
       "      <td>790</td>\n",
       "      <td>0.577019</td>\n",
       "      <td>0.481597</td>\n",
       "      <td>0.525007</td>\n",
       "      <td>0.896697</td>\n",
       "    </tr>\n",
       "    <tr>\n",
       "      <td>1000</td>\n",
       "      <td>0.359700</td>\n",
       "      <td>0.306253</td>\n",
       "      <td>0.671946</td>\n",
       "      <td>0.483713</td>\n",
       "      <td>0.562500</td>\n",
       "      <td>614</td>\n",
       "      <td>0.507400</td>\n",
       "      <td>0.457143</td>\n",
       "      <td>0.480962</td>\n",
       "      <td>525</td>\n",
       "      <td>0.735816</td>\n",
       "      <td>0.525316</td>\n",
       "      <td>0.612999</td>\n",
       "      <td>790</td>\n",
       "      <td>0.643678</td>\n",
       "      <td>0.493520</td>\n",
       "      <td>0.558685</td>\n",
       "      <td>0.906500</td>\n",
       "    </tr>\n",
       "    <tr>\n",
       "      <td>1500</td>\n",
       "      <td>0.326500</td>\n",
       "      <td>0.265975</td>\n",
       "      <td>0.671078</td>\n",
       "      <td>0.578176</td>\n",
       "      <td>0.621172</td>\n",
       "      <td>614</td>\n",
       "      <td>0.542094</td>\n",
       "      <td>0.502857</td>\n",
       "      <td>0.521739</td>\n",
       "      <td>525</td>\n",
       "      <td>0.738162</td>\n",
       "      <td>0.670886</td>\n",
       "      <td>0.702918</td>\n",
       "      <td>790</td>\n",
       "      <td>0.662630</td>\n",
       "      <td>0.595645</td>\n",
       "      <td>0.627355</td>\n",
       "      <td>0.917810</td>\n",
       "    </tr>\n",
       "    <tr>\n",
       "      <td>2000</td>\n",
       "      <td>0.293000</td>\n",
       "      <td>0.259688</td>\n",
       "      <td>0.666667</td>\n",
       "      <td>0.648208</td>\n",
       "      <td>0.657308</td>\n",
       "      <td>614</td>\n",
       "      <td>0.578378</td>\n",
       "      <td>0.611429</td>\n",
       "      <td>0.594444</td>\n",
       "      <td>525</td>\n",
       "      <td>0.768519</td>\n",
       "      <td>0.630380</td>\n",
       "      <td>0.692629</td>\n",
       "      <td>790</td>\n",
       "      <td>0.676111</td>\n",
       "      <td>0.630897</td>\n",
       "      <td>0.652722</td>\n",
       "      <td>0.921882</td>\n",
       "    </tr>\n",
       "    <tr>\n",
       "      <td>2500</td>\n",
       "      <td>0.286700</td>\n",
       "      <td>0.238546</td>\n",
       "      <td>0.697974</td>\n",
       "      <td>0.617264</td>\n",
       "      <td>0.655143</td>\n",
       "      <td>614</td>\n",
       "      <td>0.679293</td>\n",
       "      <td>0.512381</td>\n",
       "      <td>0.584148</td>\n",
       "      <td>525</td>\n",
       "      <td>0.740947</td>\n",
       "      <td>0.673418</td>\n",
       "      <td>0.705570</td>\n",
       "      <td>790</td>\n",
       "      <td>0.712130</td>\n",
       "      <td>0.611716</td>\n",
       "      <td>0.658115</td>\n",
       "      <td>0.926054</td>\n",
       "    </tr>\n",
       "    <tr>\n",
       "      <td>3000</td>\n",
       "      <td>0.245500</td>\n",
       "      <td>0.227976</td>\n",
       "      <td>0.748515</td>\n",
       "      <td>0.615635</td>\n",
       "      <td>0.675603</td>\n",
       "      <td>614</td>\n",
       "      <td>0.604278</td>\n",
       "      <td>0.645714</td>\n",
       "      <td>0.624309</td>\n",
       "      <td>525</td>\n",
       "      <td>0.675086</td>\n",
       "      <td>0.744304</td>\n",
       "      <td>0.708007</td>\n",
       "      <td>790</td>\n",
       "      <td>0.673722</td>\n",
       "      <td>0.676516</td>\n",
       "      <td>0.675116</td>\n",
       "      <td>0.927965</td>\n",
       "    </tr>\n",
       "    <tr>\n",
       "      <td>3500</td>\n",
       "      <td>0.246700</td>\n",
       "      <td>0.220478</td>\n",
       "      <td>0.681661</td>\n",
       "      <td>0.641694</td>\n",
       "      <td>0.661074</td>\n",
       "      <td>614</td>\n",
       "      <td>0.631068</td>\n",
       "      <td>0.619048</td>\n",
       "      <td>0.625000</td>\n",
       "      <td>525</td>\n",
       "      <td>0.760363</td>\n",
       "      <td>0.743038</td>\n",
       "      <td>0.751601</td>\n",
       "      <td>790</td>\n",
       "      <td>0.700268</td>\n",
       "      <td>0.677035</td>\n",
       "      <td>0.688455</td>\n",
       "      <td>0.930729</td>\n",
       "    </tr>\n",
       "    <tr>\n",
       "      <td>4000</td>\n",
       "      <td>0.228500</td>\n",
       "      <td>0.214371</td>\n",
       "      <td>0.652449</td>\n",
       "      <td>0.672638</td>\n",
       "      <td>0.662390</td>\n",
       "      <td>614</td>\n",
       "      <td>0.639922</td>\n",
       "      <td>0.622857</td>\n",
       "      <td>0.631274</td>\n",
       "      <td>525</td>\n",
       "      <td>0.769129</td>\n",
       "      <td>0.737975</td>\n",
       "      <td>0.753230</td>\n",
       "      <td>790</td>\n",
       "      <td>0.695584</td>\n",
       "      <td>0.685848</td>\n",
       "      <td>0.690681</td>\n",
       "      <td>0.932036</td>\n",
       "    </tr>\n",
       "    <tr>\n",
       "      <td>4500</td>\n",
       "      <td>0.226000</td>\n",
       "      <td>0.212517</td>\n",
       "      <td>0.676667</td>\n",
       "      <td>0.661238</td>\n",
       "      <td>0.668863</td>\n",
       "      <td>614</td>\n",
       "      <td>0.617811</td>\n",
       "      <td>0.634286</td>\n",
       "      <td>0.625940</td>\n",
       "      <td>525</td>\n",
       "      <td>0.768824</td>\n",
       "      <td>0.736709</td>\n",
       "      <td>0.752424</td>\n",
       "      <td>790</td>\n",
       "      <td>0.696730</td>\n",
       "      <td>0.684811</td>\n",
       "      <td>0.690719</td>\n",
       "      <td>0.932941</td>\n",
       "    </tr>\n",
       "    <tr>\n",
       "      <td>5000</td>\n",
       "      <td>0.224200</td>\n",
       "      <td>0.209151</td>\n",
       "      <td>0.685185</td>\n",
       "      <td>0.662866</td>\n",
       "      <td>0.673841</td>\n",
       "      <td>614</td>\n",
       "      <td>0.635036</td>\n",
       "      <td>0.662857</td>\n",
       "      <td>0.648649</td>\n",
       "      <td>525</td>\n",
       "      <td>0.765161</td>\n",
       "      <td>0.750633</td>\n",
       "      <td>0.757827</td>\n",
       "      <td>790</td>\n",
       "      <td>0.703182</td>\n",
       "      <td>0.698808</td>\n",
       "      <td>0.700988</td>\n",
       "      <td>0.933997</td>\n",
       "    </tr>\n",
       "  </tbody>\n",
       "</table><p>"
      ],
      "text/plain": [
       "<IPython.core.display.HTML object>"
      ]
     },
     "metadata": {},
     "output_type": "display_data"
    },
    {
     "name": "stderr",
     "output_type": "stream",
     "text": [
      "Checkpoint destination directory model/upos/checkpoint-5000 already exists and is non-empty. Saving will proceed but saved results may be invalid.\n"
     ]
    }
   ],
   "source": [
    "train_result = trainer.train()\n",
    "metrics = train_result.metrics"
   ]
  },
  {
   "cell_type": "code",
   "execution_count": 76,
   "metadata": {
    "execution": {
     "iopub.execute_input": "2024-03-13T09:47:09.013110Z",
     "iopub.status.busy": "2024-03-13T09:47:09.012812Z",
     "iopub.status.idle": "2024-03-13T09:47:09.019305Z",
     "shell.execute_reply": "2024-03-13T09:47:09.018375Z",
     "shell.execute_reply.started": "2024-03-13T09:47:09.013066Z"
    }
   },
   "outputs": [
    {
     "name": "stdout",
     "output_type": "stream",
     "text": [
      "{'train_runtime': 1090.3439, 'train_samples_per_second': 36.686, 'train_steps_per_second': 4.586, 'total_flos': 441912299520000.0, 'train_loss': 0.29573103637695314, 'epoch': 2.0}\n"
     ]
    }
   ],
   "source": [
    "print(metrics)"
   ]
  },
  {
   "cell_type": "code",
   "execution_count": 77,
   "metadata": {
    "execution": {
     "iopub.execute_input": "2024-03-13T09:47:09.021076Z",
     "iopub.status.busy": "2024-03-13T09:47:09.020730Z",
     "iopub.status.idle": "2024-03-13T09:47:09.031324Z",
     "shell.execute_reply": "2024-03-13T09:47:09.030303Z",
     "shell.execute_reply.started": "2024-03-13T09:47:09.021044Z"
    }
   },
   "outputs": [
    {
     "name": "stdout",
     "output_type": "stream",
     "text": [
      "0.720911\n"
     ]
    }
   ],
   "source": [
    "sumoff1score=0.776407+0.624282+0.762044\n",
    "macrof1=sumoff1score/3\n",
    "print(macrof1)"
   ]
  },
  {
   "cell_type": "code",
   "execution_count": 78,
   "metadata": {
    "execution": {
     "iopub.execute_input": "2024-03-13T09:47:09.033786Z",
     "iopub.status.busy": "2024-03-13T09:47:09.033088Z",
     "iopub.status.idle": "2024-03-13T09:47:09.382858Z",
     "shell.execute_reply": "2024-03-13T09:47:09.381687Z",
     "shell.execute_reply.started": "2024-03-13T09:47:09.033754Z"
    }
   },
   "outputs": [],
   "source": [
    "# Save Model\n",
    "trainer.save_model(\"model_indic_ner_5Epoch_one_lakh\")"
   ]
  },
  {
   "cell_type": "code",
   "execution_count": 79,
   "metadata": {
    "execution": {
     "iopub.execute_input": "2024-03-13T09:47:09.384625Z",
     "iopub.status.busy": "2024-03-13T09:47:09.384283Z",
     "iopub.status.idle": "2024-03-13T09:47:09.393202Z",
     "shell.execute_reply": "2024-03-13T09:47:09.392253Z",
     "shell.execute_reply.started": "2024-03-13T09:47:09.384597Z"
    }
   },
   "outputs": [],
   "source": [
    "import zipfile\n",
    "import os\n",
    "from IPython.display import FileLink\n",
    "\n",
    "def zip_dir(directory = os.curdir, file_name = 'directory.zip'):\n",
    "    \"\"\"\n",
    "    zip all the files in a directory\n",
    "    \n",
    "    Parameters\n",
    "    ___\n",
    "    directory: str\n",
    "        directory needs to be zipped, defualt is current working directory\n",
    "        \n",
    "    file_name: str\n",
    "        the name of the zipped file (including .zip), default is 'directory.zip'\n",
    "        \n",
    "    Returns\n",
    "    ___\n",
    "    Creates a hyperlink, which can be used to download the zip file)\n",
    "    \"\"\"\n",
    "    os.chdir(directory)\n",
    "    zip_ref = zipfile.ZipFile(file_name, mode='w')\n",
    "    for folder, _, files in os.walk(directory):\n",
    "        for file in files:\n",
    "            if file_name in file:\n",
    "                pass\n",
    "            else:\n",
    "                zip_ref.write(os.path.join(folder, file))\n",
    "\n",
    "    return FileLink(file_name)"
   ]
  },
  {
   "cell_type": "code",
   "execution_count": 80,
   "metadata": {
    "execution": {
     "iopub.execute_input": "2024-03-13T09:47:09.395454Z",
     "iopub.status.busy": "2024-03-13T09:47:09.394608Z",
     "iopub.status.idle": "2024-03-13T09:47:10.817285Z",
     "shell.execute_reply": "2024-03-13T09:47:10.816175Z",
     "shell.execute_reply.started": "2024-03-13T09:47:09.395428Z"
    }
   },
   "outputs": [
    {
     "data": {
      "text/html": [
       "<a href='directory.zip' target='_blank'>directory.zip</a><br>"
      ],
      "text/plain": [
       "/kaggle/working/directory.zip"
      ]
     },
     "execution_count": 80,
     "metadata": {},
     "output_type": "execute_result"
    }
   ],
   "source": [
    "zip_dir()"
   ]
  },
  {
   "cell_type": "code",
   "execution_count": 81,
   "metadata": {
    "execution": {
     "iopub.execute_input": "2024-03-13T09:47:10.818737Z",
     "iopub.status.busy": "2024-03-13T09:47:10.818423Z",
     "iopub.status.idle": "2024-03-13T09:47:10.828386Z",
     "shell.execute_reply": "2024-03-13T09:47:10.827309Z",
     "shell.execute_reply.started": "2024-03-13T09:47:10.818713Z"
    }
   },
   "outputs": [
    {
     "name": "stdout",
     "output_type": "stream",
     "text": [
      "train_runtime: 1090.3439\n",
      "train_samples_per_second: 36.686\n",
      "train_steps_per_second: 4.586\n",
      "total_flos: 441912299520000.0\n",
      "train_loss: 0.29573103637695314\n",
      "epoch: 2.0\n"
     ]
    }
   ],
   "source": [
    "for key, value in metrics.items():\n",
    "    print(f\"{key}: {value}\")"
   ]
  },
  {
   "cell_type": "markdown",
   "metadata": {},
   "source": [
    "# Testing on 20% Testing Dataset"
   ]
  },
  {
   "cell_type": "code",
   "execution_count": 84,
   "metadata": {
    "execution": {
     "iopub.execute_input": "2024-03-13T09:50:30.229427Z",
     "iopub.status.busy": "2024-03-13T09:50:30.229115Z",
     "iopub.status.idle": "2024-03-13T09:50:31.047686Z",
     "shell.execute_reply": "2024-03-13T09:50:31.046486Z",
     "shell.execute_reply.started": "2024-03-13T09:50:30.229392Z"
    }
   },
   "outputs": [
    {
     "name": "stdout",
     "output_type": "stream",
     "text": [
      "Dataset({\n",
      "    features: ['tokens', 'ner_tags', 'input_ids', 'token_type_ids', 'attention_mask', 'labels'],\n",
      "    num_rows: 867\n",
      "})\n"
     ]
    }
   ],
   "source": [
    "from datasets import ClassLabel, load_dataset, load_metric, DownloadMode\n",
    "lang = 'hi'\n",
    "test_dataset = load_dataset('ai4bharat/naamapadam', lang , split = 'test')\n",
    "# Test Dataset\n",
    "tokenized_test_dataset = test_dataset.map(\n",
    "    tokenize_and_align_labels,\n",
    "    batched=True,\n",
    ")\n",
    "print(tokenized_test_dataset)"
   ]
  },
  {
   "cell_type": "code",
   "execution_count": null,
   "metadata": {
    "execution": {
     "iopub.execute_input": "2024-03-13T09:50:31.049807Z",
     "iopub.status.busy": "2024-03-13T09:50:31.049388Z"
    }
   },
   "outputs": [
    {
     "data": {
      "text/html": [
       "\n",
       "    <div>\n",
       "      \n",
       "      <progress value='32' max='109' style='width:300px; height:20px; vertical-align: middle;'></progress>\n",
       "      [ 32/109 00:02 < 00:05, 13.77 it/s]\n",
       "    </div>\n",
       "    "
      ],
      "text/plain": [
       "<IPython.core.display.HTML object>"
      ]
     },
     "metadata": {},
     "output_type": "display_data"
    }
   ],
   "source": [
    "# Evaluation of Model on test Data\n",
    "predictions, labels, metrics = trainer.predict(tokenized_test_dataset)\n",
    "trainer.log_metrics(\"Test\",metrics)\n",
    "\n",
    "sum_of_f1_scores=metrics['test_LOC_f1']+metrics['test_ORG_f1']+metrics['test_PER_f1']\n",
    "macro_f1=sum_of_f1_scores/3\n",
    "print('\\n Macro f1 score::',macro_f1)"
   ]
  },
  {
   "cell_type": "code",
   "execution_count": null,
   "metadata": {},
   "outputs": [],
   "source": []
  }
 ],
 "metadata": {
  "kaggle": {
   "accelerator": "gpu",
   "dataSources": [],
   "dockerImageVersionId": 30665,
   "isGpuEnabled": true,
   "isInternetEnabled": true,
   "language": "python",
   "sourceType": "notebook"
  },
  "kernelspec": {
   "display_name": "Python 3 (ipykernel)",
   "language": "python",
   "name": "python3"
  },
  "language_info": {
   "codemirror_mode": {
    "name": "ipython",
    "version": 3
   },
   "file_extension": ".py",
   "mimetype": "text/x-python",
   "name": "python",
   "nbconvert_exporter": "python",
   "pygments_lexer": "ipython3",
   "version": "3.11.5"
  }
 },
 "nbformat": 4,
 "nbformat_minor": 4
}
