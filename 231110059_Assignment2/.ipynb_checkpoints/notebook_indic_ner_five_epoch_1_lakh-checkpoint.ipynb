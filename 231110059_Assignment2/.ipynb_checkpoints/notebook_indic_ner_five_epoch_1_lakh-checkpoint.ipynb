{
 "cells": [
  {
   "cell_type": "code",
   "execution_count": 49,
   "metadata": {
    "_cell_guid": "b1076dfc-b9ad-4769-8c92-a6c4dae69d19",
    "_uuid": "8f2839f25d086af736a60e9eeb907d3b93b6e0e5",
    "execution": {
     "iopub.execute_input": "2024-03-10T19:18:24.639391Z",
     "iopub.status.busy": "2024-03-10T19:18:24.638538Z",
     "iopub.status.idle": "2024-03-10T19:19:26.690180Z",
     "shell.execute_reply": "2024-03-10T19:19:26.688775Z",
     "shell.execute_reply.started": "2024-03-10T19:18:24.639361Z"
    }
   },
   "outputs": [
    {
     "name": "stderr",
     "output_type": "stream",
     "text": [
      "huggingface/tokenizers: The current process just got forked, after parallelism has already been used. Disabling parallelism to avoid deadlocks...\n",
      "To disable this warning, you can either:\n",
      "\t- Avoid using `tokenizers` before the fork if possible\n",
      "\t- Explicitly set the environment variable TOKENIZERS_PARALLELISM=(true | false)\n"
     ]
    },
    {
     "name": "stdout",
     "output_type": "stream",
     "text": [
      "Requirement already satisfied: datasets in /opt/conda/lib/python3.10/site-packages (2.1.0)\n",
      "Requirement already satisfied: numpy>=1.17 in /opt/conda/lib/python3.10/site-packages (from datasets) (1.26.4)\n",
      "Requirement already satisfied: pyarrow>=5.0.0 in /opt/conda/lib/python3.10/site-packages (from datasets) (11.0.0)\n",
      "Requirement already satisfied: dill in /opt/conda/lib/python3.10/site-packages (from datasets) (0.3.8)\n",
      "Requirement already satisfied: pandas in /opt/conda/lib/python3.10/site-packages (from datasets) (2.1.4)\n",
      "Requirement already satisfied: requests>=2.19.0 in /opt/conda/lib/python3.10/site-packages (from datasets) (2.31.0)\n",
      "Requirement already satisfied: tqdm>=4.62.1 in /opt/conda/lib/python3.10/site-packages (from datasets) (4.66.1)\n",
      "Requirement already satisfied: xxhash in /opt/conda/lib/python3.10/site-packages (from datasets) (3.4.1)\n",
      "Requirement already satisfied: multiprocess in /opt/conda/lib/python3.10/site-packages (from datasets) (0.70.16)\n",
      "Requirement already satisfied: fsspec>=2021.05.0 in /opt/conda/lib/python3.10/site-packages (from fsspec[http]>=2021.05.0->datasets) (2024.2.0)\n",
      "Requirement already satisfied: aiohttp in /opt/conda/lib/python3.10/site-packages (from datasets) (3.9.1)\n",
      "Requirement already satisfied: huggingface-hub<1.0.0,>=0.1.0 in /opt/conda/lib/python3.10/site-packages (from datasets) (0.20.3)\n",
      "Requirement already satisfied: packaging in /opt/conda/lib/python3.10/site-packages (from datasets) (21.3)\n",
      "Requirement already satisfied: responses<0.19 in /opt/conda/lib/python3.10/site-packages (from datasets) (0.18.0)\n",
      "Requirement already satisfied: attrs>=17.3.0 in /opt/conda/lib/python3.10/site-packages (from aiohttp->datasets) (23.2.0)\n",
      "Requirement already satisfied: multidict<7.0,>=4.5 in /opt/conda/lib/python3.10/site-packages (from aiohttp->datasets) (6.0.4)\n",
      "Requirement already satisfied: yarl<2.0,>=1.0 in /opt/conda/lib/python3.10/site-packages (from aiohttp->datasets) (1.9.3)\n",
      "Requirement already satisfied: frozenlist>=1.1.1 in /opt/conda/lib/python3.10/site-packages (from aiohttp->datasets) (1.4.1)\n",
      "Requirement already satisfied: aiosignal>=1.1.2 in /opt/conda/lib/python3.10/site-packages (from aiohttp->datasets) (1.3.1)\n",
      "Requirement already satisfied: async-timeout<5.0,>=4.0 in /opt/conda/lib/python3.10/site-packages (from aiohttp->datasets) (4.0.3)\n",
      "Requirement already satisfied: filelock in /opt/conda/lib/python3.10/site-packages (from huggingface-hub<1.0.0,>=0.1.0->datasets) (3.13.1)\n",
      "Requirement already satisfied: pyyaml>=5.1 in /opt/conda/lib/python3.10/site-packages (from huggingface-hub<1.0.0,>=0.1.0->datasets) (6.0.1)\n",
      "Requirement already satisfied: typing-extensions>=3.7.4.3 in /opt/conda/lib/python3.10/site-packages (from huggingface-hub<1.0.0,>=0.1.0->datasets) (4.9.0)\n",
      "Requirement already satisfied: pyparsing!=3.0.5,>=2.0.2 in /opt/conda/lib/python3.10/site-packages (from packaging->datasets) (3.1.1)\n",
      "Requirement already satisfied: charset-normalizer<4,>=2 in /opt/conda/lib/python3.10/site-packages (from requests>=2.19.0->datasets) (3.3.2)\n",
      "Requirement already satisfied: idna<4,>=2.5 in /opt/conda/lib/python3.10/site-packages (from requests>=2.19.0->datasets) (3.6)\n",
      "Requirement already satisfied: urllib3<3,>=1.21.1 in /opt/conda/lib/python3.10/site-packages (from requests>=2.19.0->datasets) (1.26.18)\n",
      "Requirement already satisfied: certifi>=2017.4.17 in /opt/conda/lib/python3.10/site-packages (from requests>=2.19.0->datasets) (2024.2.2)\n",
      "Requirement already satisfied: python-dateutil>=2.8.2 in /opt/conda/lib/python3.10/site-packages (from pandas->datasets) (2.8.2)\n",
      "Requirement already satisfied: pytz>=2020.1 in /opt/conda/lib/python3.10/site-packages (from pandas->datasets) (2023.3.post1)\n",
      "Requirement already satisfied: tzdata>=2022.1 in /opt/conda/lib/python3.10/site-packages (from pandas->datasets) (2023.4)\n",
      "Requirement already satisfied: six>=1.5 in /opt/conda/lib/python3.10/site-packages (from python-dateutil>=2.8.2->pandas->datasets) (1.16.0)\n"
     ]
    },
    {
     "name": "stderr",
     "output_type": "stream",
     "text": [
      "huggingface/tokenizers: The current process just got forked, after parallelism has already been used. Disabling parallelism to avoid deadlocks...\n",
      "To disable this warning, you can either:\n",
      "\t- Avoid using `tokenizers` before the fork if possible\n",
      "\t- Explicitly set the environment variable TOKENIZERS_PARALLELISM=(true | false)\n"
     ]
    },
    {
     "name": "stdout",
     "output_type": "stream",
     "text": [
      "Requirement already satisfied: sentencepiece in /opt/conda/lib/python3.10/site-packages (0.2.0)\n"
     ]
    },
    {
     "name": "stderr",
     "output_type": "stream",
     "text": [
      "huggingface/tokenizers: The current process just got forked, after parallelism has already been used. Disabling parallelism to avoid deadlocks...\n",
      "To disable this warning, you can either:\n",
      "\t- Avoid using `tokenizers` before the fork if possible\n",
      "\t- Explicitly set the environment variable TOKENIZERS_PARALLELISM=(true | false)\n"
     ]
    },
    {
     "name": "stdout",
     "output_type": "stream",
     "text": [
      "Requirement already satisfied: seqeval in /opt/conda/lib/python3.10/site-packages (1.2.2)\n",
      "Requirement already satisfied: numpy>=1.14.0 in /opt/conda/lib/python3.10/site-packages (from seqeval) (1.26.4)\n",
      "Requirement already satisfied: scikit-learn>=0.21.3 in /opt/conda/lib/python3.10/site-packages (from seqeval) (1.2.2)\n",
      "Requirement already satisfied: scipy>=1.3.2 in /opt/conda/lib/python3.10/site-packages (from scikit-learn>=0.21.3->seqeval) (1.11.4)\n",
      "Requirement already satisfied: joblib>=1.1.1 in /opt/conda/lib/python3.10/site-packages (from scikit-learn>=0.21.3->seqeval) (1.3.2)\n",
      "Requirement already satisfied: threadpoolctl>=2.0.0 in /opt/conda/lib/python3.10/site-packages (from scikit-learn>=0.21.3->seqeval) (3.2.0)\n"
     ]
    },
    {
     "name": "stderr",
     "output_type": "stream",
     "text": [
      "huggingface/tokenizers: The current process just got forked, after parallelism has already been used. Disabling parallelism to avoid deadlocks...\n",
      "To disable this warning, you can either:\n",
      "\t- Avoid using `tokenizers` before the fork if possible\n",
      "\t- Explicitly set the environment variable TOKENIZERS_PARALLELISM=(true | false)\n"
     ]
    },
    {
     "name": "stdout",
     "output_type": "stream",
     "text": [
      "Requirement already satisfied: transformers[torch] in /opt/conda/lib/python3.10/site-packages (4.38.1)\n",
      "Requirement already satisfied: filelock in /opt/conda/lib/python3.10/site-packages (from transformers[torch]) (3.13.1)\n",
      "Requirement already satisfied: huggingface-hub<1.0,>=0.19.3 in /opt/conda/lib/python3.10/site-packages (from transformers[torch]) (0.20.3)\n",
      "Requirement already satisfied: numpy>=1.17 in /opt/conda/lib/python3.10/site-packages (from transformers[torch]) (1.26.4)\n",
      "Requirement already satisfied: packaging>=20.0 in /opt/conda/lib/python3.10/site-packages (from transformers[torch]) (21.3)\n",
      "Requirement already satisfied: pyyaml>=5.1 in /opt/conda/lib/python3.10/site-packages (from transformers[torch]) (6.0.1)\n",
      "Requirement already satisfied: regex!=2019.12.17 in /opt/conda/lib/python3.10/site-packages (from transformers[torch]) (2023.12.25)\n",
      "Requirement already satisfied: requests in /opt/conda/lib/python3.10/site-packages (from transformers[torch]) (2.31.0)\n",
      "Requirement already satisfied: tokenizers<0.19,>=0.14 in /opt/conda/lib/python3.10/site-packages (from transformers[torch]) (0.15.2)\n",
      "Requirement already satisfied: safetensors>=0.4.1 in /opt/conda/lib/python3.10/site-packages (from transformers[torch]) (0.4.2)\n",
      "Requirement already satisfied: tqdm>=4.27 in /opt/conda/lib/python3.10/site-packages (from transformers[torch]) (4.66.1)\n",
      "Requirement already satisfied: torch in /opt/conda/lib/python3.10/site-packages (from transformers[torch]) (2.1.2)\n",
      "Requirement already satisfied: accelerate>=0.21.0 in /opt/conda/lib/python3.10/site-packages (from transformers[torch]) (0.27.2)\n",
      "Requirement already satisfied: psutil in /opt/conda/lib/python3.10/site-packages (from accelerate>=0.21.0->transformers[torch]) (5.9.3)\n",
      "Requirement already satisfied: fsspec>=2023.5.0 in /opt/conda/lib/python3.10/site-packages (from huggingface-hub<1.0,>=0.19.3->transformers[torch]) (2024.2.0)\n",
      "Requirement already satisfied: typing-extensions>=3.7.4.3 in /opt/conda/lib/python3.10/site-packages (from huggingface-hub<1.0,>=0.19.3->transformers[torch]) (4.9.0)\n",
      "Requirement already satisfied: pyparsing!=3.0.5,>=2.0.2 in /opt/conda/lib/python3.10/site-packages (from packaging>=20.0->transformers[torch]) (3.1.1)\n",
      "Requirement already satisfied: sympy in /opt/conda/lib/python3.10/site-packages (from torch->transformers[torch]) (1.12)\n",
      "Requirement already satisfied: networkx in /opt/conda/lib/python3.10/site-packages (from torch->transformers[torch]) (3.2.1)\n",
      "Requirement already satisfied: jinja2 in /opt/conda/lib/python3.10/site-packages (from torch->transformers[torch]) (3.1.2)\n",
      "Requirement already satisfied: charset-normalizer<4,>=2 in /opt/conda/lib/python3.10/site-packages (from requests->transformers[torch]) (3.3.2)\n",
      "Requirement already satisfied: idna<4,>=2.5 in /opt/conda/lib/python3.10/site-packages (from requests->transformers[torch]) (3.6)\n",
      "Requirement already satisfied: urllib3<3,>=1.21.1 in /opt/conda/lib/python3.10/site-packages (from requests->transformers[torch]) (1.26.18)\n",
      "Requirement already satisfied: certifi>=2017.4.17 in /opt/conda/lib/python3.10/site-packages (from requests->transformers[torch]) (2024.2.2)\n",
      "Requirement already satisfied: MarkupSafe>=2.0 in /opt/conda/lib/python3.10/site-packages (from jinja2->torch->transformers[torch]) (2.1.3)\n",
      "Requirement already satisfied: mpmath>=0.19 in /opt/conda/lib/python3.10/site-packages (from sympy->torch->transformers[torch]) (1.3.0)\n"
     ]
    },
    {
     "name": "stderr",
     "output_type": "stream",
     "text": [
      "huggingface/tokenizers: The current process just got forked, after parallelism has already been used. Disabling parallelism to avoid deadlocks...\n",
      "To disable this warning, you can either:\n",
      "\t- Avoid using `tokenizers` before the fork if possible\n",
      "\t- Explicitly set the environment variable TOKENIZERS_PARALLELISM=(true | false)\n"
     ]
    },
    {
     "name": "stdout",
     "output_type": "stream",
     "text": [
      "Requirement already satisfied: accelerate in /opt/conda/lib/python3.10/site-packages (0.27.2)\n",
      "Requirement already satisfied: numpy>=1.17 in /opt/conda/lib/python3.10/site-packages (from accelerate) (1.26.4)\n",
      "Requirement already satisfied: packaging>=20.0 in /opt/conda/lib/python3.10/site-packages (from accelerate) (21.3)\n",
      "Requirement already satisfied: psutil in /opt/conda/lib/python3.10/site-packages (from accelerate) (5.9.3)\n",
      "Requirement already satisfied: pyyaml in /opt/conda/lib/python3.10/site-packages (from accelerate) (6.0.1)\n",
      "Requirement already satisfied: torch>=1.10.0 in /opt/conda/lib/python3.10/site-packages (from accelerate) (2.1.2)\n",
      "Requirement already satisfied: huggingface-hub in /opt/conda/lib/python3.10/site-packages (from accelerate) (0.20.3)\n",
      "Requirement already satisfied: safetensors>=0.3.1 in /opt/conda/lib/python3.10/site-packages (from accelerate) (0.4.2)\n",
      "Requirement already satisfied: pyparsing!=3.0.5,>=2.0.2 in /opt/conda/lib/python3.10/site-packages (from packaging>=20.0->accelerate) (3.1.1)\n",
      "Requirement already satisfied: filelock in /opt/conda/lib/python3.10/site-packages (from torch>=1.10.0->accelerate) (3.13.1)\n",
      "Requirement already satisfied: typing-extensions in /opt/conda/lib/python3.10/site-packages (from torch>=1.10.0->accelerate) (4.9.0)\n",
      "Requirement already satisfied: sympy in /opt/conda/lib/python3.10/site-packages (from torch>=1.10.0->accelerate) (1.12)\n",
      "Requirement already satisfied: networkx in /opt/conda/lib/python3.10/site-packages (from torch>=1.10.0->accelerate) (3.2.1)\n",
      "Requirement already satisfied: jinja2 in /opt/conda/lib/python3.10/site-packages (from torch>=1.10.0->accelerate) (3.1.2)\n",
      "Requirement already satisfied: fsspec in /opt/conda/lib/python3.10/site-packages (from torch>=1.10.0->accelerate) (2024.2.0)\n",
      "Requirement already satisfied: requests in /opt/conda/lib/python3.10/site-packages (from huggingface-hub->accelerate) (2.31.0)\n",
      "Requirement already satisfied: tqdm>=4.42.1 in /opt/conda/lib/python3.10/site-packages (from huggingface-hub->accelerate) (4.66.1)\n",
      "Requirement already satisfied: MarkupSafe>=2.0 in /opt/conda/lib/python3.10/site-packages (from jinja2->torch>=1.10.0->accelerate) (2.1.3)\n",
      "Requirement already satisfied: charset-normalizer<4,>=2 in /opt/conda/lib/python3.10/site-packages (from requests->huggingface-hub->accelerate) (3.3.2)\n",
      "Requirement already satisfied: idna<4,>=2.5 in /opt/conda/lib/python3.10/site-packages (from requests->huggingface-hub->accelerate) (3.6)\n",
      "Requirement already satisfied: urllib3<3,>=1.21.1 in /opt/conda/lib/python3.10/site-packages (from requests->huggingface-hub->accelerate) (1.26.18)\n",
      "Requirement already satisfied: certifi>=2017.4.17 in /opt/conda/lib/python3.10/site-packages (from requests->huggingface-hub->accelerate) (2024.2.2)\n",
      "Requirement already satisfied: mpmath>=0.19 in /opt/conda/lib/python3.10/site-packages (from sympy->torch>=1.10.0->accelerate) (1.3.0)\n"
     ]
    }
   ],
   "source": [
    "!pip3 install datasets\n",
    "!pip3 install sentencepiece\n",
    "!pip3 install seqeval\n",
    "!pip install transformers[torch]\n",
    "!pip install accelerate -U"
   ]
  },
  {
   "cell_type": "code",
   "execution_count": 50,
   "metadata": {
    "execution": {
     "iopub.execute_input": "2024-03-10T19:19:26.693286Z",
     "iopub.status.busy": "2024-03-10T19:19:26.692880Z",
     "iopub.status.idle": "2024-03-10T19:19:26.700390Z",
     "shell.execute_reply": "2024-03-10T19:19:26.699100Z",
     "shell.execute_reply.started": "2024-03-10T19:19:26.693247Z"
    }
   },
   "outputs": [],
   "source": [
    "import datasets"
   ]
  },
  {
   "cell_type": "code",
   "execution_count": 55,
   "metadata": {
    "execution": {
     "iopub.execute_input": "2024-03-10T19:19:44.311901Z",
     "iopub.status.busy": "2024-03-10T19:19:44.310917Z",
     "iopub.status.idle": "2024-03-10T19:19:46.555518Z",
     "shell.execute_reply": "2024-03-10T19:19:46.554507Z",
     "shell.execute_reply.started": "2024-03-10T19:19:44.311854Z"
    }
   },
   "outputs": [],
   "source": [
    "# Let's download the Naampadam (Indic NER) dataset\n",
    "from datasets import ClassLabel, load_dataset, load_metric, DownloadMode\n",
    "\n",
    "lang='hi'\n",
    "\n",
    "train_dataset = load_dataset('ai4bharat/naamapadam', lang , split = 'train[:100000]')\n",
    "validation_dataset = load_dataset('ai4bharat/naamapadam', lang , split = 'validation')\n",
    "test_dataset = load_dataset('ai4bharat/naamapadam', lang , split = 'test')\n",
    "\n"
   ]
  },
  {
   "cell_type": "code",
   "execution_count": 56,
   "metadata": {
    "execution": {
     "iopub.execute_input": "2024-03-10T19:19:48.452789Z",
     "iopub.status.busy": "2024-03-10T19:19:48.451997Z",
     "iopub.status.idle": "2024-03-10T19:19:48.460212Z",
     "shell.execute_reply": "2024-03-10T19:19:48.459061Z",
     "shell.execute_reply.started": "2024-03-10T19:19:48.452754Z"
    }
   },
   "outputs": [
    {
     "name": "stdout",
     "output_type": "stream",
     "text": [
      "{'tokens': Sequence(feature=Value(dtype='string', id=None), length=-1, id=None), 'ner_tags': Sequence(feature=ClassLabel(num_classes=7, names=['O', 'B-PER', 'I-PER', 'B-ORG', 'I-ORG', 'B-LOC', 'I-LOC'], id=None), length=-1, id=None)}\n"
     ]
    }
   ],
   "source": [
    "features = train_dataset.features\n",
    "print(features)"
   ]
  },
  {
   "cell_type": "code",
   "execution_count": 57,
   "metadata": {
    "execution": {
     "iopub.execute_input": "2024-03-10T19:19:49.200317Z",
     "iopub.status.busy": "2024-03-10T19:19:49.199493Z",
     "iopub.status.idle": "2024-03-10T19:19:49.208593Z",
     "shell.execute_reply": "2024-03-10T19:19:49.207199Z",
     "shell.execute_reply.started": "2024-03-10T19:19:49.200286Z"
    }
   },
   "outputs": [
    {
     "name": "stdout",
     "output_type": "stream",
     "text": [
      "{'O': 0, 'B-PER': 1, 'I-PER': 2, 'B-ORG': 3, 'I-ORG': 4, 'B-LOC': 5, 'I-LOC': 6}\n"
     ]
    }
   ],
   "source": [
    "text_column_name = \"tokens\"\n",
    "label_column_name = \"ner_tags\"\n",
    "\n",
    "label_list = features[label_column_name].feature.names\n",
    "\n",
    "label_to_id = {label_list[i]: features[label_column_name].feature.str2int( label_list[i] ) for i in range(len(label_list))}\n",
    "\n",
    "print(label_to_id)\n",
    "\n",
    "num_labels = len(label_list)\n"
   ]
  },
  {
   "cell_type": "code",
   "execution_count": 59,
   "metadata": {
    "execution": {
     "iopub.execute_input": "2024-03-10T19:20:05.080197Z",
     "iopub.status.busy": "2024-03-10T19:20:05.079823Z",
     "iopub.status.idle": "2024-03-10T19:20:05.818075Z",
     "shell.execute_reply": "2024-03-10T19:20:05.816936Z",
     "shell.execute_reply.started": "2024-03-10T19:20:05.080167Z"
    }
   },
   "outputs": [],
   "source": [
    "from transformers import AutoModelForTokenClassification, AutoConfig, AutoTokenizer, TrainingArguments, Trainer, DataCollatorForTokenClassification, EarlyStoppingCallback, IntervalStrategy\n",
    "import numpy as np\n",
    "config = AutoConfig.from_pretrained('ai4bharat/IndicNER', num_labels=num_labels, finetuning_task='ner')\n",
    "tokenizer = AutoTokenizer.from_pretrained(\"ai4bharat/IndicNER\")\n",
    "model = AutoModelForTokenClassification.from_pretrained(\"ai4bharat/IndicNER\", num_labels=num_labels)"
   ]
  },
  {
   "cell_type": "code",
   "execution_count": 60,
   "metadata": {
    "execution": {
     "iopub.execute_input": "2024-03-10T19:20:08.056283Z",
     "iopub.status.busy": "2024-03-10T19:20:08.055901Z",
     "iopub.status.idle": "2024-03-10T19:20:08.065856Z",
     "shell.execute_reply": "2024-03-10T19:20:08.064813Z",
     "shell.execute_reply.started": "2024-03-10T19:20:08.056253Z"
    }
   },
   "outputs": [],
   "source": [
    "# Tokenize all texts and align the labels with them.\n",
    "def tokenize_and_align_labels(examples):\n",
    "    tokenized_inputs = tokenizer(\n",
    "        examples[text_column_name],\n",
    "        padding=\"max_length\",\n",
    "        truncation=True,\n",
    "        max_length=256,\n",
    "        # We use this argument because the texts in our dataset are lists of words (with a label for each word).\n",
    "        is_split_into_words=True,\n",
    "    )\n",
    "    # print(tokenized_inputs)\n",
    "    labels = []\n",
    "    for i, label in enumerate(examples[label_column_name]):\n",
    "        # print('=====')\n",
    "        # print('{} {}'.format(i,label)) #ak\n",
    "        word_ids = tokenized_inputs.word_ids(batch_index=i)\n",
    "\n",
    "        previous_word_idx = None\n",
    "        label_ids = []\n",
    "        for word_idx in word_ids:\n",
    "            # Special tokens have a word id that is None. We set the label to -100 so they are automatically\n",
    "            # ignored in the loss function.\n",
    "            if word_idx is None:\n",
    "                label_ids.append(-100)\n",
    "            # We set the label for the first token of each word.\n",
    "            elif word_idx != previous_word_idx:\n",
    "                label_ids.append(label[word_idx])\n",
    "            # For the other tokens in a word, we set the label to either the current label or -100, depending on\n",
    "            # the label_all_tokens flag.\n",
    "            else:\n",
    "                label_ids.append(-100)\n",
    "            previous_word_idx = word_idx\n",
    "\n",
    "        labels.append(label_ids)\n",
    "    tokenized_inputs[\"labels\"] = labels\n",
    "    # print(tokenized_inputs)\n",
    "    return tokenized_inputs"
   ]
  },
  {
   "cell_type": "code",
   "execution_count": 61,
   "metadata": {
    "execution": {
     "iopub.execute_input": "2024-03-10T19:20:09.662027Z",
     "iopub.status.busy": "2024-03-10T19:20:09.661351Z",
     "iopub.status.idle": "2024-03-10T19:20:09.671328Z",
     "shell.execute_reply": "2024-03-10T19:20:09.669752Z",
     "shell.execute_reply.started": "2024-03-10T19:20:09.661994Z"
    }
   },
   "outputs": [
    {
     "name": "stdout",
     "output_type": "stream",
     "text": [
      "['[CLS]', 'सक', '##टर', '55', '/', '56', 'क', 'एस', '##ए', '##च', '##ओ', 'अ', '##र', '##वि', '##द', 'कमार', 'न', 'ब', '##ता', '##या', 'कि', 'इस', 'मा', '##मल', 'म', 'आई', '##पी', '##सी', 'की', 'ध', '##ारा', '376', '-', 'डी', '(', 'ग', '##गर', '##प', ')', 'क', 'त', '##हत', 'मा', '##मल', '##ा', 'दर', '##ज', 'कर', 'लिया', 'गया', 'ह', '।', '[SEP]', '[PAD]', '[PAD]', '[PAD]', '[PAD]', '[PAD]', '[PAD]', '[PAD]', '[PAD]', '[PAD]', '[PAD]', '[PAD]', '[PAD]', '[PAD]', '[PAD]', '[PAD]', '[PAD]', '[PAD]', '[PAD]', '[PAD]', '[PAD]', '[PAD]', '[PAD]', '[PAD]', '[PAD]', '[PAD]', '[PAD]', '[PAD]', '[PAD]', '[PAD]', '[PAD]', '[PAD]', '[PAD]', '[PAD]', '[PAD]', '[PAD]', '[PAD]', '[PAD]', '[PAD]', '[PAD]', '[PAD]', '[PAD]', '[PAD]', '[PAD]', '[PAD]', '[PAD]', '[PAD]', '[PAD]', '[PAD]', '[PAD]', '[PAD]', '[PAD]', '[PAD]', '[PAD]', '[PAD]', '[PAD]', '[PAD]', '[PAD]', '[PAD]', '[PAD]', '[PAD]', '[PAD]', '[PAD]', '[PAD]', '[PAD]', '[PAD]', '[PAD]', '[PAD]', '[PAD]', '[PAD]', '[PAD]', '[PAD]', '[PAD]', '[PAD]', '[PAD]', '[PAD]', '[PAD]', '[PAD]', '[PAD]', '[PAD]', '[PAD]', '[PAD]', '[PAD]', '[PAD]', '[PAD]', '[PAD]', '[PAD]', '[PAD]', '[PAD]', '[PAD]', '[PAD]', '[PAD]', '[PAD]', '[PAD]', '[PAD]', '[PAD]', '[PAD]', '[PAD]', '[PAD]', '[PAD]', '[PAD]', '[PAD]', '[PAD]', '[PAD]', '[PAD]', '[PAD]', '[PAD]', '[PAD]', '[PAD]', '[PAD]', '[PAD]', '[PAD]', '[PAD]', '[PAD]', '[PAD]', '[PAD]', '[PAD]', '[PAD]', '[PAD]', '[PAD]', '[PAD]', '[PAD]', '[PAD]', '[PAD]', '[PAD]', '[PAD]', '[PAD]', '[PAD]', '[PAD]', '[PAD]', '[PAD]', '[PAD]', '[PAD]', '[PAD]', '[PAD]', '[PAD]', '[PAD]', '[PAD]', '[PAD]', '[PAD]', '[PAD]', '[PAD]', '[PAD]', '[PAD]', '[PAD]', '[PAD]', '[PAD]', '[PAD]', '[PAD]', '[PAD]', '[PAD]', '[PAD]', '[PAD]', '[PAD]', '[PAD]', '[PAD]', '[PAD]', '[PAD]', '[PAD]', '[PAD]', '[PAD]', '[PAD]', '[PAD]', '[PAD]', '[PAD]', '[PAD]', '[PAD]', '[PAD]', '[PAD]', '[PAD]', '[PAD]', '[PAD]', '[PAD]', '[PAD]', '[PAD]', '[PAD]', '[PAD]', '[PAD]', '[PAD]', '[PAD]', '[PAD]', '[PAD]', '[PAD]', '[PAD]', '[PAD]', '[PAD]', '[PAD]', '[PAD]', '[PAD]', '[PAD]', '[PAD]', '[PAD]', '[PAD]', '[PAD]', '[PAD]', '[PAD]', '[PAD]', '[PAD]', '[PAD]', '[PAD]', '[PAD]', '[PAD]', '[PAD]', '[PAD]']\n"
     ]
    }
   ],
   "source": [
    "correct_output = tokenize_and_align_labels(train_dataset[0:1])\n",
    "tokens = tokenizer.convert_ids_to_tokens(correct_output[\"input_ids\"][0])\n",
    "print(tokens)\n",
    "\n",
    "# Now we have input ids and labels to pass to model"
   ]
  },
  {
   "cell_type": "code",
   "execution_count": 62,
   "metadata": {
    "execution": {
     "iopub.execute_input": "2024-03-10T19:20:10.419988Z",
     "iopub.status.busy": "2024-03-10T19:20:10.419423Z",
     "iopub.status.idle": "2024-03-10T19:20:10.459087Z",
     "shell.execute_reply": "2024-03-10T19:20:10.458015Z",
     "shell.execute_reply.started": "2024-03-10T19:20:10.419953Z"
    }
   },
   "outputs": [
    {
     "name": "stdout",
     "output_type": "stream",
     "text": [
      "[CLS]___________________________________-100\n",
      "सक______________________________________0\n",
      "##टर____________________________________-100\n",
      "55______________________________________0\n",
      "/_______________________________________-100\n",
      "56______________________________________-100\n",
      "क_______________________________________0\n",
      "एस______________________________________0\n",
      "##ए_____________________________________-100\n",
      "##च_____________________________________-100\n",
      "##ओ_____________________________________-100\n",
      "अ_______________________________________1\n",
      "##र_____________________________________-100\n",
      "##वि____________________________________-100\n",
      "##द_____________________________________-100\n",
      "कमार____________________________________2\n",
      "न_______________________________________0\n",
      "ब_______________________________________0\n",
      "##ता____________________________________-100\n",
      "##या____________________________________-100\n",
      "कि______________________________________0\n",
      "इस______________________________________0\n",
      "मा______________________________________0\n",
      "##मल____________________________________-100\n",
      "म_______________________________________0\n",
      "आई______________________________________0\n",
      "##पी____________________________________-100\n",
      "##सी____________________________________-100\n",
      "की______________________________________0\n",
      "ध_______________________________________0\n",
      "##ारा___________________________________-100\n",
      "376_____________________________________0\n",
      "-_______________________________________0\n",
      "डी______________________________________0\n",
      "(_______________________________________0\n",
      "ग_______________________________________0\n",
      "##गर____________________________________-100\n",
      "##प_____________________________________-100\n",
      ")_______________________________________0\n",
      "क_______________________________________0\n",
      "त_______________________________________0\n",
      "##हत____________________________________-100\n",
      "मा______________________________________0\n",
      "##मल____________________________________-100\n",
      "##ा_____________________________________-100\n",
      "दर______________________________________0\n",
      "##ज_____________________________________-100\n",
      "कर______________________________________0\n",
      "लिया____________________________________0\n",
      "गया_____________________________________0\n",
      "ह_______________________________________0\n",
      "।_______________________________________0\n",
      "[SEP]___________________________________-100\n",
      "[PAD]___________________________________-100\n",
      "[PAD]___________________________________-100\n",
      "[PAD]___________________________________-100\n",
      "[PAD]___________________________________-100\n",
      "[PAD]___________________________________-100\n",
      "[PAD]___________________________________-100\n",
      "[PAD]___________________________________-100\n",
      "[PAD]___________________________________-100\n",
      "[PAD]___________________________________-100\n",
      "[PAD]___________________________________-100\n",
      "[PAD]___________________________________-100\n",
      "[PAD]___________________________________-100\n",
      "[PAD]___________________________________-100\n",
      "[PAD]___________________________________-100\n",
      "[PAD]___________________________________-100\n",
      "[PAD]___________________________________-100\n",
      "[PAD]___________________________________-100\n",
      "[PAD]___________________________________-100\n",
      "[PAD]___________________________________-100\n",
      "[PAD]___________________________________-100\n",
      "[PAD]___________________________________-100\n",
      "[PAD]___________________________________-100\n",
      "[PAD]___________________________________-100\n",
      "[PAD]___________________________________-100\n",
      "[PAD]___________________________________-100\n",
      "[PAD]___________________________________-100\n",
      "[PAD]___________________________________-100\n",
      "[PAD]___________________________________-100\n",
      "[PAD]___________________________________-100\n",
      "[PAD]___________________________________-100\n",
      "[PAD]___________________________________-100\n",
      "[PAD]___________________________________-100\n",
      "[PAD]___________________________________-100\n",
      "[PAD]___________________________________-100\n",
      "[PAD]___________________________________-100\n",
      "[PAD]___________________________________-100\n",
      "[PAD]___________________________________-100\n",
      "[PAD]___________________________________-100\n",
      "[PAD]___________________________________-100\n",
      "[PAD]___________________________________-100\n",
      "[PAD]___________________________________-100\n",
      "[PAD]___________________________________-100\n",
      "[PAD]___________________________________-100\n",
      "[PAD]___________________________________-100\n",
      "[PAD]___________________________________-100\n",
      "[PAD]___________________________________-100\n",
      "[PAD]___________________________________-100\n",
      "[PAD]___________________________________-100\n",
      "[PAD]___________________________________-100\n",
      "[PAD]___________________________________-100\n",
      "[PAD]___________________________________-100\n",
      "[PAD]___________________________________-100\n",
      "[PAD]___________________________________-100\n",
      "[PAD]___________________________________-100\n",
      "[PAD]___________________________________-100\n",
      "[PAD]___________________________________-100\n",
      "[PAD]___________________________________-100\n",
      "[PAD]___________________________________-100\n",
      "[PAD]___________________________________-100\n",
      "[PAD]___________________________________-100\n",
      "[PAD]___________________________________-100\n",
      "[PAD]___________________________________-100\n",
      "[PAD]___________________________________-100\n",
      "[PAD]___________________________________-100\n",
      "[PAD]___________________________________-100\n",
      "[PAD]___________________________________-100\n",
      "[PAD]___________________________________-100\n",
      "[PAD]___________________________________-100\n",
      "[PAD]___________________________________-100\n",
      "[PAD]___________________________________-100\n",
      "[PAD]___________________________________-100\n",
      "[PAD]___________________________________-100\n",
      "[PAD]___________________________________-100\n",
      "[PAD]___________________________________-100\n",
      "[PAD]___________________________________-100\n",
      "[PAD]___________________________________-100\n",
      "[PAD]___________________________________-100\n",
      "[PAD]___________________________________-100\n",
      "[PAD]___________________________________-100\n",
      "[PAD]___________________________________-100\n",
      "[PAD]___________________________________-100\n",
      "[PAD]___________________________________-100\n",
      "[PAD]___________________________________-100\n",
      "[PAD]___________________________________-100\n",
      "[PAD]___________________________________-100\n",
      "[PAD]___________________________________-100\n",
      "[PAD]___________________________________-100\n",
      "[PAD]___________________________________-100\n",
      "[PAD]___________________________________-100\n",
      "[PAD]___________________________________-100\n",
      "[PAD]___________________________________-100\n",
      "[PAD]___________________________________-100\n",
      "[PAD]___________________________________-100\n",
      "[PAD]___________________________________-100\n",
      "[PAD]___________________________________-100\n",
      "[PAD]___________________________________-100\n",
      "[PAD]___________________________________-100\n",
      "[PAD]___________________________________-100\n",
      "[PAD]___________________________________-100\n",
      "[PAD]___________________________________-100\n",
      "[PAD]___________________________________-100\n",
      "[PAD]___________________________________-100\n",
      "[PAD]___________________________________-100\n",
      "[PAD]___________________________________-100\n",
      "[PAD]___________________________________-100\n",
      "[PAD]___________________________________-100\n",
      "[PAD]___________________________________-100\n",
      "[PAD]___________________________________-100\n",
      "[PAD]___________________________________-100\n",
      "[PAD]___________________________________-100\n",
      "[PAD]___________________________________-100\n",
      "[PAD]___________________________________-100\n",
      "[PAD]___________________________________-100\n",
      "[PAD]___________________________________-100\n",
      "[PAD]___________________________________-100\n",
      "[PAD]___________________________________-100\n",
      "[PAD]___________________________________-100\n",
      "[PAD]___________________________________-100\n",
      "[PAD]___________________________________-100\n",
      "[PAD]___________________________________-100\n",
      "[PAD]___________________________________-100\n",
      "[PAD]___________________________________-100\n",
      "[PAD]___________________________________-100\n",
      "[PAD]___________________________________-100\n",
      "[PAD]___________________________________-100\n",
      "[PAD]___________________________________-100\n",
      "[PAD]___________________________________-100\n",
      "[PAD]___________________________________-100\n",
      "[PAD]___________________________________-100\n",
      "[PAD]___________________________________-100\n",
      "[PAD]___________________________________-100\n",
      "[PAD]___________________________________-100\n",
      "[PAD]___________________________________-100\n",
      "[PAD]___________________________________-100\n",
      "[PAD]___________________________________-100\n",
      "[PAD]___________________________________-100\n",
      "[PAD]___________________________________-100\n",
      "[PAD]___________________________________-100\n",
      "[PAD]___________________________________-100\n",
      "[PAD]___________________________________-100\n",
      "[PAD]___________________________________-100\n",
      "[PAD]___________________________________-100\n",
      "[PAD]___________________________________-100\n",
      "[PAD]___________________________________-100\n",
      "[PAD]___________________________________-100\n",
      "[PAD]___________________________________-100\n",
      "[PAD]___________________________________-100\n",
      "[PAD]___________________________________-100\n",
      "[PAD]___________________________________-100\n",
      "[PAD]___________________________________-100\n",
      "[PAD]___________________________________-100\n",
      "[PAD]___________________________________-100\n",
      "[PAD]___________________________________-100\n",
      "[PAD]___________________________________-100\n",
      "[PAD]___________________________________-100\n",
      "[PAD]___________________________________-100\n",
      "[PAD]___________________________________-100\n",
      "[PAD]___________________________________-100\n",
      "[PAD]___________________________________-100\n",
      "[PAD]___________________________________-100\n",
      "[PAD]___________________________________-100\n",
      "[PAD]___________________________________-100\n",
      "[PAD]___________________________________-100\n",
      "[PAD]___________________________________-100\n",
      "[PAD]___________________________________-100\n",
      "[PAD]___________________________________-100\n",
      "[PAD]___________________________________-100\n",
      "[PAD]___________________________________-100\n",
      "[PAD]___________________________________-100\n",
      "[PAD]___________________________________-100\n",
      "[PAD]___________________________________-100\n",
      "[PAD]___________________________________-100\n",
      "[PAD]___________________________________-100\n",
      "[PAD]___________________________________-100\n",
      "[PAD]___________________________________-100\n",
      "[PAD]___________________________________-100\n",
      "[PAD]___________________________________-100\n",
      "[PAD]___________________________________-100\n",
      "[PAD]___________________________________-100\n",
      "[PAD]___________________________________-100\n",
      "[PAD]___________________________________-100\n",
      "[PAD]___________________________________-100\n",
      "[PAD]___________________________________-100\n",
      "[PAD]___________________________________-100\n",
      "[PAD]___________________________________-100\n",
      "[PAD]___________________________________-100\n",
      "[PAD]___________________________________-100\n",
      "[PAD]___________________________________-100\n",
      "[PAD]___________________________________-100\n",
      "[PAD]___________________________________-100\n",
      "[PAD]___________________________________-100\n",
      "[PAD]___________________________________-100\n",
      "[PAD]___________________________________-100\n",
      "[PAD]___________________________________-100\n",
      "[PAD]___________________________________-100\n",
      "[PAD]___________________________________-100\n",
      "[PAD]___________________________________-100\n",
      "[PAD]___________________________________-100\n",
      "[PAD]___________________________________-100\n",
      "[PAD]___________________________________-100\n",
      "[PAD]___________________________________-100\n",
      "[PAD]___________________________________-100\n",
      "[PAD]___________________________________-100\n"
     ]
    }
   ],
   "source": [
    "for token,label in zip(tokenizer.convert_ids_to_tokens(correct_output[\"input_ids\"][0]) , correct_output[\"labels\"][0]):\n",
    "  print(f\"{token:_<40}{label}\")\n"
   ]
  },
  {
   "cell_type": "code",
   "execution_count": 63,
   "metadata": {
    "execution": {
     "iopub.execute_input": "2024-03-10T19:20:18.123098Z",
     "iopub.status.busy": "2024-03-10T19:20:18.122661Z",
     "iopub.status.idle": "2024-03-10T19:21:02.124181Z",
     "shell.execute_reply": "2024-03-10T19:21:02.121134Z",
     "shell.execute_reply.started": "2024-03-10T19:20:18.123061Z"
    }
   },
   "outputs": [
    {
     "data": {
      "application/vnd.jupyter.widget-view+json": {
       "model_id": "0baba72ebf5042ab94a134e55da34863",
       "version_major": 2,
       "version_minor": 0
      },
      "text/plain": [
       "  0%|          | 0/100 [00:00<?, ?ba/s]"
      ]
     },
     "metadata": {},
     "output_type": "display_data"
    },
    {
     "name": "stdout",
     "output_type": "stream",
     "text": [
      "Dataset({\n",
      "    features: ['tokens', 'ner_tags', 'input_ids', 'token_type_ids', 'attention_mask', 'labels'],\n",
      "    num_rows: 100000\n",
      "})\n"
     ]
    }
   ],
   "source": [
    "tokenized_train_dataset = train_dataset.map(\n",
    "    tokenize_and_align_labels,\n",
    "    batched=True,\n",
    ")\n",
    "print(tokenized_train_dataset)"
   ]
  },
  {
   "cell_type": "code",
   "execution_count": 64,
   "metadata": {
    "execution": {
     "iopub.execute_input": "2024-03-10T19:21:02.126302Z",
     "iopub.status.busy": "2024-03-10T19:21:02.126021Z",
     "iopub.status.idle": "2024-03-10T19:21:02.140507Z",
     "shell.execute_reply": "2024-03-10T19:21:02.139540Z",
     "shell.execute_reply.started": "2024-03-10T19:21:02.126278Z"
    }
   },
   "outputs": [
    {
     "name": "stdout",
     "output_type": "stream",
     "text": [
      "30\n",
      "256\n",
      "256\n"
     ]
    }
   ],
   "source": [
    "# Problem is fixed now!!\n",
    "print(len(tokenized_train_dataset[0]['ner_tags']))\n",
    "print(len(tokenized_train_dataset[0]['labels']))\n",
    "print(len(tokenized_train_dataset[0]['input_ids']))"
   ]
  },
  {
   "cell_type": "code",
   "execution_count": 65,
   "metadata": {
    "execution": {
     "iopub.execute_input": "2024-03-10T19:21:02.142033Z",
     "iopub.status.busy": "2024-03-10T19:21:02.141705Z",
     "iopub.status.idle": "2024-03-10T19:21:02.632945Z",
     "shell.execute_reply": "2024-03-10T19:21:02.631780Z",
     "shell.execute_reply.started": "2024-03-10T19:21:02.142007Z"
    }
   },
   "outputs": [
    {
     "data": {
      "application/vnd.jupyter.widget-view+json": {
       "model_id": "a264bddb2e0d4df1a566ff453c567279",
       "version_major": 2,
       "version_minor": 0
      },
      "text/plain": [
       "  0%|          | 0/1 [00:00<?, ?ba/s]"
      ]
     },
     "metadata": {},
     "output_type": "display_data"
    },
    {
     "name": "stdout",
     "output_type": "stream",
     "text": [
      "Dataset({\n",
      "    features: ['tokens', 'ner_tags', 'input_ids', 'token_type_ids', 'attention_mask', 'labels'],\n",
      "    num_rows: 867\n",
      "})\n"
     ]
    }
   ],
   "source": [
    "# Test Dataset\n",
    "tokenized_test_dataset = test_dataset.map(\n",
    "    tokenize_and_align_labels,\n",
    "    batched=True,\n",
    ")\n",
    "print(tokenized_test_dataset)"
   ]
  },
  {
   "cell_type": "code",
   "execution_count": 66,
   "metadata": {
    "execution": {
     "iopub.execute_input": "2024-03-10T19:21:02.635968Z",
     "iopub.status.busy": "2024-03-10T19:21:02.635603Z",
     "iopub.status.idle": "2024-03-10T19:21:08.481871Z",
     "shell.execute_reply": "2024-03-10T19:21:08.480802Z",
     "shell.execute_reply.started": "2024-03-10T19:21:02.635941Z"
    }
   },
   "outputs": [
    {
     "data": {
      "application/vnd.jupyter.widget-view+json": {
       "model_id": "236e914669e54dd1be67843c5c7205f9",
       "version_major": 2,
       "version_minor": 0
      },
      "text/plain": [
       "  0%|          | 0/14 [00:00<?, ?ba/s]"
      ]
     },
     "metadata": {},
     "output_type": "display_data"
    },
    {
     "name": "stdout",
     "output_type": "stream",
     "text": [
      "Dataset({\n",
      "    features: ['tokens', 'ner_tags', 'input_ids', 'token_type_ids', 'attention_mask', 'labels'],\n",
      "    num_rows: 13460\n",
      "})\n"
     ]
    }
   ],
   "source": [
    "# Validation DataSet\n",
    "tokenized_validation_dataset = validation_dataset.map(\n",
    "    tokenize_and_align_labels,\n",
    "    batched=True,\n",
    ")\n",
    "print(tokenized_validation_dataset)"
   ]
  },
  {
   "cell_type": "code",
   "execution_count": 67,
   "metadata": {
    "execution": {
     "iopub.execute_input": "2024-03-10T19:21:08.483738Z",
     "iopub.status.busy": "2024-03-10T19:21:08.483315Z",
     "iopub.status.idle": "2024-03-10T19:21:08.491256Z",
     "shell.execute_reply": "2024-03-10T19:21:08.489848Z",
     "shell.execute_reply.started": "2024-03-10T19:21:08.483696Z"
    }
   },
   "outputs": [],
   "source": [
    "# Data Collator\n",
    "data_collator = DataCollatorForTokenClassification(tokenizer)"
   ]
  },
  {
   "cell_type": "code",
   "execution_count": 68,
   "metadata": {
    "execution": {
     "iopub.execute_input": "2024-03-10T19:21:08.493241Z",
     "iopub.status.busy": "2024-03-10T19:21:08.492698Z",
     "iopub.status.idle": "2024-03-10T19:21:09.214679Z",
     "shell.execute_reply": "2024-03-10T19:21:09.213659Z",
     "shell.execute_reply.started": "2024-03-10T19:21:08.493215Z"
    }
   },
   "outputs": [],
   "source": [
    "# Metric to see how my model is performing For NER we use seqeval\n",
    "metric = datasets.load_metric(\"seqeval\")"
   ]
  },
  {
   "cell_type": "code",
   "execution_count": 69,
   "metadata": {
    "execution": {
     "iopub.execute_input": "2024-03-10T19:21:09.216774Z",
     "iopub.status.busy": "2024-03-10T19:21:09.215929Z",
     "iopub.status.idle": "2024-03-10T19:21:09.238690Z",
     "shell.execute_reply": "2024-03-10T19:21:09.237503Z",
     "shell.execute_reply.started": "2024-03-10T19:21:09.216734Z"
    }
   },
   "outputs": [
    {
     "name": "stdout",
     "output_type": "stream",
     "text": [
      "['O', 'O', 'O', 'O', 'B-PER', 'I-PER', 'O', 'O', 'O', 'O', 'O', 'O', 'O', 'O', 'O', 'O', 'O', 'O', 'O', 'O', 'O', 'O', 'O', 'O', 'O', 'O', 'O', 'O', 'O', 'O']\n"
     ]
    },
    {
     "data": {
      "text/plain": [
       "{'PER': {'precision': 1.0, 'recall': 1.0, 'f1': 1.0, 'number': 1},\n",
       " 'overall_precision': 1.0,\n",
       " 'overall_recall': 1.0,\n",
       " 'overall_f1': 1.0,\n",
       " 'overall_accuracy': 1.0}"
      ]
     },
     "execution_count": 69,
     "metadata": {},
     "output_type": "execute_result"
    }
   ],
   "source": [
    "# Seeing the working of seqeval\n",
    "example_text = train_dataset[0]\n",
    "label_list = train_dataset.features[\"ner_tags\"].feature.names\n",
    "label_list\n",
    "\n",
    "labels = [label_list[i] for i in example_text[\"ner_tags\"]]\n",
    "print(labels)\n",
    "\n",
    "metric.compute(predictions=[labels] , references=[labels])"
   ]
  },
  {
   "cell_type": "code",
   "execution_count": 91,
   "metadata": {
    "execution": {
     "iopub.execute_input": "2024-03-10T23:57:01.031236Z",
     "iopub.status.busy": "2024-03-10T23:57:01.030542Z",
     "iopub.status.idle": "2024-03-10T23:57:01.508825Z",
     "shell.execute_reply": "2024-03-10T23:57:01.507865Z",
     "shell.execute_reply.started": "2024-03-10T23:57:01.031202Z"
    }
   },
   "outputs": [],
   "source": [
    "# Metrics\n",
    "metric = load_metric(\"seqeval\")\n",
    "\n",
    "def compute_metrics(p):\n",
    "    predictions, labels = p\n",
    "    predictions = np.argmax(predictions, axis=2)\n",
    "\n",
    "    # Remove ignored index (special tokens)\n",
    "    true_predictions = [\n",
    "        [label_list[p] for (p, l) in zip(prediction, label) if l != -100]\n",
    "        for prediction, label in zip(predictions, labels)\n",
    "    ]\n",
    "    true_labels = [\n",
    "        [label_list[l] for (p, l) in zip(prediction, label) if l != -100]\n",
    "        for prediction, label in zip(predictions, labels)\n",
    "    ]\n",
    "\n",
    "    results = metric.compute(predictions=true_predictions, references=true_labels)\n",
    "    # Unpack nested dictionaries\n",
    "    final_results = {}\n",
    "    for key, value in results.items():\n",
    "        if isinstance(value, dict):\n",
    "            for n, v in value.items():\n",
    "                final_results[f\"{key}_{n}\"] = v\n",
    "        else:\n",
    "            final_results[key] = value\n",
    "    return final_results"
   ]
  },
  {
   "cell_type": "code",
   "execution_count": 92,
   "metadata": {
    "execution": {
     "iopub.execute_input": "2024-03-10T23:57:09.051341Z",
     "iopub.status.busy": "2024-03-10T23:57:09.050636Z",
     "iopub.status.idle": "2024-03-10T23:57:09.068767Z",
     "shell.execute_reply": "2024-03-10T23:57:09.067535Z",
     "shell.execute_reply.started": "2024-03-10T23:57:09.051297Z"
    }
   },
   "outputs": [],
   "source": [
    "# Define Training Args\n",
    "args = TrainingArguments(\n",
    "    output_dir=f\"model/upos\",\n",
    "    overwrite_output_dir=True,\n",
    "    evaluation_strategy = \"epoch\",\n",
    "    learning_rate=2e-5,\n",
    "    per_device_train_batch_size=10,\n",
    "    per_device_eval_batch_size=10,\n",
    "    num_train_epochs=5,\n",
    "    weight_decay=0.01,\n",
    "    save_total_limit=1,\n",
    ")"
   ]
  },
  {
   "cell_type": "code",
   "execution_count": 93,
   "metadata": {
    "execution": {
     "iopub.execute_input": "2024-03-10T23:57:12.126852Z",
     "iopub.status.busy": "2024-03-10T23:57:12.126453Z",
     "iopub.status.idle": "2024-03-10T23:57:12.142870Z",
     "shell.execute_reply": "2024-03-10T23:57:12.141870Z",
     "shell.execute_reply.started": "2024-03-10T23:57:12.126822Z"
    }
   },
   "outputs": [],
   "source": [
    "trainer = Trainer(\n",
    "   model,\n",
    "   args,\n",
    "   train_dataset=tokenized_train_dataset,\n",
    "   eval_dataset=tokenized_validation_dataset,\n",
    "   data_collator=data_collator,\n",
    "   tokenizer=tokenizer,\n",
    "   compute_metrics=compute_metrics,\n",
    ")"
   ]
  },
  {
   "cell_type": "code",
   "execution_count": 76,
   "metadata": {
    "execution": {
     "iopub.execute_input": "2024-03-10T19:22:29.426292Z",
     "iopub.status.busy": "2024-03-10T19:22:29.425878Z",
     "iopub.status.idle": "2024-03-10T23:44:56.302400Z",
     "shell.execute_reply": "2024-03-10T23:44:56.301513Z",
     "shell.execute_reply.started": "2024-03-10T19:22:29.426257Z"
    }
   },
   "outputs": [
    {
     "data": {
      "text/html": [
       "\n",
       "    <div>\n",
       "      \n",
       "      <progress value='50000' max='50000' style='width:300px; height:20px; vertical-align: middle;'></progress>\n",
       "      [50000/50000 4:22:25, Epoch 5/5]\n",
       "    </div>\n",
       "    <table border=\"1\" class=\"dataframe\">\n",
       "  <thead>\n",
       " <tr style=\"text-align: left;\">\n",
       "      <th>Epoch</th>\n",
       "      <th>Training Loss</th>\n",
       "      <th>Validation Loss</th>\n",
       "      <th>Precision</th>\n",
       "      <th>Recall</th>\n",
       "      <th>F1</th>\n",
       "      <th>Accuracy</th>\n",
       "    </tr>\n",
       "  </thead>\n",
       "  <tbody>\n",
       "    <tr>\n",
       "      <td>1</td>\n",
       "      <td>0.146500</td>\n",
       "      <td>0.166091</td>\n",
       "      <td>0.776845</td>\n",
       "      <td>0.798803</td>\n",
       "      <td>0.787671</td>\n",
       "      <td>0.948433</td>\n",
       "    </tr>\n",
       "    <tr>\n",
       "      <td>2</td>\n",
       "      <td>0.121800</td>\n",
       "      <td>0.177571</td>\n",
       "      <td>0.771837</td>\n",
       "      <td>0.799032</td>\n",
       "      <td>0.785199</td>\n",
       "      <td>0.947660</td>\n",
       "    </tr>\n",
       "    <tr>\n",
       "      <td>3</td>\n",
       "      <td>0.096000</td>\n",
       "      <td>0.196518</td>\n",
       "      <td>0.768561</td>\n",
       "      <td>0.799588</td>\n",
       "      <td>0.783767</td>\n",
       "      <td>0.946714</td>\n",
       "    </tr>\n",
       "    <tr>\n",
       "      <td>4</td>\n",
       "      <td>0.082700</td>\n",
       "      <td>0.217437</td>\n",
       "      <td>0.770999</td>\n",
       "      <td>0.790068</td>\n",
       "      <td>0.780417</td>\n",
       "      <td>0.946388</td>\n",
       "    </tr>\n",
       "    <tr>\n",
       "      <td>5</td>\n",
       "      <td>0.067500</td>\n",
       "      <td>0.228641</td>\n",
       "      <td>0.769604</td>\n",
       "      <td>0.787909</td>\n",
       "      <td>0.778649</td>\n",
       "      <td>0.945872</td>\n",
       "    </tr>\n",
       "  </tbody>\n",
       "</table><p>"
      ],
      "text/plain": [
       "<IPython.core.display.HTML object>"
      ]
     },
     "metadata": {},
     "output_type": "display_data"
    }
   ],
   "source": [
    "train_result = trainer.train()\n",
    "metrics = train_result.metrics"
   ]
  },
  {
   "cell_type": "code",
   "execution_count": 78,
   "metadata": {
    "execution": {
     "iopub.execute_input": "2024-03-10T23:45:22.155277Z",
     "iopub.status.busy": "2024-03-10T23:45:22.154914Z",
     "iopub.status.idle": "2024-03-10T23:45:22.162478Z",
     "shell.execute_reply": "2024-03-10T23:45:22.161235Z",
     "shell.execute_reply.started": "2024-03-10T23:45:22.155249Z"
    }
   },
   "outputs": [
    {
     "name": "stdout",
     "output_type": "stream",
     "text": [
      "{'train_runtime': 15746.3089, 'train_samples_per_second': 31.753, 'train_steps_per_second': 3.175, 'total_flos': 6.5327142144e+16, 'train_loss': 0.10370672286987305, 'epoch': 5.0}\n"
     ]
    }
   ],
   "source": [
    "print(metrics)"
   ]
  },
  {
   "cell_type": "code",
   "execution_count": null,
   "metadata": {},
   "outputs": [],
   "source": [
    "sumoff1score=0.776407+0.624282+0.762044\n",
    "macrof1=sumoff1score/3\n",
    "print(macrof1)"
   ]
  },
  {
   "cell_type": "code",
   "execution_count": 79,
   "metadata": {
    "execution": {
     "iopub.execute_input": "2024-03-10T23:48:00.546699Z",
     "iopub.status.busy": "2024-03-10T23:48:00.545843Z",
     "iopub.status.idle": "2024-03-10T23:48:01.909385Z",
     "shell.execute_reply": "2024-03-10T23:48:01.908137Z",
     "shell.execute_reply.started": "2024-03-10T23:48:00.546664Z"
    }
   },
   "outputs": [],
   "source": [
    "# Save Model\n",
    "trainer.save_model(\"model_indic_ner_5Epoch_one_lakh\")"
   ]
  },
  {
   "cell_type": "code",
   "execution_count": 80,
   "metadata": {
    "execution": {
     "iopub.execute_input": "2024-03-10T23:48:04.165675Z",
     "iopub.status.busy": "2024-03-10T23:48:04.165313Z",
     "iopub.status.idle": "2024-03-10T23:48:04.174443Z",
     "shell.execute_reply": "2024-03-10T23:48:04.173279Z",
     "shell.execute_reply.started": "2024-03-10T23:48:04.165648Z"
    }
   },
   "outputs": [],
   "source": [
    "import zipfile\n",
    "import os\n",
    "from IPython.display import FileLink\n",
    "\n",
    "def zip_dir(directory = os.curdir, file_name = 'directory.zip'):\n",
    "    \"\"\"\n",
    "    zip all the files in a directory\n",
    "    \n",
    "    Parameters\n",
    "    ___\n",
    "    directory: str\n",
    "        directory needs to be zipped, defualt is current working directory\n",
    "        \n",
    "    file_name: str\n",
    "        the name of the zipped file (including .zip), default is 'directory.zip'\n",
    "        \n",
    "    Returns\n",
    "    ___\n",
    "    Creates a hyperlink, which can be used to download the zip file)\n",
    "    \"\"\"\n",
    "    os.chdir(directory)\n",
    "    zip_ref = zipfile.ZipFile(file_name, mode='w')\n",
    "    for folder, _, files in os.walk(directory):\n",
    "        for file in files:\n",
    "            if file_name in file:\n",
    "                pass\n",
    "            else:\n",
    "                zip_ref.write(os.path.join(folder, file))\n",
    "\n",
    "    return FileLink(file_name)"
   ]
  },
  {
   "cell_type": "code",
   "execution_count": 81,
   "metadata": {
    "execution": {
     "iopub.execute_input": "2024-03-10T23:48:05.137731Z",
     "iopub.status.busy": "2024-03-10T23:48:05.136971Z",
     "iopub.status.idle": "2024-03-10T23:48:14.037952Z",
     "shell.execute_reply": "2024-03-10T23:48:14.036910Z",
     "shell.execute_reply.started": "2024-03-10T23:48:05.137698Z"
    }
   },
   "outputs": [
    {
     "data": {
      "text/html": [
       "<a href='directory.zip' target='_blank'>directory.zip</a><br>"
      ],
      "text/plain": [
       "/kaggle/working/directory.zip"
      ]
     },
     "execution_count": 81,
     "metadata": {},
     "output_type": "execute_result"
    }
   ],
   "source": [
    "zip_dir()"
   ]
  },
  {
   "cell_type": "code",
   "execution_count": 85,
   "metadata": {
    "execution": {
     "iopub.execute_input": "2024-03-10T23:53:21.345778Z",
     "iopub.status.busy": "2024-03-10T23:53:21.345042Z",
     "iopub.status.idle": "2024-03-10T23:55:38.126746Z",
     "shell.execute_reply": "2024-03-10T23:55:38.125742Z",
     "shell.execute_reply.started": "2024-03-10T23:53:21.345745Z"
    }
   },
   "outputs": [
    {
     "data": {
      "text/html": [],
      "text/plain": [
       "<IPython.core.display.HTML object>"
      ]
     },
     "metadata": {},
     "output_type": "display_data"
    },
    {
     "name": "stdout",
     "output_type": "stream",
     "text": [
      "{'eval_loss': 0.22864146530628204, 'eval_precision': 0.7696043970090113, 'eval_recall': 0.7879085288055746, 'eval_f1': 0.7786489064192301, 'eval_accuracy': 0.945872400840013, 'eval_runtime': 136.7458, 'eval_samples_per_second': 98.431, 'eval_steps_per_second': 9.843}\n"
     ]
    }
   ],
   "source": [
    "metrics=trainer.evaluate()\n",
    "print(metrics)"
   ]
  },
  {
   "cell_type": "code",
   "execution_count": 94,
   "metadata": {
    "execution": {
     "iopub.execute_input": "2024-03-10T23:57:16.318724Z",
     "iopub.status.busy": "2024-03-10T23:57:16.317940Z",
     "iopub.status.idle": "2024-03-10T23:57:25.122368Z",
     "shell.execute_reply": "2024-03-10T23:57:25.121291Z",
     "shell.execute_reply.started": "2024-03-10T23:57:16.318690Z"
    }
   },
   "outputs": [
    {
     "data": {
      "text/html": [],
      "text/plain": [
       "<IPython.core.display.HTML object>"
      ]
     },
     "metadata": {},
     "output_type": "display_data"
    },
    {
     "name": "stdout",
     "output_type": "stream",
     "text": [
      "{}\n"
     ]
    }
   ],
   "source": [
    "# Evaluation of Model on test Data\n",
    "predictions, labels, metrics = trainer.predict(tokenized_test_dataset)\n",
    "specific_results = {}\n",
    "for key in metrics:\n",
    "    if 'test_precision' in key:\n",
    "      specific_results['test_precision'] = metrics[key]\n",
    "    elif 'test_recall' in key:\n",
    "      specific_results['test_recall'] = metrics[key]\n",
    "    elif 'test_f1' in key:\n",
    "      specific_results['test_f1'] = metrics[key]\n",
    "print(specific_results)"
   ]
  },
  {
   "cell_type": "code",
   "execution_count": 96,
   "metadata": {
    "execution": {
     "iopub.execute_input": "2024-03-10T23:57:38.092593Z",
     "iopub.status.busy": "2024-03-10T23:57:38.091779Z",
     "iopub.status.idle": "2024-03-10T23:57:38.100544Z",
     "shell.execute_reply": "2024-03-10T23:57:38.099527Z",
     "shell.execute_reply.started": "2024-03-10T23:57:38.092562Z"
    }
   },
   "outputs": [
    {
     "name": "stdout",
     "output_type": "stream",
     "text": [
      "{'test_loss': 0.19774211943149567, 'test_LOC_precision': 0.7937806873977087, 'test_LOC_recall': 0.7899022801302932, 'test_LOC_f1': 0.7918367346938776, 'test_LOC_number': 614, 'test_ORG_precision': 0.6426229508196721, 'test_ORG_recall': 0.7466666666666667, 'test_ORG_f1': 0.6907488986784142, 'test_ORG_number': 525, 'test_PER_precision': 0.8325242718446602, 'test_PER_recall': 0.8683544303797468, 'test_PER_f1': 0.8500619578686492, 'test_PER_number': 790, 'test_overall_precision': 0.7643031784841076, 'test_overall_recall': 0.8102643856920684, 'test_overall_f1': 0.7866129843985907, 'test_overall_accuracy': 0.9507364399537526, 'test_runtime': 8.7893, 'test_samples_per_second': 98.642, 'test_steps_per_second': 9.898}\n",
      "\n",
      " Macro f1 score:: 0.7775491970803138\n"
     ]
    }
   ],
   "source": [
    "for key,value in specific_results.items():\n",
    "    print(key , value)\n",
    "print(metrics)\n",
    "sum_of_f1_scores=metrics['test_LOC_f1']+metrics['test_ORG_f1']+metrics['test_PER_f1']\n",
    "macro_f1=sum_of_f1_scores/3\n",
    "print('\\n Macro f1 score::',macro_f1)"
   ]
  },
  {
   "cell_type": "code",
   "execution_count": null,
   "metadata": {},
   "outputs": [],
   "source": []
  }
 ],
 "metadata": {
  "kaggle": {
   "accelerator": "gpu",
   "dataSources": [],
   "dockerImageVersionId": 30665,
   "isGpuEnabled": true,
   "isInternetEnabled": true,
   "language": "python",
   "sourceType": "notebook"
  },
  "kernelspec": {
   "display_name": "Python 3 (ipykernel)",
   "language": "python",
   "name": "python3"
  },
  "language_info": {
   "codemirror_mode": {
    "name": "ipython",
    "version": 3
   },
   "file_extension": ".py",
   "mimetype": "text/x-python",
   "name": "python",
   "nbconvert_exporter": "python",
   "pygments_lexer": "ipython3",
   "version": "3.11.5"
  }
 },
 "nbformat": 4,
 "nbformat_minor": 4
}
