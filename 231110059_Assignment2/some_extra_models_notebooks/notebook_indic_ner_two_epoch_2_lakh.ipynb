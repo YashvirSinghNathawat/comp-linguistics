{
 "cells": [
  {
   "cell_type": "code",
   "execution_count": 3,
   "metadata": {
    "_cell_guid": "b1076dfc-b9ad-4769-8c92-a6c4dae69d19",
    "_uuid": "8f2839f25d086af736a60e9eeb907d3b93b6e0e5",
    "execution": {
     "iopub.execute_input": "2024-03-10T13:30:59.258217Z",
     "iopub.status.busy": "2024-03-10T13:30:59.257351Z",
     "iopub.status.idle": "2024-03-10T13:32:06.225556Z",
     "shell.execute_reply": "2024-03-10T13:32:06.224331Z",
     "shell.execute_reply.started": "2024-03-10T13:30:59.258186Z"
    }
   },
   "outputs": [
    {
     "name": "stdout",
     "output_type": "stream",
     "text": [
      "Requirement already satisfied: datasets in /opt/conda/lib/python3.10/site-packages (2.1.0)\n",
      "Requirement already satisfied: numpy>=1.17 in /opt/conda/lib/python3.10/site-packages (from datasets) (1.26.4)\n",
      "Requirement already satisfied: pyarrow>=5.0.0 in /opt/conda/lib/python3.10/site-packages (from datasets) (11.0.0)\n",
      "Requirement already satisfied: dill in /opt/conda/lib/python3.10/site-packages (from datasets) (0.3.8)\n",
      "Requirement already satisfied: pandas in /opt/conda/lib/python3.10/site-packages (from datasets) (2.1.4)\n",
      "Requirement already satisfied: requests>=2.19.0 in /opt/conda/lib/python3.10/site-packages (from datasets) (2.31.0)\n",
      "Requirement already satisfied: tqdm>=4.62.1 in /opt/conda/lib/python3.10/site-packages (from datasets) (4.66.1)\n",
      "Requirement already satisfied: xxhash in /opt/conda/lib/python3.10/site-packages (from datasets) (3.4.1)\n",
      "Requirement already satisfied: multiprocess in /opt/conda/lib/python3.10/site-packages (from datasets) (0.70.16)\n",
      "Requirement already satisfied: fsspec>=2021.05.0 in /opt/conda/lib/python3.10/site-packages (from fsspec[http]>=2021.05.0->datasets) (2024.2.0)\n",
      "Requirement already satisfied: aiohttp in /opt/conda/lib/python3.10/site-packages (from datasets) (3.9.1)\n",
      "Requirement already satisfied: huggingface-hub<1.0.0,>=0.1.0 in /opt/conda/lib/python3.10/site-packages (from datasets) (0.20.3)\n",
      "Requirement already satisfied: packaging in /opt/conda/lib/python3.10/site-packages (from datasets) (21.3)\n",
      "Requirement already satisfied: responses<0.19 in /opt/conda/lib/python3.10/site-packages (from datasets) (0.18.0)\n",
      "Requirement already satisfied: attrs>=17.3.0 in /opt/conda/lib/python3.10/site-packages (from aiohttp->datasets) (23.2.0)\n",
      "Requirement already satisfied: multidict<7.0,>=4.5 in /opt/conda/lib/python3.10/site-packages (from aiohttp->datasets) (6.0.4)\n",
      "Requirement already satisfied: yarl<2.0,>=1.0 in /opt/conda/lib/python3.10/site-packages (from aiohttp->datasets) (1.9.3)\n",
      "Requirement already satisfied: frozenlist>=1.1.1 in /opt/conda/lib/python3.10/site-packages (from aiohttp->datasets) (1.4.1)\n",
      "Requirement already satisfied: aiosignal>=1.1.2 in /opt/conda/lib/python3.10/site-packages (from aiohttp->datasets) (1.3.1)\n",
      "Requirement already satisfied: async-timeout<5.0,>=4.0 in /opt/conda/lib/python3.10/site-packages (from aiohttp->datasets) (4.0.3)\n",
      "Requirement already satisfied: filelock in /opt/conda/lib/python3.10/site-packages (from huggingface-hub<1.0.0,>=0.1.0->datasets) (3.13.1)\n",
      "Requirement already satisfied: pyyaml>=5.1 in /opt/conda/lib/python3.10/site-packages (from huggingface-hub<1.0.0,>=0.1.0->datasets) (6.0.1)\n",
      "Requirement already satisfied: typing-extensions>=3.7.4.3 in /opt/conda/lib/python3.10/site-packages (from huggingface-hub<1.0.0,>=0.1.0->datasets) (4.9.0)\n",
      "Requirement already satisfied: pyparsing!=3.0.5,>=2.0.2 in /opt/conda/lib/python3.10/site-packages (from packaging->datasets) (3.1.1)\n",
      "Requirement already satisfied: charset-normalizer<4,>=2 in /opt/conda/lib/python3.10/site-packages (from requests>=2.19.0->datasets) (3.3.2)\n",
      "Requirement already satisfied: idna<4,>=2.5 in /opt/conda/lib/python3.10/site-packages (from requests>=2.19.0->datasets) (3.6)\n",
      "Requirement already satisfied: urllib3<3,>=1.21.1 in /opt/conda/lib/python3.10/site-packages (from requests>=2.19.0->datasets) (1.26.18)\n",
      "Requirement already satisfied: certifi>=2017.4.17 in /opt/conda/lib/python3.10/site-packages (from requests>=2.19.0->datasets) (2024.2.2)\n",
      "Requirement already satisfied: python-dateutil>=2.8.2 in /opt/conda/lib/python3.10/site-packages (from pandas->datasets) (2.8.2)\n",
      "Requirement already satisfied: pytz>=2020.1 in /opt/conda/lib/python3.10/site-packages (from pandas->datasets) (2023.3.post1)\n",
      "Requirement already satisfied: tzdata>=2022.1 in /opt/conda/lib/python3.10/site-packages (from pandas->datasets) (2023.4)\n",
      "Requirement already satisfied: six>=1.5 in /opt/conda/lib/python3.10/site-packages (from python-dateutil>=2.8.2->pandas->datasets) (1.16.0)\n",
      "Requirement already satisfied: sentencepiece in /opt/conda/lib/python3.10/site-packages (0.2.0)\n",
      "Collecting seqeval\n",
      "  Downloading seqeval-1.2.2.tar.gz (43 kB)\n",
      "\u001b[2K     \u001b[90m━━━━━━━━━━━━━━━━━━━━━━━━━━━━━━━━━━━━━━━━\u001b[0m \u001b[32m43.6/43.6 kB\u001b[0m \u001b[31m2.2 MB/s\u001b[0m eta \u001b[36m0:00:00\u001b[0m\n",
      "\u001b[?25h  Preparing metadata (setup.py) ... \u001b[?25ldone\n",
      "\u001b[?25hRequirement already satisfied: numpy>=1.14.0 in /opt/conda/lib/python3.10/site-packages (from seqeval) (1.26.4)\n",
      "Requirement already satisfied: scikit-learn>=0.21.3 in /opt/conda/lib/python3.10/site-packages (from seqeval) (1.2.2)\n",
      "Requirement already satisfied: scipy>=1.3.2 in /opt/conda/lib/python3.10/site-packages (from scikit-learn>=0.21.3->seqeval) (1.11.4)\n",
      "Requirement already satisfied: joblib>=1.1.1 in /opt/conda/lib/python3.10/site-packages (from scikit-learn>=0.21.3->seqeval) (1.3.2)\n",
      "Requirement already satisfied: threadpoolctl>=2.0.0 in /opt/conda/lib/python3.10/site-packages (from scikit-learn>=0.21.3->seqeval) (3.2.0)\n",
      "Building wheels for collected packages: seqeval\n",
      "  Building wheel for seqeval (setup.py) ... \u001b[?25ldone\n",
      "\u001b[?25h  Created wheel for seqeval: filename=seqeval-1.2.2-py3-none-any.whl size=16162 sha256=375d30e42d33a5c26146c761f9e1f52410b242feec2dd3e91f3b6a0786a0ce5f\n",
      "  Stored in directory: /root/.cache/pip/wheels/1a/67/4a/ad4082dd7dfc30f2abfe4d80a2ed5926a506eb8a972b4767fa\n",
      "Successfully built seqeval\n",
      "Installing collected packages: seqeval\n",
      "Successfully installed seqeval-1.2.2\n",
      "Requirement already satisfied: transformers[torch] in /opt/conda/lib/python3.10/site-packages (4.38.1)\n",
      "Requirement already satisfied: filelock in /opt/conda/lib/python3.10/site-packages (from transformers[torch]) (3.13.1)\n",
      "Requirement already satisfied: huggingface-hub<1.0,>=0.19.3 in /opt/conda/lib/python3.10/site-packages (from transformers[torch]) (0.20.3)\n",
      "Requirement already satisfied: numpy>=1.17 in /opt/conda/lib/python3.10/site-packages (from transformers[torch]) (1.26.4)\n",
      "Requirement already satisfied: packaging>=20.0 in /opt/conda/lib/python3.10/site-packages (from transformers[torch]) (21.3)\n",
      "Requirement already satisfied: pyyaml>=5.1 in /opt/conda/lib/python3.10/site-packages (from transformers[torch]) (6.0.1)\n",
      "Requirement already satisfied: regex!=2019.12.17 in /opt/conda/lib/python3.10/site-packages (from transformers[torch]) (2023.12.25)\n",
      "Requirement already satisfied: requests in /opt/conda/lib/python3.10/site-packages (from transformers[torch]) (2.31.0)\n",
      "Requirement already satisfied: tokenizers<0.19,>=0.14 in /opt/conda/lib/python3.10/site-packages (from transformers[torch]) (0.15.2)\n",
      "Requirement already satisfied: safetensors>=0.4.1 in /opt/conda/lib/python3.10/site-packages (from transformers[torch]) (0.4.2)\n",
      "Requirement already satisfied: tqdm>=4.27 in /opt/conda/lib/python3.10/site-packages (from transformers[torch]) (4.66.1)\n",
      "Requirement already satisfied: torch in /opt/conda/lib/python3.10/site-packages (from transformers[torch]) (2.1.2)\n",
      "Requirement already satisfied: accelerate>=0.21.0 in /opt/conda/lib/python3.10/site-packages (from transformers[torch]) (0.27.2)\n",
      "Requirement already satisfied: psutil in /opt/conda/lib/python3.10/site-packages (from accelerate>=0.21.0->transformers[torch]) (5.9.3)\n",
      "Requirement already satisfied: fsspec>=2023.5.0 in /opt/conda/lib/python3.10/site-packages (from huggingface-hub<1.0,>=0.19.3->transformers[torch]) (2024.2.0)\n",
      "Requirement already satisfied: typing-extensions>=3.7.4.3 in /opt/conda/lib/python3.10/site-packages (from huggingface-hub<1.0,>=0.19.3->transformers[torch]) (4.9.0)\n",
      "Requirement already satisfied: pyparsing!=3.0.5,>=2.0.2 in /opt/conda/lib/python3.10/site-packages (from packaging>=20.0->transformers[torch]) (3.1.1)\n",
      "Requirement already satisfied: sympy in /opt/conda/lib/python3.10/site-packages (from torch->transformers[torch]) (1.12)\n",
      "Requirement already satisfied: networkx in /opt/conda/lib/python3.10/site-packages (from torch->transformers[torch]) (3.2.1)\n",
      "Requirement already satisfied: jinja2 in /opt/conda/lib/python3.10/site-packages (from torch->transformers[torch]) (3.1.2)\n",
      "Requirement already satisfied: charset-normalizer<4,>=2 in /opt/conda/lib/python3.10/site-packages (from requests->transformers[torch]) (3.3.2)\n",
      "Requirement already satisfied: idna<4,>=2.5 in /opt/conda/lib/python3.10/site-packages (from requests->transformers[torch]) (3.6)\n",
      "Requirement already satisfied: urllib3<3,>=1.21.1 in /opt/conda/lib/python3.10/site-packages (from requests->transformers[torch]) (1.26.18)\n",
      "Requirement already satisfied: certifi>=2017.4.17 in /opt/conda/lib/python3.10/site-packages (from requests->transformers[torch]) (2024.2.2)\n",
      "Requirement already satisfied: MarkupSafe>=2.0 in /opt/conda/lib/python3.10/site-packages (from jinja2->torch->transformers[torch]) (2.1.3)\n",
      "Requirement already satisfied: mpmath>=0.19 in /opt/conda/lib/python3.10/site-packages (from sympy->torch->transformers[torch]) (1.3.0)\n",
      "Requirement already satisfied: accelerate in /opt/conda/lib/python3.10/site-packages (0.27.2)\n",
      "Requirement already satisfied: numpy>=1.17 in /opt/conda/lib/python3.10/site-packages (from accelerate) (1.26.4)\n",
      "Requirement already satisfied: packaging>=20.0 in /opt/conda/lib/python3.10/site-packages (from accelerate) (21.3)\n",
      "Requirement already satisfied: psutil in /opt/conda/lib/python3.10/site-packages (from accelerate) (5.9.3)\n",
      "Requirement already satisfied: pyyaml in /opt/conda/lib/python3.10/site-packages (from accelerate) (6.0.1)\n",
      "Requirement already satisfied: torch>=1.10.0 in /opt/conda/lib/python3.10/site-packages (from accelerate) (2.1.2)\n",
      "Requirement already satisfied: huggingface-hub in /opt/conda/lib/python3.10/site-packages (from accelerate) (0.20.3)\n",
      "Requirement already satisfied: safetensors>=0.3.1 in /opt/conda/lib/python3.10/site-packages (from accelerate) (0.4.2)\n",
      "Requirement already satisfied: pyparsing!=3.0.5,>=2.0.2 in /opt/conda/lib/python3.10/site-packages (from packaging>=20.0->accelerate) (3.1.1)\n",
      "Requirement already satisfied: filelock in /opt/conda/lib/python3.10/site-packages (from torch>=1.10.0->accelerate) (3.13.1)\n",
      "Requirement already satisfied: typing-extensions in /opt/conda/lib/python3.10/site-packages (from torch>=1.10.0->accelerate) (4.9.0)\n",
      "Requirement already satisfied: sympy in /opt/conda/lib/python3.10/site-packages (from torch>=1.10.0->accelerate) (1.12)\n",
      "Requirement already satisfied: networkx in /opt/conda/lib/python3.10/site-packages (from torch>=1.10.0->accelerate) (3.2.1)\n",
      "Requirement already satisfied: jinja2 in /opt/conda/lib/python3.10/site-packages (from torch>=1.10.0->accelerate) (3.1.2)\n",
      "Requirement already satisfied: fsspec in /opt/conda/lib/python3.10/site-packages (from torch>=1.10.0->accelerate) (2024.2.0)\n",
      "Requirement already satisfied: requests in /opt/conda/lib/python3.10/site-packages (from huggingface-hub->accelerate) (2.31.0)\n",
      "Requirement already satisfied: tqdm>=4.42.1 in /opt/conda/lib/python3.10/site-packages (from huggingface-hub->accelerate) (4.66.1)\n",
      "Requirement already satisfied: MarkupSafe>=2.0 in /opt/conda/lib/python3.10/site-packages (from jinja2->torch>=1.10.0->accelerate) (2.1.3)\n",
      "Requirement already satisfied: charset-normalizer<4,>=2 in /opt/conda/lib/python3.10/site-packages (from requests->huggingface-hub->accelerate) (3.3.2)\n",
      "Requirement already satisfied: idna<4,>=2.5 in /opt/conda/lib/python3.10/site-packages (from requests->huggingface-hub->accelerate) (3.6)\n",
      "Requirement already satisfied: urllib3<3,>=1.21.1 in /opt/conda/lib/python3.10/site-packages (from requests->huggingface-hub->accelerate) (1.26.18)\n",
      "Requirement already satisfied: certifi>=2017.4.17 in /opt/conda/lib/python3.10/site-packages (from requests->huggingface-hub->accelerate) (2024.2.2)\n",
      "Requirement already satisfied: mpmath>=0.19 in /opt/conda/lib/python3.10/site-packages (from sympy->torch>=1.10.0->accelerate) (1.3.0)\n"
     ]
    }
   ],
   "source": [
    "!pip3 install datasets\n",
    "!pip3 install sentencepiece\n",
    "!pip3 install seqeval\n",
    "!pip install transformers[torch]\n",
    "!pip install accelerate -U"
   ]
  },
  {
   "cell_type": "code",
   "execution_count": 13,
   "metadata": {
    "execution": {
     "iopub.execute_input": "2024-03-10T13:46:57.356210Z",
     "iopub.status.busy": "2024-03-10T13:46:57.355823Z",
     "iopub.status.idle": "2024-03-10T13:46:57.360557Z",
     "shell.execute_reply": "2024-03-10T13:46:57.359643Z",
     "shell.execute_reply.started": "2024-03-10T13:46:57.356178Z"
    }
   },
   "outputs": [],
   "source": [
    "import datasets"
   ]
  },
  {
   "cell_type": "code",
   "execution_count": 14,
   "metadata": {
    "execution": {
     "iopub.execute_input": "2024-03-10T13:46:57.988738Z",
     "iopub.status.busy": "2024-03-10T13:46:57.988020Z",
     "iopub.status.idle": "2024-03-10T13:47:00.284626Z",
     "shell.execute_reply": "2024-03-10T13:47:00.283679Z",
     "shell.execute_reply.started": "2024-03-10T13:46:57.988701Z"
    }
   },
   "outputs": [],
   "source": [
    "# Let's download the Naampadam (Indic NER) dataset\n",
    "from datasets import ClassLabel, load_dataset, load_metric, DownloadMode\n",
    "\n",
    "lang='hi'\n",
    "\n",
    "train_dataset = load_dataset('ai4bharat/naamapadam', lang , split = 'train[:200000]')\n",
    "validation_dataset = load_dataset('ai4bharat/naamapadam', lang , split = 'validation')\n",
    "test_dataset = load_dataset('ai4bharat/naamapadam', lang , split = 'test')\n",
    "\n"
   ]
  },
  {
   "cell_type": "code",
   "execution_count": 15,
   "metadata": {
    "execution": {
     "iopub.execute_input": "2024-03-10T13:47:00.994267Z",
     "iopub.status.busy": "2024-03-10T13:47:00.993368Z",
     "iopub.status.idle": "2024-03-10T13:47:00.998903Z",
     "shell.execute_reply": "2024-03-10T13:47:00.997897Z",
     "shell.execute_reply.started": "2024-03-10T13:47:00.994234Z"
    }
   },
   "outputs": [
    {
     "name": "stdout",
     "output_type": "stream",
     "text": [
      "{'tokens': Sequence(feature=Value(dtype='string', id=None), length=-1, id=None), 'ner_tags': Sequence(feature=ClassLabel(num_classes=7, names=['O', 'B-PER', 'I-PER', 'B-ORG', 'I-ORG', 'B-LOC', 'I-LOC'], id=None), length=-1, id=None)}\n"
     ]
    }
   ],
   "source": [
    "features = train_dataset.features\n",
    "print(features)"
   ]
  },
  {
   "cell_type": "code",
   "execution_count": 16,
   "metadata": {
    "execution": {
     "iopub.execute_input": "2024-03-10T13:47:01.539985Z",
     "iopub.status.busy": "2024-03-10T13:47:01.539192Z",
     "iopub.status.idle": "2024-03-10T13:47:01.546326Z",
     "shell.execute_reply": "2024-03-10T13:47:01.545393Z",
     "shell.execute_reply.started": "2024-03-10T13:47:01.539950Z"
    }
   },
   "outputs": [
    {
     "name": "stdout",
     "output_type": "stream",
     "text": [
      "{'O': 0, 'B-PER': 1, 'I-PER': 2, 'B-ORG': 3, 'I-ORG': 4, 'B-LOC': 5, 'I-LOC': 6}\n"
     ]
    }
   ],
   "source": [
    "text_column_name = \"tokens\"\n",
    "label_column_name = \"ner_tags\"\n",
    "\n",
    "label_list = features[label_column_name].feature.names\n",
    "\n",
    "label_to_id = {label_list[i]: features[label_column_name].feature.str2int( label_list[i] ) for i in range(len(label_list))}\n",
    "\n",
    "print(label_to_id)\n",
    "\n",
    "num_labels = len(label_list)\n"
   ]
  },
  {
   "cell_type": "code",
   "execution_count": 17,
   "metadata": {
    "execution": {
     "iopub.execute_input": "2024-03-10T13:47:01.842847Z",
     "iopub.status.busy": "2024-03-10T13:47:01.842520Z",
     "iopub.status.idle": "2024-03-10T13:47:02.651419Z",
     "shell.execute_reply": "2024-03-10T13:47:02.650578Z",
     "shell.execute_reply.started": "2024-03-10T13:47:01.842823Z"
    }
   },
   "outputs": [],
   "source": [
    "from transformers import AutoModelForTokenClassification, AutoConfig, AutoTokenizer, TrainingArguments, Trainer, DataCollatorForTokenClassification, EarlyStoppingCallback, IntervalStrategy\n",
    "import numpy as np\n",
    "config = AutoConfig.from_pretrained('ai4bharat/indic-bert', num_labels=num_labels, finetuning_task='ner')\n",
    "tokenizer = AutoTokenizer.from_pretrained(\"ai4bharat/IndicNER\")\n",
    "model = AutoModelForTokenClassification.from_pretrained(\"ai4bharat/IndicNER\", num_labels=num_labels)"
   ]
  },
  {
   "cell_type": "code",
   "execution_count": 18,
   "metadata": {
    "execution": {
     "iopub.execute_input": "2024-03-10T13:47:02.653988Z",
     "iopub.status.busy": "2024-03-10T13:47:02.653330Z",
     "iopub.status.idle": "2024-03-10T13:47:02.661829Z",
     "shell.execute_reply": "2024-03-10T13:47:02.660802Z",
     "shell.execute_reply.started": "2024-03-10T13:47:02.653949Z"
    }
   },
   "outputs": [],
   "source": [
    "# Tokenize all texts and align the labels with them.\n",
    "def tokenize_and_align_labels(examples):\n",
    "    tokenized_inputs = tokenizer(\n",
    "        examples[text_column_name],\n",
    "        padding=\"max_length\",\n",
    "        truncation=True,\n",
    "        max_length=128,\n",
    "        # We use this argument because the texts in our dataset are lists of words (with a label for each word).\n",
    "        is_split_into_words=True,\n",
    "    )\n",
    "    # print(tokenized_inputs)\n",
    "    labels = []\n",
    "    for i, label in enumerate(examples[label_column_name]):\n",
    "        # print('=====')\n",
    "        # print('{} {}'.format(i,label)) #ak\n",
    "        word_ids = tokenized_inputs.word_ids(batch_index=i)\n",
    "\n",
    "        previous_word_idx = None\n",
    "        label_ids = []\n",
    "        for word_idx in word_ids:\n",
    "            # Special tokens have a word id that is None. We set the label to -100 so they are automatically\n",
    "            # ignored in the loss function.\n",
    "            if word_idx is None:\n",
    "                label_ids.append(-100)\n",
    "            # We set the label for the first token of each word.\n",
    "            elif word_idx != previous_word_idx:\n",
    "                label_ids.append(label[word_idx])\n",
    "            # For the other tokens in a word, we set the label to either the current label or -100, depending on\n",
    "            # the label_all_tokens flag.\n",
    "            else:\n",
    "                label_ids.append(-100)\n",
    "            previous_word_idx = word_idx\n",
    "\n",
    "        labels.append(label_ids)\n",
    "    tokenized_inputs[\"labels\"] = labels\n",
    "    # print(tokenized_inputs)\n",
    "    return tokenized_inputs"
   ]
  },
  {
   "cell_type": "code",
   "execution_count": 19,
   "metadata": {
    "execution": {
     "iopub.execute_input": "2024-03-10T13:47:02.687815Z",
     "iopub.status.busy": "2024-03-10T13:47:02.687510Z",
     "iopub.status.idle": "2024-03-10T13:47:02.694144Z",
     "shell.execute_reply": "2024-03-10T13:47:02.693260Z",
     "shell.execute_reply.started": "2024-03-10T13:47:02.687791Z"
    }
   },
   "outputs": [
    {
     "name": "stdout",
     "output_type": "stream",
     "text": [
      "['[CLS]', 'सक', '##टर', '55', '/', '56', 'क', 'एस', '##ए', '##च', '##ओ', 'अ', '##र', '##वि', '##द', 'कमार', 'न', 'ब', '##ता', '##या', 'कि', 'इस', 'मा', '##मल', 'म', 'आई', '##पी', '##सी', 'की', 'ध', '##ारा', '376', '-', 'डी', '(', 'ग', '##गर', '##प', ')', 'क', 'त', '##हत', 'मा', '##मल', '##ा', 'दर', '##ज', 'कर', 'लिया', 'गया', 'ह', '।', '[SEP]', '[PAD]', '[PAD]', '[PAD]', '[PAD]', '[PAD]', '[PAD]', '[PAD]', '[PAD]', '[PAD]', '[PAD]', '[PAD]', '[PAD]', '[PAD]', '[PAD]', '[PAD]', '[PAD]', '[PAD]', '[PAD]', '[PAD]', '[PAD]', '[PAD]', '[PAD]', '[PAD]', '[PAD]', '[PAD]', '[PAD]', '[PAD]', '[PAD]', '[PAD]', '[PAD]', '[PAD]', '[PAD]', '[PAD]', '[PAD]', '[PAD]', '[PAD]', '[PAD]', '[PAD]', '[PAD]', '[PAD]', '[PAD]', '[PAD]', '[PAD]', '[PAD]', '[PAD]', '[PAD]', '[PAD]', '[PAD]', '[PAD]', '[PAD]', '[PAD]', '[PAD]', '[PAD]', '[PAD]', '[PAD]', '[PAD]', '[PAD]', '[PAD]', '[PAD]', '[PAD]', '[PAD]', '[PAD]', '[PAD]', '[PAD]', '[PAD]', '[PAD]', '[PAD]', '[PAD]', '[PAD]', '[PAD]', '[PAD]', '[PAD]', '[PAD]', '[PAD]', '[PAD]']\n"
     ]
    }
   ],
   "source": [
    "correct_output = tokenize_and_align_labels(train_dataset[0:1])\n",
    "tokens = tokenizer.convert_ids_to_tokens(correct_output[\"input_ids\"][0])\n",
    "print(tokens)\n",
    "\n",
    "# Now we have input ids and labels to pass to model"
   ]
  },
  {
   "cell_type": "code",
   "execution_count": 20,
   "metadata": {
    "execution": {
     "iopub.execute_input": "2024-03-10T13:47:02.974513Z",
     "iopub.status.busy": "2024-03-10T13:47:02.973870Z",
     "iopub.status.idle": "2024-03-10T13:47:02.980786Z",
     "shell.execute_reply": "2024-03-10T13:47:02.979894Z",
     "shell.execute_reply.started": "2024-03-10T13:47:02.974480Z"
    }
   },
   "outputs": [
    {
     "name": "stdout",
     "output_type": "stream",
     "text": [
      "[CLS]___________________________________-100\n",
      "सक______________________________________0\n",
      "##टर____________________________________-100\n",
      "55______________________________________0\n",
      "/_______________________________________-100\n",
      "56______________________________________-100\n",
      "क_______________________________________0\n",
      "एस______________________________________0\n",
      "##ए_____________________________________-100\n",
      "##च_____________________________________-100\n",
      "##ओ_____________________________________-100\n",
      "अ_______________________________________1\n",
      "##र_____________________________________-100\n",
      "##वि____________________________________-100\n",
      "##द_____________________________________-100\n",
      "कमार____________________________________2\n",
      "न_______________________________________0\n",
      "ब_______________________________________0\n",
      "##ता____________________________________-100\n",
      "##या____________________________________-100\n",
      "कि______________________________________0\n",
      "इस______________________________________0\n",
      "मा______________________________________0\n",
      "##मल____________________________________-100\n",
      "म_______________________________________0\n",
      "आई______________________________________0\n",
      "##पी____________________________________-100\n",
      "##सी____________________________________-100\n",
      "की______________________________________0\n",
      "ध_______________________________________0\n",
      "##ारा___________________________________-100\n",
      "376_____________________________________0\n",
      "-_______________________________________0\n",
      "डी______________________________________0\n",
      "(_______________________________________0\n",
      "ग_______________________________________0\n",
      "##गर____________________________________-100\n",
      "##प_____________________________________-100\n",
      ")_______________________________________0\n",
      "क_______________________________________0\n",
      "त_______________________________________0\n",
      "##हत____________________________________-100\n",
      "मा______________________________________0\n",
      "##मल____________________________________-100\n",
      "##ा_____________________________________-100\n",
      "दर______________________________________0\n",
      "##ज_____________________________________-100\n",
      "कर______________________________________0\n",
      "लिया____________________________________0\n",
      "गया_____________________________________0\n",
      "ह_______________________________________0\n",
      "।_______________________________________0\n",
      "[SEP]___________________________________-100\n",
      "[PAD]___________________________________-100\n",
      "[PAD]___________________________________-100\n",
      "[PAD]___________________________________-100\n",
      "[PAD]___________________________________-100\n",
      "[PAD]___________________________________-100\n",
      "[PAD]___________________________________-100\n",
      "[PAD]___________________________________-100\n",
      "[PAD]___________________________________-100\n",
      "[PAD]___________________________________-100\n",
      "[PAD]___________________________________-100\n",
      "[PAD]___________________________________-100\n",
      "[PAD]___________________________________-100\n",
      "[PAD]___________________________________-100\n",
      "[PAD]___________________________________-100\n",
      "[PAD]___________________________________-100\n",
      "[PAD]___________________________________-100\n",
      "[PAD]___________________________________-100\n",
      "[PAD]___________________________________-100\n",
      "[PAD]___________________________________-100\n",
      "[PAD]___________________________________-100\n",
      "[PAD]___________________________________-100\n",
      "[PAD]___________________________________-100\n",
      "[PAD]___________________________________-100\n",
      "[PAD]___________________________________-100\n",
      "[PAD]___________________________________-100\n",
      "[PAD]___________________________________-100\n",
      "[PAD]___________________________________-100\n",
      "[PAD]___________________________________-100\n",
      "[PAD]___________________________________-100\n",
      "[PAD]___________________________________-100\n",
      "[PAD]___________________________________-100\n",
      "[PAD]___________________________________-100\n",
      "[PAD]___________________________________-100\n",
      "[PAD]___________________________________-100\n",
      "[PAD]___________________________________-100\n",
      "[PAD]___________________________________-100\n",
      "[PAD]___________________________________-100\n",
      "[PAD]___________________________________-100\n",
      "[PAD]___________________________________-100\n",
      "[PAD]___________________________________-100\n",
      "[PAD]___________________________________-100\n",
      "[PAD]___________________________________-100\n",
      "[PAD]___________________________________-100\n",
      "[PAD]___________________________________-100\n",
      "[PAD]___________________________________-100\n",
      "[PAD]___________________________________-100\n",
      "[PAD]___________________________________-100\n",
      "[PAD]___________________________________-100\n",
      "[PAD]___________________________________-100\n",
      "[PAD]___________________________________-100\n",
      "[PAD]___________________________________-100\n",
      "[PAD]___________________________________-100\n",
      "[PAD]___________________________________-100\n",
      "[PAD]___________________________________-100\n",
      "[PAD]___________________________________-100\n",
      "[PAD]___________________________________-100\n",
      "[PAD]___________________________________-100\n",
      "[PAD]___________________________________-100\n",
      "[PAD]___________________________________-100\n",
      "[PAD]___________________________________-100\n",
      "[PAD]___________________________________-100\n",
      "[PAD]___________________________________-100\n",
      "[PAD]___________________________________-100\n",
      "[PAD]___________________________________-100\n",
      "[PAD]___________________________________-100\n",
      "[PAD]___________________________________-100\n",
      "[PAD]___________________________________-100\n",
      "[PAD]___________________________________-100\n",
      "[PAD]___________________________________-100\n",
      "[PAD]___________________________________-100\n",
      "[PAD]___________________________________-100\n",
      "[PAD]___________________________________-100\n",
      "[PAD]___________________________________-100\n",
      "[PAD]___________________________________-100\n",
      "[PAD]___________________________________-100\n"
     ]
    }
   ],
   "source": [
    "for token,label in zip(tokenizer.convert_ids_to_tokens(correct_output[\"input_ids\"][0]) , correct_output[\"labels\"][0]):\n",
    "  print(f\"{token:_<40}{label}\")\n"
   ]
  },
  {
   "cell_type": "code",
   "execution_count": 21,
   "metadata": {
    "execution": {
     "iopub.execute_input": "2024-03-10T13:47:03.871281Z",
     "iopub.status.busy": "2024-03-10T13:47:03.870607Z",
     "iopub.status.idle": "2024-03-10T13:48:08.990011Z",
     "shell.execute_reply": "2024-03-10T13:48:08.988955Z",
     "shell.execute_reply.started": "2024-03-10T13:47:03.871250Z"
    }
   },
   "outputs": [
    {
     "data": {
      "application/vnd.jupyter.widget-view+json": {
       "model_id": "a5ea5fd0f8a3440bbedafa077230efa1",
       "version_major": 2,
       "version_minor": 0
      },
      "text/plain": [
       "  0%|          | 0/200 [00:00<?, ?ba/s]"
      ]
     },
     "metadata": {},
     "output_type": "display_data"
    },
    {
     "name": "stdout",
     "output_type": "stream",
     "text": [
      "Dataset({\n",
      "    features: ['tokens', 'ner_tags', 'input_ids', 'token_type_ids', 'attention_mask', 'labels'],\n",
      "    num_rows: 200000\n",
      "})\n"
     ]
    }
   ],
   "source": [
    "tokenized_train_dataset = train_dataset.map(\n",
    "    tokenize_and_align_labels,\n",
    "    batched=True,\n",
    ")\n",
    "print(tokenized_train_dataset)"
   ]
  },
  {
   "cell_type": "code",
   "execution_count": 22,
   "metadata": {
    "execution": {
     "iopub.execute_input": "2024-03-10T13:48:08.992704Z",
     "iopub.status.busy": "2024-03-10T13:48:08.991932Z",
     "iopub.status.idle": "2024-03-10T13:48:08.999861Z",
     "shell.execute_reply": "2024-03-10T13:48:08.998953Z",
     "shell.execute_reply.started": "2024-03-10T13:48:08.992667Z"
    }
   },
   "outputs": [
    {
     "name": "stdout",
     "output_type": "stream",
     "text": [
      "30\n",
      "128\n",
      "128\n"
     ]
    }
   ],
   "source": [
    "# Problem is fixed now!!\n",
    "print(len(tokenized_train_dataset[0]['ner_tags']))\n",
    "print(len(tokenized_train_dataset[0]['labels']))\n",
    "print(len(tokenized_train_dataset[0]['input_ids']))"
   ]
  },
  {
   "cell_type": "code",
   "execution_count": 23,
   "metadata": {
    "execution": {
     "iopub.execute_input": "2024-03-10T13:48:09.001987Z",
     "iopub.status.busy": "2024-03-10T13:48:09.001278Z",
     "iopub.status.idle": "2024-03-10T13:48:09.946680Z",
     "shell.execute_reply": "2024-03-10T13:48:09.945685Z",
     "shell.execute_reply.started": "2024-03-10T13:48:09.001936Z"
    }
   },
   "outputs": [
    {
     "data": {
      "application/vnd.jupyter.widget-view+json": {
       "model_id": "5b80a1cb56ad4edfa81a1f989e38a5ac",
       "version_major": 2,
       "version_minor": 0
      },
      "text/plain": [
       "  0%|          | 0/1 [00:00<?, ?ba/s]"
      ]
     },
     "metadata": {},
     "output_type": "display_data"
    },
    {
     "name": "stdout",
     "output_type": "stream",
     "text": [
      "Dataset({\n",
      "    features: ['tokens', 'ner_tags', 'input_ids', 'token_type_ids', 'attention_mask', 'labels'],\n",
      "    num_rows: 867\n",
      "})\n"
     ]
    }
   ],
   "source": [
    "# Test Dataset\n",
    "tokenized_test_dataset = test_dataset.map(\n",
    "    tokenize_and_align_labels,\n",
    "    batched=True,\n",
    ")\n",
    "print(tokenized_test_dataset)"
   ]
  },
  {
   "cell_type": "code",
   "execution_count": 24,
   "metadata": {
    "execution": {
     "iopub.execute_input": "2024-03-10T13:48:09.948948Z",
     "iopub.status.busy": "2024-03-10T13:48:09.948637Z",
     "iopub.status.idle": "2024-03-10T13:48:14.348638Z",
     "shell.execute_reply": "2024-03-10T13:48:14.347669Z",
     "shell.execute_reply.started": "2024-03-10T13:48:09.948921Z"
    }
   },
   "outputs": [
    {
     "data": {
      "application/vnd.jupyter.widget-view+json": {
       "model_id": "98b61dd18fe744ca80da7451f4e3dc5a",
       "version_major": 2,
       "version_minor": 0
      },
      "text/plain": [
       "  0%|          | 0/14 [00:00<?, ?ba/s]"
      ]
     },
     "metadata": {},
     "output_type": "display_data"
    },
    {
     "name": "stdout",
     "output_type": "stream",
     "text": [
      "Dataset({\n",
      "    features: ['tokens', 'ner_tags', 'input_ids', 'token_type_ids', 'attention_mask', 'labels'],\n",
      "    num_rows: 13460\n",
      "})\n"
     ]
    }
   ],
   "source": [
    "# Validation DataSet\n",
    "tokenized_validation_dataset = validation_dataset.map(\n",
    "    tokenize_and_align_labels,\n",
    "    batched=True,\n",
    ")\n",
    "print(tokenized_validation_dataset)"
   ]
  },
  {
   "cell_type": "code",
   "execution_count": 25,
   "metadata": {
    "execution": {
     "iopub.execute_input": "2024-03-10T13:48:14.350493Z",
     "iopub.status.busy": "2024-03-10T13:48:14.350196Z",
     "iopub.status.idle": "2024-03-10T13:48:14.354363Z",
     "shell.execute_reply": "2024-03-10T13:48:14.353354Z",
     "shell.execute_reply.started": "2024-03-10T13:48:14.350454Z"
    }
   },
   "outputs": [],
   "source": [
    "# Data Collator\n",
    "data_collator = DataCollatorForTokenClassification(tokenizer)"
   ]
  },
  {
   "cell_type": "code",
   "execution_count": 26,
   "metadata": {
    "execution": {
     "iopub.execute_input": "2024-03-10T13:48:14.355771Z",
     "iopub.status.busy": "2024-03-10T13:48:14.355363Z",
     "iopub.status.idle": "2024-03-10T13:48:14.972086Z",
     "shell.execute_reply": "2024-03-10T13:48:14.971011Z",
     "shell.execute_reply.started": "2024-03-10T13:48:14.355736Z"
    }
   },
   "outputs": [
    {
     "data": {
      "application/vnd.jupyter.widget-view+json": {
       "model_id": "f1bb2c822bc5475ebc2edbee544f41c3",
       "version_major": 2,
       "version_minor": 0
      },
      "text/plain": [
       "Downloading builder script:   0%|          | 0.00/2.47k [00:00<?, ?B/s]"
      ]
     },
     "metadata": {},
     "output_type": "display_data"
    }
   ],
   "source": [
    "# Metric to see how my model is performing For NER we use seqeval\n",
    "metric = datasets.load_metric(\"seqeval\")"
   ]
  },
  {
   "cell_type": "code",
   "execution_count": 27,
   "metadata": {
    "execution": {
     "iopub.execute_input": "2024-03-10T13:48:14.974150Z",
     "iopub.status.busy": "2024-03-10T13:48:14.973454Z",
     "iopub.status.idle": "2024-03-10T13:48:14.992746Z",
     "shell.execute_reply": "2024-03-10T13:48:14.991546Z",
     "shell.execute_reply.started": "2024-03-10T13:48:14.974114Z"
    }
   },
   "outputs": [
    {
     "name": "stdout",
     "output_type": "stream",
     "text": [
      "['O', 'O', 'O', 'O', 'B-PER', 'I-PER', 'O', 'O', 'O', 'O', 'O', 'O', 'O', 'O', 'O', 'O', 'O', 'O', 'O', 'O', 'O', 'O', 'O', 'O', 'O', 'O', 'O', 'O', 'O', 'O']\n"
     ]
    },
    {
     "data": {
      "text/plain": [
       "{'PER': {'precision': 1.0, 'recall': 1.0, 'f1': 1.0, 'number': 1},\n",
       " 'overall_precision': 1.0,\n",
       " 'overall_recall': 1.0,\n",
       " 'overall_f1': 1.0,\n",
       " 'overall_accuracy': 1.0}"
      ]
     },
     "execution_count": 27,
     "metadata": {},
     "output_type": "execute_result"
    }
   ],
   "source": [
    "# Seeing the working of seqeval\n",
    "example_text = train_dataset[0]\n",
    "label_list = train_dataset.features[\"ner_tags\"].feature.names\n",
    "label_list\n",
    "\n",
    "labels = [label_list[i] for i in example_text[\"ner_tags\"]]\n",
    "print(labels)\n",
    "\n",
    "metric.compute(predictions=[labels] , references=[labels])"
   ]
  },
  {
   "cell_type": "code",
   "execution_count": 28,
   "metadata": {
    "execution": {
     "iopub.execute_input": "2024-03-10T13:48:14.994336Z",
     "iopub.status.busy": "2024-03-10T13:48:14.994047Z",
     "iopub.status.idle": "2024-03-10T13:48:15.352053Z",
     "shell.execute_reply": "2024-03-10T13:48:15.351043Z",
     "shell.execute_reply.started": "2024-03-10T13:48:14.994312Z"
    }
   },
   "outputs": [],
   "source": [
    "# Metrics\n",
    "metric = load_metric(\"seqeval\")\n",
    "\n",
    "def compute_metrics(p):\n",
    "    predictions, labels = p\n",
    "    predictions = np.argmax(predictions, axis=2)\n",
    "\n",
    "    # Remove ignored index (special tokens)\n",
    "    true_predictions = [\n",
    "        [label_list[p] for (p, l) in zip(prediction, label) if l != -100]\n",
    "        for prediction, label in zip(predictions, labels)\n",
    "    ]\n",
    "    true_labels = [\n",
    "        [label_list[l] for (p, l) in zip(prediction, label) if l != -100]\n",
    "        for prediction, label in zip(predictions, labels)\n",
    "    ]\n",
    "\n",
    "    results = metric.compute(predictions=true_predictions, references=true_labels)\n",
    "    return {\n",
    "          \"precision\": results[\"overall_precision\"],\n",
    "          \"recall\": results[\"overall_recall\"],\n",
    "          \"f1\": results[\"overall_f1\"],\n",
    "          \"accuracy\": results[\"overall_accuracy\"],\n",
    "    }"
   ]
  },
  {
   "cell_type": "code",
   "execution_count": 33,
   "metadata": {
    "execution": {
     "iopub.execute_input": "2024-03-10T13:56:19.978651Z",
     "iopub.status.busy": "2024-03-10T13:56:19.977704Z",
     "iopub.status.idle": "2024-03-10T13:56:19.987517Z",
     "shell.execute_reply": "2024-03-10T13:56:19.986525Z",
     "shell.execute_reply.started": "2024-03-10T13:56:19.978610Z"
    }
   },
   "outputs": [],
   "source": [
    "# Define Training Args\n",
    "args = TrainingArguments(\n",
    "    output_dir=f\"model/upos\",\n",
    "    overwrite_output_dir=True,\n",
    "    evaluation_strategy = \"epoch\",\n",
    "    learning_rate=2e-4,\n",
    "    per_device_train_batch_size=10,\n",
    "    per_device_eval_batch_size=10,\n",
    "    num_train_epochs=2,\n",
    "    weight_decay=0.01,\n",
    "    save_total_limit=1,\n",
    ")"
   ]
  },
  {
   "cell_type": "code",
   "execution_count": 34,
   "metadata": {
    "execution": {
     "iopub.execute_input": "2024-03-10T13:56:20.752003Z",
     "iopub.status.busy": "2024-03-10T13:56:20.751637Z",
     "iopub.status.idle": "2024-03-10T13:56:20.764486Z",
     "shell.execute_reply": "2024-03-10T13:56:20.763414Z",
     "shell.execute_reply.started": "2024-03-10T13:56:20.751977Z"
    }
   },
   "outputs": [],
   "source": [
    "trainer = Trainer(\n",
    "   model,\n",
    "   args,\n",
    "   train_dataset=tokenized_train_dataset,\n",
    "   eval_dataset=tokenized_validation_dataset,\n",
    "   data_collator=data_collator,\n",
    "   tokenizer=tokenizer,\n",
    "   compute_metrics=compute_metrics,\n",
    ")"
   ]
  },
  {
   "cell_type": "code",
   "execution_count": 35,
   "metadata": {
    "execution": {
     "iopub.execute_input": "2024-03-10T13:56:21.817020Z",
     "iopub.status.busy": "2024-03-10T13:56:21.816646Z",
     "iopub.status.idle": "2024-03-10T15:52:05.788417Z",
     "shell.execute_reply": "2024-03-10T15:52:05.787344Z",
     "shell.execute_reply.started": "2024-03-10T13:56:21.816974Z"
    }
   },
   "outputs": [
    {
     "name": "stderr",
     "output_type": "stream",
     "text": [
      "\u001b[34m\u001b[1mwandb\u001b[0m: Logging into wandb.ai. (Learn how to deploy a W&B server locally: https://wandb.me/wandb-server)\n",
      "\u001b[34m\u001b[1mwandb\u001b[0m: You can find your API key in your browser here: https://wandb.ai/authorize\n",
      "\u001b[34m\u001b[1mwandb\u001b[0m: Paste an API key from your profile and hit enter, or press ctrl+c to quit:"
     ]
    },
    {
     "name": "stdin",
     "output_type": "stream",
     "text": [
      "  ········································\n"
     ]
    },
    {
     "name": "stderr",
     "output_type": "stream",
     "text": [
      "\u001b[34m\u001b[1mwandb\u001b[0m: Appending key for api.wandb.ai to your netrc file: /root/.netrc\n"
     ]
    },
    {
     "data": {
      "text/html": [
       "wandb version 0.16.4 is available!  To upgrade, please run:\n",
       " $ pip install wandb --upgrade"
      ],
      "text/plain": [
       "<IPython.core.display.HTML object>"
      ]
     },
     "metadata": {},
     "output_type": "display_data"
    },
    {
     "data": {
      "text/html": [
       "Tracking run with wandb version 0.16.3"
      ],
      "text/plain": [
       "<IPython.core.display.HTML object>"
      ]
     },
     "metadata": {},
     "output_type": "display_data"
    },
    {
     "data": {
      "text/html": [
       "Run data is saved locally in <code>/kaggle/working/wandb/run-20240310_135658-15zvi1x2</code>"
      ],
      "text/plain": [
       "<IPython.core.display.HTML object>"
      ]
     },
     "metadata": {},
     "output_type": "display_data"
    },
    {
     "data": {
      "text/html": [
       "Syncing run <strong><a href='https://wandb.ai/killingenter/huggingface/runs/15zvi1x2' target=\"_blank\">worldly-resonance-2</a></strong> to <a href='https://wandb.ai/killingenter/huggingface' target=\"_blank\">Weights & Biases</a> (<a href='https://wandb.me/run' target=\"_blank\">docs</a>)<br/>"
      ],
      "text/plain": [
       "<IPython.core.display.HTML object>"
      ]
     },
     "metadata": {},
     "output_type": "display_data"
    },
    {
     "data": {
      "text/html": [
       " View project at <a href='https://wandb.ai/killingenter/huggingface' target=\"_blank\">https://wandb.ai/killingenter/huggingface</a>"
      ],
      "text/plain": [
       "<IPython.core.display.HTML object>"
      ]
     },
     "metadata": {},
     "output_type": "display_data"
    },
    {
     "data": {
      "text/html": [
       " View run at <a href='https://wandb.ai/killingenter/huggingface/runs/15zvi1x2' target=\"_blank\">https://wandb.ai/killingenter/huggingface/runs/15zvi1x2</a>"
      ],
      "text/plain": [
       "<IPython.core.display.HTML object>"
      ]
     },
     "metadata": {},
     "output_type": "display_data"
    },
    {
     "data": {
      "text/html": [
       "\n",
       "    <div>\n",
       "      \n",
       "      <progress value='40000' max='40000' style='width:300px; height:20px; vertical-align: middle;'></progress>\n",
       "      [40000/40000 1:54:35, Epoch 2/2]\n",
       "    </div>\n",
       "    <table border=\"1\" class=\"dataframe\">\n",
       "  <thead>\n",
       " <tr style=\"text-align: left;\">\n",
       "      <th>Epoch</th>\n",
       "      <th>Training Loss</th>\n",
       "      <th>Validation Loss</th>\n",
       "      <th>Precision</th>\n",
       "      <th>Recall</th>\n",
       "      <th>F1</th>\n",
       "      <th>Accuracy</th>\n",
       "    </tr>\n",
       "  </thead>\n",
       "  <tbody>\n",
       "    <tr>\n",
       "      <td>1</td>\n",
       "      <td>0.213700</td>\n",
       "      <td>0.213512</td>\n",
       "      <td>0.706477</td>\n",
       "      <td>0.733445</td>\n",
       "      <td>0.719708</td>\n",
       "      <td>0.933005</td>\n",
       "    </tr>\n",
       "    <tr>\n",
       "      <td>2</td>\n",
       "      <td>0.177300</td>\n",
       "      <td>0.183488</td>\n",
       "      <td>0.754552</td>\n",
       "      <td>0.769810</td>\n",
       "      <td>0.762105</td>\n",
       "      <td>0.942342</td>\n",
       "    </tr>\n",
       "  </tbody>\n",
       "</table><p>"
      ],
      "text/plain": [
       "<IPython.core.display.HTML object>"
      ]
     },
     "metadata": {},
     "output_type": "display_data"
    },
    {
     "data": {
      "text/plain": [
       "TrainOutput(global_step=40000, training_loss=0.2221855836868286, metrics={'train_runtime': 6943.5531, 'train_samples_per_second': 57.607, 'train_steps_per_second': 5.761, 'total_flos': 2.61308568576e+16, 'train_loss': 0.2221855836868286, 'epoch': 2.0})"
      ]
     },
     "execution_count": 35,
     "metadata": {},
     "output_type": "execute_result"
    }
   ],
   "source": [
    "trainer.train()"
   ]
  },
  {
   "cell_type": "code",
   "execution_count": 36,
   "metadata": {
    "execution": {
     "iopub.execute_input": "2024-03-10T15:52:54.711056Z",
     "iopub.status.busy": "2024-03-10T15:52:54.710396Z",
     "iopub.status.idle": "2024-03-10T15:52:56.020644Z",
     "shell.execute_reply": "2024-03-10T15:52:56.019470Z",
     "shell.execute_reply.started": "2024-03-10T15:52:54.711023Z"
    }
   },
   "outputs": [],
   "source": [
    "# Save Model\n",
    "trainer.save_model(\"model_indic_ner_2Epoch_two_lakh\")"
   ]
  },
  {
   "cell_type": "code",
   "execution_count": 37,
   "metadata": {
    "execution": {
     "iopub.execute_input": "2024-03-10T15:52:58.028081Z",
     "iopub.status.busy": "2024-03-10T15:52:58.027457Z",
     "iopub.status.idle": "2024-03-10T15:52:58.036516Z",
     "shell.execute_reply": "2024-03-10T15:52:58.035211Z",
     "shell.execute_reply.started": "2024-03-10T15:52:58.028051Z"
    }
   },
   "outputs": [],
   "source": [
    "import zipfile\n",
    "import os\n",
    "from IPython.display import FileLink\n",
    "\n",
    "def zip_dir(directory = os.curdir, file_name = 'directory.zip'):\n",
    "    \"\"\"\n",
    "    zip all the files in a directory\n",
    "    \n",
    "    Parameters\n",
    "    ___\n",
    "    directory: str\n",
    "        directory needs to be zipped, defualt is current working directory\n",
    "        \n",
    "    file_name: str\n",
    "        the name of the zipped file (including .zip), default is 'directory.zip'\n",
    "        \n",
    "    Returns\n",
    "    ___\n",
    "    Creates a hyperlink, which can be used to download the zip file)\n",
    "    \"\"\"\n",
    "    os.chdir(directory)\n",
    "    zip_ref = zipfile.ZipFile(file_name, mode='w')\n",
    "    for folder, _, files in os.walk(directory):\n",
    "        for file in files:\n",
    "            if file_name in file:\n",
    "                pass\n",
    "            else:\n",
    "                zip_ref.write(os.path.join(folder, file))\n",
    "\n",
    "    return FileLink(file_name)"
   ]
  },
  {
   "cell_type": "code",
   "execution_count": 38,
   "metadata": {
    "execution": {
     "iopub.execute_input": "2024-03-10T15:52:58.866265Z",
     "iopub.status.busy": "2024-03-10T15:52:58.865801Z",
     "iopub.status.idle": "2024-03-10T15:53:05.971725Z",
     "shell.execute_reply": "2024-03-10T15:53:05.970514Z",
     "shell.execute_reply.started": "2024-03-10T15:52:58.866230Z"
    }
   },
   "outputs": [
    {
     "data": {
      "text/html": [
       "<a href='directory.zip' target='_blank'>directory.zip</a><br>"
      ],
      "text/plain": [
       "/kaggle/working/directory.zip"
      ]
     },
     "execution_count": 38,
     "metadata": {},
     "output_type": "execute_result"
    }
   ],
   "source": [
    "zip_dir()"
   ]
  },
  {
   "cell_type": "code",
   "execution_count": 44,
   "metadata": {
    "execution": {
     "iopub.execute_input": "2024-03-10T15:55:42.110165Z",
     "iopub.status.busy": "2024-03-10T15:55:42.109792Z",
     "iopub.status.idle": "2024-03-10T15:55:46.940511Z",
     "shell.execute_reply": "2024-03-10T15:55:46.938893Z",
     "shell.execute_reply.started": "2024-03-10T15:55:42.110136Z"
    }
   },
   "outputs": [
    {
     "data": {
      "text/html": [],
      "text/plain": [
       "<IPython.core.display.HTML object>"
      ]
     },
     "metadata": {},
     "output_type": "display_data"
    },
    {
     "name": "stdout",
     "output_type": "stream",
     "text": [
      "{'test_precision': 0.7797270955165692, 'test_recall': 0.8311688311688312, 'test_f1': 0.8046266029670606}\n"
     ]
    }
   ],
   "source": [
    "# Evaluation of Model\n",
    "predictions, labels, metrics = trainer.predict(tokenized_test_dataset)\n",
    "specific_results = {}\n",
    "for key in metrics:\n",
    "    if 'test_precision' in key:\n",
    "      specific_results['test_precision'] = metrics[key]\n",
    "    elif 'test_recall' in key:\n",
    "      specific_results['test_recall'] = metrics[key]\n",
    "    elif 'test_f1' in key:\n",
    "      specific_results['test_f1'] = metrics[key]\n",
    "print(specific_results)"
   ]
  },
  {
   "cell_type": "code",
   "execution_count": 45,
   "metadata": {
    "execution": {
     "iopub.execute_input": "2024-03-10T15:56:35.717385Z",
     "iopub.status.busy": "2024-03-10T15:56:35.716708Z",
     "iopub.status.idle": "2024-03-10T15:56:35.724964Z",
     "shell.execute_reply": "2024-03-10T15:56:35.723839Z",
     "shell.execute_reply.started": "2024-03-10T15:56:35.717349Z"
    }
   },
   "outputs": [
    {
     "name": "stdout",
     "output_type": "stream",
     "text": [
      "test_precision 0.7797270955165692\n",
      "test_recall 0.8311688311688312\n",
      "test_f1 0.8046266029670606\n"
     ]
    }
   ],
   "source": [
    "for key,value in specific_results.items():\n",
    "    print(key,value)"
   ]
  },
  {
   "cell_type": "code",
   "execution_count": null,
   "metadata": {},
   "outputs": [],
   "source": []
  }
 ],
 "metadata": {
  "kaggle": {
   "accelerator": "gpu",
   "dataSources": [],
   "dockerImageVersionId": 30665,
   "isGpuEnabled": true,
   "isInternetEnabled": true,
   "language": "python",
   "sourceType": "notebook"
  },
  "kernelspec": {
   "display_name": "Python 3 (ipykernel)",
   "language": "python",
   "name": "python3"
  },
  "language_info": {
   "codemirror_mode": {
    "name": "ipython",
    "version": 3
   },
   "file_extension": ".py",
   "mimetype": "text/x-python",
   "name": "python",
   "nbconvert_exporter": "python",
   "pygments_lexer": "ipython3",
   "version": "3.11.5"
  }
 },
 "nbformat": 4,
 "nbformat_minor": 4
}
