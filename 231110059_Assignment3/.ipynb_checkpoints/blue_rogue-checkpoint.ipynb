{
 "cells": [
  {
   "cell_type": "code",
   "execution_count": 33,
   "metadata": {
    "execution": {
     "iopub.execute_input": "2024-04-16T20:28:43.100633Z",
     "iopub.status.busy": "2024-04-16T20:28:43.100177Z",
     "iopub.status.idle": "2024-04-16T20:29:03.290774Z",
     "shell.execute_reply": "2024-04-16T20:29:03.288271Z",
     "shell.execute_reply.started": "2024-04-16T20:28:43.100600Z"
    }
   },
   "outputs": [
    {
     "name": "stdout",
     "output_type": "stream",
     "text": [
      "Collecting rouge\n",
      "  Downloading rouge-1.0.1-py3-none-any.whl.metadata (4.1 kB)\n",
      "Requirement already satisfied: six in /opt/conda/lib/python3.10/site-packages (from rouge) (1.16.0)\n",
      "Downloading rouge-1.0.1-py3-none-any.whl (13 kB)\n",
      "Installing collected packages: rouge\n",
      "Successfully installed rouge-1.0.1\n"
     ]
    }
   ],
   "source": [
    "!pip install rouge"
   ]
  },
  {
   "cell_type": "code",
   "execution_count": 38,
   "metadata": {
    "_cell_guid": "b1076dfc-b9ad-4769-8c92-a6c4dae69d19",
    "_uuid": "8f2839f25d086af736a60e9eeb907d3b93b6e0e5",
    "execution": {
     "iopub.execute_input": "2024-04-16T20:32:08.773740Z",
     "iopub.status.busy": "2024-04-16T20:32:08.772828Z",
     "iopub.status.idle": "2024-04-16T20:32:12.189171Z",
     "shell.execute_reply": "2024-04-16T20:32:12.187070Z",
     "shell.execute_reply.started": "2024-04-16T20:32:08.773701Z"
    }
   },
   "outputs": [],
   "source": [
    "import numpy as np\n",
    "import pandas as pd\n",
    "from rouge import Rouge\n",
    "from nltk.translate.bleu_score import corpus_bleu"
   ]
  },
  {
   "cell_type": "markdown",
   "metadata": {},
   "source": [
    "# Read all files translations and reference"
   ]
  },
  {
   "cell_type": "code",
   "execution_count": 9,
   "metadata": {
    "execution": {
     "iopub.execute_input": "2024-04-16T20:08:01.663063Z",
     "iopub.status.busy": "2024-04-16T20:08:01.662463Z",
     "iopub.status.idle": "2024-04-16T20:08:01.670875Z",
     "shell.execute_reply": "2024-04-16T20:08:01.669321Z",
     "shell.execute_reply.started": "2024-04-16T20:08:01.663024Z"
    }
   },
   "outputs": [],
   "source": [
    "# Load These sentences\n",
    "def load_sentences(file_path):\n",
    "    with open(file_path, 'r',encoding='utf8') as file:\n",
    "        # Read the entire file content into a string\n",
    "        content = file.readlines()\n",
    "    return content"
   ]
  },
  {
   "cell_type": "code",
   "execution_count": 25,
   "metadata": {
    "execution": {
     "iopub.execute_input": "2024-04-16T20:22:29.088361Z",
     "iopub.status.busy": "2024-04-16T20:22:29.087830Z",
     "iopub.status.idle": "2024-04-16T20:22:29.126168Z",
     "shell.execute_reply": "2024-04-16T20:22:29.124668Z",
     "shell.execute_reply.started": "2024-04-16T20:22:29.088326Z"
    }
   },
   "outputs": [],
   "source": [
    "# Reading Reference\n",
    "en_reference = load_sentences(\"/kaggle/input/reference/english_sentences.txt\")\n",
    "hi_reference = load_sentences(\"/kaggle/input/reference/hindi_sentences.txt\")\n",
    "gu_reference = load_sentences(\"/kaggle/input/reference/gujarati_sentences.txt\")"
   ]
  },
  {
   "cell_type": "code",
   "execution_count": 27,
   "metadata": {
    "execution": {
     "iopub.execute_input": "2024-04-16T20:22:58.859162Z",
     "iopub.status.busy": "2024-04-16T20:22:58.858105Z",
     "iopub.status.idle": "2024-04-16T20:22:58.864856Z",
     "shell.execute_reply": "2024-04-16T20:22:58.863645Z",
     "shell.execute_reply.started": "2024-04-16T20:22:58.859125Z"
    }
   },
   "outputs": [
    {
     "name": "stdout",
     "output_type": "stream",
     "text": [
      "1000\n",
      "1000\n",
      "1000\n"
     ]
    }
   ],
   "source": [
    "print(len(en_reference))\n",
    "print(len(gu_reference))\n",
    "print(len(hi_reference))"
   ]
  },
  {
   "cell_type": "code",
   "execution_count": 28,
   "metadata": {
    "execution": {
     "iopub.execute_input": "2024-04-16T20:23:05.723509Z",
     "iopub.status.busy": "2024-04-16T20:23:05.723064Z",
     "iopub.status.idle": "2024-04-16T20:23:05.756007Z",
     "shell.execute_reply": "2024-04-16T20:23:05.754528Z",
     "shell.execute_reply.started": "2024-04-16T20:23:05.723457Z"
    }
   },
   "outputs": [],
   "source": [
    "# Chat Gpt Translation\n",
    "chatgpt_translated_en_hi = load_sentences(\"/kaggle/input/dataset-2/chatgpt_translated_en_hi.txt\")\n",
    "chatgpt_translated_gu_hi = load_sentences(\"/kaggle/input/dataset-2/chatgpt_translated_gu_hi.txt\")\n",
    "chatgpt_translated_hi_en = load_sentences(\"/kaggle/input/dataset-2/chatgpt_translated_hi_en.txt\")\n",
    "chatgpt_translated_hi_gu = load_sentences(\"/kaggle/input/dataset-2/chatgpt_translated_hi_gu.txt\")\n",
    "\n",
    "# DistilledTranslation\n",
    "distilled_translated_gu_hi = load_sentences(\"/kaggle/input/dataset-2/distilled_translated_gu_hi.txt\")\n",
    "distilled_translated_hi_gu = load_sentences(\"/kaggle/input/dataset-2/distilled_translated_hi_gu.txt\")\n",
    "disttilled_translated_en_hi = load_sentences(\"/kaggle/input/dataset-2/disttilled_translated_en_hi.txt\")\n",
    "disttilled_translated_hi_en = load_sentences(\"/kaggle/input/dataset-2/disttilled_translated_hi_en.txt\")\n",
    "\n",
    "# IndicTrans Translation\n",
    "indictrans_translated_en_hi = load_sentences(\"/kaggle/input/dataset-2/indictrans_translated_en_hi.txt\")\n",
    "indictrans_translated_gu_hi = load_sentences(\"/kaggle/input/dataset-2/indictrans_translated_gu_hi.txt\")\n",
    "indictrans_translated_hi_en = load_sentences(\"/kaggle/input/dataset-2/indictrans_translated_hi_en.txt\")\n",
    "indictrans_translated_hi_gu  = load_sentences(\"/kaggle/input/dataset-2/indictrans_translated_hi_gu.txt\")"
   ]
  },
  {
   "cell_type": "code",
   "execution_count": 29,
   "metadata": {
    "execution": {
     "iopub.execute_input": "2024-04-16T20:23:06.014402Z",
     "iopub.status.busy": "2024-04-16T20:23:06.013957Z",
     "iopub.status.idle": "2024-04-16T20:23:06.026237Z",
     "shell.execute_reply": "2024-04-16T20:23:06.024849Z",
     "shell.execute_reply.started": "2024-04-16T20:23:06.014370Z"
    }
   },
   "outputs": [
    {
     "name": "stdout",
     "output_type": "stream",
     "text": [
      "Length of chatgpt_translated_en_hi: 50\n",
      "Length of chatgpt_translated_gu_hi: 50\n",
      "Length of chatgpt_translated_hi_en: 50\n",
      "Length of chatgpt_translated_hi_gu: 50\n",
      "Length of distilled_translated_gu_hi: 1000\n",
      "Length of distilled_translated_hi_gu: 1000\n",
      "Length of disttilled_translated_en_hi: 1000\n",
      "Length of disttilled_translated_hi_en: 1000\n",
      "Length of indictrans_translated_en_hi: 1000\n",
      "Length of indictrans_translated_gu_hi: 1000\n",
      "Length of indictrans_translated_hi_en: 1000\n",
      "Length of indictrans_translated_hi_gu: 1000\n"
     ]
    }
   ],
   "source": [
    "# Print the length of each variable\n",
    "print(\"Length of chatgpt_translated_en_hi:\", len(chatgpt_translated_en_hi))\n",
    "print(\"Length of chatgpt_translated_gu_hi:\", len(chatgpt_translated_gu_hi))\n",
    "print(\"Length of chatgpt_translated_hi_en:\", len(chatgpt_translated_hi_en))\n",
    "print(\"Length of chatgpt_translated_hi_gu:\", len(chatgpt_translated_hi_gu))\n",
    "print(\"Length of distilled_translated_gu_hi:\", len(distilled_translated_gu_hi))\n",
    "print(\"Length of distilled_translated_hi_gu:\", len(distilled_translated_hi_gu))\n",
    "print(\"Length of disttilled_translated_en_hi:\", len(disttilled_translated_en_hi))\n",
    "print(\"Length of disttilled_translated_hi_en:\", len(disttilled_translated_hi_en))\n",
    "print(\"Length of indictrans_translated_en_hi:\", len(indictrans_translated_en_hi))\n",
    "print(\"Length of indictrans_translated_gu_hi:\", len(indictrans_translated_gu_hi))\n",
    "print(\"Length of indictrans_translated_hi_en:\", len(indictrans_translated_hi_en))\n",
    "print(\"Length of indictrans_translated_hi_gu:\", len(indictrans_translated_hi_gu))"
   ]
  },
  {
   "cell_type": "markdown",
   "metadata": {},
   "source": [
    "# Calculate Rogue and BLEU Score"
   ]
  },
  {
   "cell_type": "code",
   "execution_count": 64,
   "metadata": {
    "execution": {
     "iopub.execute_input": "2024-04-16T21:04:24.732349Z",
     "iopub.status.busy": "2024-04-16T21:04:24.731844Z",
     "iopub.status.idle": "2024-04-16T21:04:24.746782Z",
     "shell.execute_reply": "2024-04-16T21:04:24.744577Z",
     "shell.execute_reply.started": "2024-04-16T21:04:24.732313Z"
    }
   },
   "outputs": [],
   "source": [
    "translations_ref = [\n",
    "    ['Chatgpt translated en_hi',chatgpt_translated_en_hi,hi_reference[:50]],\n",
    "    ['Chatgpt translated hi_en',chatgpt_translated_hi_en,en_reference[:50]],\n",
    "    ['Chatgpt translated gu_hi',chatgpt_translated_gu_hi,hi_reference[:50]],\n",
    "    ['Chatgpt translated hi_gu',chatgpt_translated_hi_gu,gu_reference[:50]],\n",
    "    ['Distilled Translated en_hi',disttilled_translated_en_hi,hi_reference],\n",
    "    ['Distilled Translated hi_en',disttilled_translated_hi_en,en_reference],\n",
    "    ['Distilled Translated gu_hi',distilled_translated_gu_hi,hi_reference],\n",
    "    ['Distilled Translated hi_gu',distilled_translated_hi_gu,gu_reference],\n",
    "   \n",
    "    ['Indictrans Translated en_hi',indictrans_translated_en_hi,hi_reference],\n",
    "    ['Indictrans Translated hi_en',indictrans_translated_hi_en,en_reference],\n",
    "    ['Indictrans Translated gu_hi',indictrans_translated_gu_hi,hi_reference],\n",
    "    ['Indictrans Translated hi_gu',indictrans_translated_hi_gu,gu_reference]\n",
    "]"
   ]
  },
  {
   "cell_type": "code",
   "execution_count": 65,
   "metadata": {
    "execution": {
     "iopub.execute_input": "2024-04-16T21:04:27.431807Z",
     "iopub.status.busy": "2024-04-16T21:04:27.431260Z",
     "iopub.status.idle": "2024-04-16T21:04:27.440052Z",
     "shell.execute_reply": "2024-04-16T21:04:27.438168Z",
     "shell.execute_reply.started": "2024-04-16T21:04:27.431771Z"
    }
   },
   "outputs": [],
   "source": [
    "def calc_scores(reference,translation):\n",
    "    rouge = Rouge()\n",
    "    rouge_scores = rouge.get_scores(translation,reference, avg=True)\n",
    "    bleu_score = corpus_bleu(reference, translation)\n",
    "    print(bleu_score,rouge_scores)\n",
    "    \n",
    "    "
   ]
  },
  {
   "cell_type": "code",
   "execution_count": 66,
   "metadata": {
    "execution": {
     "iopub.execute_input": "2024-04-16T21:04:36.904076Z",
     "iopub.status.busy": "2024-04-16T21:04:36.903591Z",
     "iopub.status.idle": "2024-04-16T21:07:42.687833Z",
     "shell.execute_reply": "2024-04-16T21:07:42.686090Z",
     "shell.execute_reply.started": "2024-04-16T21:04:36.904042Z"
    }
   },
   "outputs": [
    {
     "name": "stdout",
     "output_type": "stream",
     "text": [
      "Chatgpt translated en_hi\n"
     ]
    },
    {
     "name": "stderr",
     "output_type": "stream",
     "text": [
      "/opt/conda/lib/python3.10/site-packages/nltk/translate/bleu_score.py:490: UserWarning: \n",
      "Corpus/Sentence contains 0 counts of 2-gram overlaps.\n",
      "BLEU scores might be undesirable; use SmoothingFunction().\n",
      "  warnings.warn(_msg)\n",
      "/tmp/ipykernel_33/4086457222.py:10: FutureWarning: The behavior of DataFrame concatenation with empty or all-NA entries is deprecated. In a future version, this will no longer exclude empty or all-NA columns when determining the result dtypes. To retain the old behavior, exclude the relevant entries before the concat operation.\n",
      "  output_dataframe = pd.concat([output_dataframe, pd.DataFrame({\n"
     ]
    },
    {
     "name": "stdout",
     "output_type": "stream",
     "text": [
      "Chatgpt translated gu_hi\n",
      "Chatgpt translated hi_en\n",
      "Chatgpt translated hi_gu\n",
      "Distilled Translated gu_hi\n",
      "Distilled Translated hi_gu\n",
      "Distilled Translated en_hi\n",
      "Distilled Translated hi_en\n",
      "Indictrans Translated en_hi\n",
      "Indictrans Translated gu_hi\n",
      "Indictrans Translated hi_en\n",
      "Indictrans Translated hi_gu\n"
     ]
    }
   ],
   "source": [
    "# Define an empty DataFrame\n",
    "output_dataframe = pd.DataFrame(columns=['Translation', 'BLEU', 'ROUGE-1 Recall', 'ROUGE-1 Precision', 'ROUGE-1 F1', \n",
    "                           'ROUGE-2 Recall', 'ROUGE-2 Precision', 'ROUGE-2 F1', \n",
    "                           'ROUGE-L Recall', 'ROUGE-L Precision', 'ROUGE-L F1'])\n",
    "for word,translation,reference in translations_ref:\n",
    "    print(word)\n",
    "    rouge = Rouge()\n",
    "    rouge_scores = rouge.get_scores(translation, reference, avg=True)\n",
    "    bleu_score = corpus_bleu(reference, translation)\n",
    "    output_dataframe = pd.concat([output_dataframe, pd.DataFrame({\n",
    "        'Translation': [word],\n",
    "        'BLEU': [bleu_score],\n",
    "        'ROUGE-1 Recall': [rouge_scores['rouge-1']['r']],\n",
    "        'ROUGE-1 Precision': [rouge_scores['rouge-1']['p']],\n",
    "        'ROUGE-1 F1': [rouge_scores['rouge-1']['f']],\n",
    "        'ROUGE-2 Recall': [rouge_scores['rouge-2']['r']],\n",
    "        'ROUGE-2 Precision': [rouge_scores['rouge-2']['p']],\n",
    "        'ROUGE-2 F1': [rouge_scores['rouge-2']['f']],\n",
    "        'ROUGE-L Recall': [rouge_scores['rouge-l']['r']],\n",
    "        'ROUGE-L Precision': [rouge_scores['rouge-l']['p']],\n",
    "        'ROUGE-L F1': [rouge_scores['rouge-l']['f']]\n",
    "    })], ignore_index=True)"
   ]
  },
  {
   "cell_type": "code",
   "execution_count": 67,
   "metadata": {
    "execution": {
     "iopub.execute_input": "2024-04-16T21:07:46.576324Z",
     "iopub.status.busy": "2024-04-16T21:07:46.575870Z",
     "iopub.status.idle": "2024-04-16T21:07:46.602139Z",
     "shell.execute_reply": "2024-04-16T21:07:46.600592Z",
     "shell.execute_reply.started": "2024-04-16T21:07:46.576291Z"
    }
   },
   "outputs": [
    {
     "data": {
      "text/html": [
       "<div>\n",
       "<style scoped>\n",
       "    .dataframe tbody tr th:only-of-type {\n",
       "        vertical-align: middle;\n",
       "    }\n",
       "\n",
       "    .dataframe tbody tr th {\n",
       "        vertical-align: top;\n",
       "    }\n",
       "\n",
       "    .dataframe thead th {\n",
       "        text-align: right;\n",
       "    }\n",
       "</style>\n",
       "<table border=\"1\" class=\"dataframe\">\n",
       "  <thead>\n",
       "    <tr style=\"text-align: right;\">\n",
       "      <th></th>\n",
       "      <th>Translation</th>\n",
       "      <th>BLEU</th>\n",
       "      <th>ROUGE-1 Recall</th>\n",
       "      <th>ROUGE-1 Precision</th>\n",
       "      <th>ROUGE-1 F1</th>\n",
       "      <th>ROUGE-2 Recall</th>\n",
       "      <th>ROUGE-2 Precision</th>\n",
       "      <th>ROUGE-2 F1</th>\n",
       "      <th>ROUGE-L Recall</th>\n",
       "      <th>ROUGE-L Precision</th>\n",
       "      <th>ROUGE-L F1</th>\n",
       "    </tr>\n",
       "  </thead>\n",
       "  <tbody>\n",
       "    <tr>\n",
       "      <th>0</th>\n",
       "      <td>Chatgpt translated en_hi</td>\n",
       "      <td>0.729329</td>\n",
       "      <td>0.531472</td>\n",
       "      <td>0.555784</td>\n",
       "      <td>0.541155</td>\n",
       "      <td>0.281526</td>\n",
       "      <td>0.290554</td>\n",
       "      <td>0.284614</td>\n",
       "      <td>0.495290</td>\n",
       "      <td>0.517195</td>\n",
       "      <td>0.503938</td>\n",
       "    </tr>\n",
       "    <tr>\n",
       "      <th>1</th>\n",
       "      <td>Chatgpt translated gu_hi</td>\n",
       "      <td>0.722705</td>\n",
       "      <td>0.518689</td>\n",
       "      <td>0.535191</td>\n",
       "      <td>0.521883</td>\n",
       "      <td>0.276561</td>\n",
       "      <td>0.282618</td>\n",
       "      <td>0.276655</td>\n",
       "      <td>0.485841</td>\n",
       "      <td>0.501858</td>\n",
       "      <td>0.489109</td>\n",
       "    </tr>\n",
       "    <tr>\n",
       "      <th>2</th>\n",
       "      <td>Chatgpt translated hi_en</td>\n",
       "      <td>0.690157</td>\n",
       "      <td>0.761702</td>\n",
       "      <td>0.746226</td>\n",
       "      <td>0.751791</td>\n",
       "      <td>0.570784</td>\n",
       "      <td>0.560374</td>\n",
       "      <td>0.563808</td>\n",
       "      <td>0.726378</td>\n",
       "      <td>0.713010</td>\n",
       "      <td>0.717659</td>\n",
       "    </tr>\n",
       "    <tr>\n",
       "      <th>3</th>\n",
       "      <td>Chatgpt translated hi_gu</td>\n",
       "      <td>0.730674</td>\n",
       "      <td>0.396024</td>\n",
       "      <td>0.396360</td>\n",
       "      <td>0.393764</td>\n",
       "      <td>0.164179</td>\n",
       "      <td>0.163943</td>\n",
       "      <td>0.162737</td>\n",
       "      <td>0.384146</td>\n",
       "      <td>0.383932</td>\n",
       "      <td>0.381655</td>\n",
       "    </tr>\n",
       "    <tr>\n",
       "      <th>4</th>\n",
       "      <td>Distilled Translated gu_hi</td>\n",
       "      <td>0.747860</td>\n",
       "      <td>0.576859</td>\n",
       "      <td>0.613558</td>\n",
       "      <td>0.589458</td>\n",
       "      <td>0.353576</td>\n",
       "      <td>0.377127</td>\n",
       "      <td>0.361473</td>\n",
       "      <td>0.544106</td>\n",
       "      <td>0.577773</td>\n",
       "      <td>0.555639</td>\n",
       "    </tr>\n",
       "    <tr>\n",
       "      <th>5</th>\n",
       "      <td>Distilled Translated hi_gu</td>\n",
       "      <td>0.762063</td>\n",
       "      <td>0.492102</td>\n",
       "      <td>0.554878</td>\n",
       "      <td>0.515032</td>\n",
       "      <td>0.270318</td>\n",
       "      <td>0.307422</td>\n",
       "      <td>0.283586</td>\n",
       "      <td>0.475317</td>\n",
       "      <td>0.535134</td>\n",
       "      <td>0.497151</td>\n",
       "    </tr>\n",
       "    <tr>\n",
       "      <th>6</th>\n",
       "      <td>Distilled Translated en_hi</td>\n",
       "      <td>0.750891</td>\n",
       "      <td>0.565828</td>\n",
       "      <td>0.610699</td>\n",
       "      <td>0.582475</td>\n",
       "      <td>0.337718</td>\n",
       "      <td>0.363933</td>\n",
       "      <td>0.347069</td>\n",
       "      <td>0.530345</td>\n",
       "      <td>0.571730</td>\n",
       "      <td>0.545652</td>\n",
       "    </tr>\n",
       "    <tr>\n",
       "      <th>7</th>\n",
       "      <td>Distilled Translated hi_en</td>\n",
       "      <td>0.704123</td>\n",
       "      <td>0.621209</td>\n",
       "      <td>0.639924</td>\n",
       "      <td>0.625791</td>\n",
       "      <td>0.384069</td>\n",
       "      <td>0.393621</td>\n",
       "      <td>0.385659</td>\n",
       "      <td>0.590932</td>\n",
       "      <td>0.608012</td>\n",
       "      <td>0.594979</td>\n",
       "    </tr>\n",
       "    <tr>\n",
       "      <th>8</th>\n",
       "      <td>Indictrans Translated en_hi</td>\n",
       "      <td>0.739365</td>\n",
       "      <td>0.625344</td>\n",
       "      <td>0.630915</td>\n",
       "      <td>0.624837</td>\n",
       "      <td>0.397058</td>\n",
       "      <td>0.399741</td>\n",
       "      <td>0.396220</td>\n",
       "      <td>0.591958</td>\n",
       "      <td>0.597437</td>\n",
       "      <td>0.591625</td>\n",
       "    </tr>\n",
       "    <tr>\n",
       "      <th>9</th>\n",
       "      <td>Indictrans Translated gu_hi</td>\n",
       "      <td>0.735347</td>\n",
       "      <td>0.598071</td>\n",
       "      <td>0.598180</td>\n",
       "      <td>0.594261</td>\n",
       "      <td>0.362467</td>\n",
       "      <td>0.361060</td>\n",
       "      <td>0.359278</td>\n",
       "      <td>0.564978</td>\n",
       "      <td>0.565326</td>\n",
       "      <td>0.561573</td>\n",
       "    </tr>\n",
       "    <tr>\n",
       "      <th>10</th>\n",
       "      <td>Indictrans Translated hi_en</td>\n",
       "      <td>0.697497</td>\n",
       "      <td>0.685343</td>\n",
       "      <td>0.681717</td>\n",
       "      <td>0.680317</td>\n",
       "      <td>0.455711</td>\n",
       "      <td>0.451324</td>\n",
       "      <td>0.451209</td>\n",
       "      <td>0.653278</td>\n",
       "      <td>0.649689</td>\n",
       "      <td>0.648442</td>\n",
       "    </tr>\n",
       "    <tr>\n",
       "      <th>11</th>\n",
       "      <td>Indictrans Translated hi_gu</td>\n",
       "      <td>0.743224</td>\n",
       "      <td>0.532679</td>\n",
       "      <td>0.542580</td>\n",
       "      <td>0.534371</td>\n",
       "      <td>0.284069</td>\n",
       "      <td>0.288183</td>\n",
       "      <td>0.284212</td>\n",
       "      <td>0.511295</td>\n",
       "      <td>0.520771</td>\n",
       "      <td>0.512942</td>\n",
       "    </tr>\n",
       "  </tbody>\n",
       "</table>\n",
       "</div>"
      ],
      "text/plain": [
       "                    Translation      BLEU  ROUGE-1 Recall  ROUGE-1 Precision  \\\n",
       "0      Chatgpt translated en_hi  0.729329        0.531472           0.555784   \n",
       "1      Chatgpt translated gu_hi  0.722705        0.518689           0.535191   \n",
       "2      Chatgpt translated hi_en  0.690157        0.761702           0.746226   \n",
       "3      Chatgpt translated hi_gu  0.730674        0.396024           0.396360   \n",
       "4    Distilled Translated gu_hi  0.747860        0.576859           0.613558   \n",
       "5    Distilled Translated hi_gu  0.762063        0.492102           0.554878   \n",
       "6    Distilled Translated en_hi  0.750891        0.565828           0.610699   \n",
       "7    Distilled Translated hi_en  0.704123        0.621209           0.639924   \n",
       "8   Indictrans Translated en_hi  0.739365        0.625344           0.630915   \n",
       "9   Indictrans Translated gu_hi  0.735347        0.598071           0.598180   \n",
       "10  Indictrans Translated hi_en  0.697497        0.685343           0.681717   \n",
       "11  Indictrans Translated hi_gu  0.743224        0.532679           0.542580   \n",
       "\n",
       "    ROUGE-1 F1  ROUGE-2 Recall  ROUGE-2 Precision  ROUGE-2 F1  ROUGE-L Recall  \\\n",
       "0     0.541155        0.281526           0.290554    0.284614        0.495290   \n",
       "1     0.521883        0.276561           0.282618    0.276655        0.485841   \n",
       "2     0.751791        0.570784           0.560374    0.563808        0.726378   \n",
       "3     0.393764        0.164179           0.163943    0.162737        0.384146   \n",
       "4     0.589458        0.353576           0.377127    0.361473        0.544106   \n",
       "5     0.515032        0.270318           0.307422    0.283586        0.475317   \n",
       "6     0.582475        0.337718           0.363933    0.347069        0.530345   \n",
       "7     0.625791        0.384069           0.393621    0.385659        0.590932   \n",
       "8     0.624837        0.397058           0.399741    0.396220        0.591958   \n",
       "9     0.594261        0.362467           0.361060    0.359278        0.564978   \n",
       "10    0.680317        0.455711           0.451324    0.451209        0.653278   \n",
       "11    0.534371        0.284069           0.288183    0.284212        0.511295   \n",
       "\n",
       "    ROUGE-L Precision  ROUGE-L F1  \n",
       "0            0.517195    0.503938  \n",
       "1            0.501858    0.489109  \n",
       "2            0.713010    0.717659  \n",
       "3            0.383932    0.381655  \n",
       "4            0.577773    0.555639  \n",
       "5            0.535134    0.497151  \n",
       "6            0.571730    0.545652  \n",
       "7            0.608012    0.594979  \n",
       "8            0.597437    0.591625  \n",
       "9            0.565326    0.561573  \n",
       "10           0.649689    0.648442  \n",
       "11           0.520771    0.512942  "
      ]
     },
     "execution_count": 67,
     "metadata": {},
     "output_type": "execute_result"
    }
   ],
   "source": [
    "output_dataframe"
   ]
  },
  {
   "cell_type": "code",
   "execution_count": null,
   "metadata": {},
   "outputs": [],
   "source": []
  }
 ],
 "metadata": {
  "kaggle": {
   "accelerator": "none",
   "dataSources": [
    {
     "datasetId": 4812342,
     "sourceId": 8139728,
     "sourceType": "datasetVersion"
    },
    {
     "datasetId": 4812359,
     "sourceId": 8139757,
     "sourceType": "datasetVersion"
    }
   ],
   "dockerImageVersionId": 30684,
   "isGpuEnabled": false,
   "isInternetEnabled": true,
   "language": "python",
   "sourceType": "notebook"
  },
  "kernelspec": {
   "display_name": "Python 3 (ipykernel)",
   "language": "python",
   "name": "python3"
  },
  "language_info": {
   "codemirror_mode": {
    "name": "ipython",
    "version": 3
   },
   "file_extension": ".py",
   "mimetype": "text/x-python",
   "name": "python",
   "nbconvert_exporter": "python",
   "pygments_lexer": "ipython3",
   "version": "3.11.5"
  }
 },
 "nbformat": 4,
 "nbformat_minor": 4
}
